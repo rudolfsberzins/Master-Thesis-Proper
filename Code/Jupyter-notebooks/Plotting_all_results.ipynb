{
 "cells": [
  {
   "cell_type": "code",
   "execution_count": 1,
   "metadata": {
    "collapsed": false,
    "deletable": true,
    "editable": true
   },
   "outputs": [
    {
     "name": "stdout",
     "output_type": "stream",
     "text": [
      "Using matplotlib backend: TkAgg\n"
     ]
    },
    {
     "name": "stderr",
     "output_type": "stream",
     "text": [
      "/usr/local/lib/python3.5/dist-packages/sklearn/cross_validation.py:44: DeprecationWarning: This module was deprecated in version 0.18 in favor of the model_selection module into which all the refactored classes and functions are moved. Also note that the interface of the new CV iterators are different from that of this module. This module will be removed in 0.20.\n",
      "  \"This module will be removed in 0.20.\", DeprecationWarning)\n"
     ]
    }
   ],
   "source": [
    "from __future__ import division\n",
    "from sys import argv\n",
    "import numpy as np\n",
    "import matplotlib.pyplot as plt\n",
    "%matplotlib\n",
    "from matplotlib import style\n",
    "import pickle\n",
    "\n",
    "from sklearn import cross_validation, metrics\n",
    "from sklearn.metrics import roc_curve, auc\n",
    "from sklearn.ensemble import ExtraTreesClassifier\n",
    "from sklearn.feature_selection import SelectFromModel\n",
    "\n",
    "style.use('ggplot')"
   ]
  },
  {
   "cell_type": "code",
   "execution_count": 10,
   "metadata": {
    "collapsed": false,
    "deletable": true,
    "editable": true
   },
   "outputs": [],
   "source": [
    "results = pickle.load(open('BOW_vs_W2V.pkl', 'rb'))\n",
    "rf_labs = results[2]\n",
    "bow_labs = results[5]\n",
    "w2v_labs_strict = results[8]\n",
    "w2v_labs_gen = results[11]\n",
    "w2v_labs_be = results[14]\n",
    "true_test_labels = results[15]\n",
    "\n",
    "rf_accuracy = results[0] + [np.mean(results[0])]\n",
    "rf_auc = results[1] + [np.mean(results[1])]\n",
    "rf_precision = [0.61, 0.71, 0.62, 0.75, 0.70, 0.70, 0.71, 0.64, 0.70, 0.65] + [metrics.precision_score(true_test_labels, rf_labs, average='micro')]\n",
    "rf_recall = [0.53, 0.70, 0.62, 0.67, 0.70, 0.67, 0.68, 0.64, 0.69, 0.66] + [metrics.recall_score(true_test_labels, rf_labs, average='micro')]\n",
    "\n",
    "bow_accuracy = results[3] + [np.mean(results[3])]\n",
    "bow_auc = results[4] + [np.mean(results[4])]\n",
    "bow_precision = [0.60, 0.76, 0.52, 0.67, 0.73, 0.64, 0.77, 0.58, 0.66, 0.61] + [metrics.precision_score(true_test_labels, bow_labs, average='micro')]\n",
    "bow_recall = [0.44, 0.70, 0.53, 0.53, 0.72, 0.64, 0.77, 0.56, 0.63, 0.63] + [metrics.recall_score(true_test_labels, bow_labs, average='micro')]\n",
    "\n",
    "w2v_accuracy_strict = results[6] + [np.mean(results[6])]\n",
    "w2v_auc_strict = results[7] + [np.mean(results[7])]\n",
    "w2v_precision_strict = [0.61, 0.68, 0.60, 0.69, 0.71, 0.60, 0.80, 0.62, 0.69, 0.65] + [metrics.precision_score(true_test_labels, w2v_labs_strict, average='micro')] \n",
    "w2v_recall_strict = [0.49, 0.63, 0.60, 0.59, 0.70, 0.58, 0.77, 0.62, 0.69, 0.66] + [metrics.recall_score(true_test_labels, w2v_labs_strict, average='micro')]\n",
    "\n",
    "w2v_accuracy_gen = results[9] + [np.mean(results[9])]\n",
    "w2v_auc_gen = results[10] + [np.mean(results[10])]\n",
    "w2v_precision_gen = [0.62, 0.74, 0.74, 0.71, 0.79, 0.63, 0.80, 0.62, 0.73, 0.73] + [metrics.precision_score(true_test_labels, w2v_labs_gen, average='micro')] \n",
    "w2v_recall_gen = [0.51, 0.65, 0.73, 0.64, 0.79, 0.56, 0.75, 0.62, 0.74, 0.73] + [metrics.recall_score(true_test_labels, w2v_labs_gen, average='micro')]\n",
    "\n",
    "w2v_accuracy_be = results[12] + [np.mean(results[12])]\n",
    "w2v_auc_be = results[13] + [np.mean(results[13])]\n",
    "w2v_precision_be = [0.63, 0.69, 0.74, 0.70, 0.77, 0.57, 0.83, 0.68, 0.69, 0.69] + [metrics.precision_score(true_test_labels, w2v_labs_be, average='micro')] \n",
    "w2v_recall_be = [0.54, 0.65, 0.73, 0.63, 0.77, 0.53, 0.81, 0.67, 0.69, 0.69] + [metrics.recall_score(true_test_labels, w2v_labs_be, average='micro')]\n",
    "\n",
    "accu_list = [rf_accuracy, bow_accuracy, w2v_accuracy_strict, w2v_accuracy_gen, w2v_accuracy_be]\n",
    "auc_list = [rf_auc, bow_auc,  w2v_auc_strict, w2v_auc_gen, w2v_auc_be]\n",
    "prec_list = [rf_precision, bow_precision, w2v_precision_strict, w2v_precision_gen, w2v_precision_be]\n",
    "rec_list = [rf_recall, bow_recall, w2v_recall_strict, w2v_recall_gen, w2v_recall_be]"
   ]
  },
  {
   "cell_type": "code",
   "execution_count": 11,
   "metadata": {
    "collapsed": false,
    "deletable": true,
    "editable": true
   },
   "outputs": [
    {
     "data": {
      "text/plain": [
       "<matplotlib.text.Text at 0x7f5e4a537eb8>"
      ]
     },
     "execution_count": 11,
     "metadata": {},
     "output_type": "execute_result"
    }
   ],
   "source": [
    "fig, ax = plt.subplots(2, 2)\n",
    "random_seeds = [\"144\", \"235\", \"905\", \"2895\", \"3462\", \"4225\", \"5056\", \"5192\", \"7751\", \"7813\", \"AVG\"]\n",
    "inds = list(range(11))\n",
    "for accu, auc, prec, rec, name, mar in zip(accu_list, auc_list, prec_list, rec_list, ['BOW RF', 'BOW XGB', 'W2V SR XGB', 'W2V GEN XGB', 'W2V FL XGB'], ['o', 'v', 's', '>', '^']):\n",
    "    ax[0,0].scatter(inds, accu, s=90, marker=mar, label=name+' = '+str(accu[10]))\n",
    "    ax[0,0].plot(inds, accu)\n",
    "    ax[0,0].set_title('Accuracy')\n",
    "    ax[0,0].xaxis.set_ticks(range(11))\n",
    "    ax[0,0].set_xticklabels(random_seeds)\n",
    "    ax[0,0].set_xlabel('Seeds')\n",
    "    ax[0,0].set_ylabel('Score')\n",
    "    \n",
    "    ax[0,1].scatter(inds, auc, s=90, marker=mar, label=name+' = '+str(auc[10]))\n",
    "    ax[0,1].plot(inds, auc)\n",
    "    ax[0,1].set_title('AUC Score')\n",
    "    ax[0,1].xaxis.set_ticks(range(11))\n",
    "    ax[0,1].set_xticklabels(random_seeds)\n",
    "    ax[0,1].set_xlabel('Seeds')\n",
    "    ax[0,1].set_ylabel('Score')\n",
    "    \n",
    "    ax[1,0].scatter(inds, prec, s=90, marker=mar, label=name+' = '+str(prec[10]))\n",
    "    ax[1,0].plot(inds, prec)\n",
    "    ax[1,0].set_title('Precision')\n",
    "    ax[1,0].xaxis.set_ticks(range(11))\n",
    "    ax[1,0].set_xticklabels(random_seeds)\n",
    "    ax[1,0].set_xlabel('Seeds')\n",
    "    ax[1,0].set_ylabel('Score')\n",
    "    \n",
    "    ax[1,1].scatter(inds, rec, s=90, marker=mar, label=name+' = '+str(rec[10]))\n",
    "    ax[1,1].plot(inds, rec)\n",
    "    ax[1,1].set_title('Recall')\n",
    "    ax[1,1].xaxis.set_ticks(range(11))\n",
    "    ax[1,1].set_xticklabels(random_seeds)\n",
    "    ax[1,1].set_xlabel('Seeds')\n",
    "    ax[1,1].set_ylabel('Score')\n",
    "    \n",
    "ax[0,0].legend(loc='best')\n",
    "ax[0,1].legend(loc='best')\n",
    "ax[1,0].legend(loc='best')\n",
    "ax[1,1].legend(loc='best')\n",
    "fig.suptitle('Previous Work Comparison, Organism - Yeast', fontsize=20)      "
   ]
  },
  {
   "cell_type": "code",
   "execution_count": 4,
   "metadata": {
    "collapsed": false,
    "deletable": true,
    "editable": true
   },
   "outputs": [],
   "source": [
    "def open_metrics(organism, metric):\n",
    "    SR_metrics = []\n",
    "    GEN_metrics = []\n",
    "    BE_metrics = []\n",
    "    for i in random_seeds[:10]:\n",
    "        if organism == 'human':\n",
    "            new_metric = pickle.load(open('../../Results/Final_Results/{0}/computerome_human_runs/Results/{0}/metrics/{0}_{1}_pickle_{2}.pkl'.format(organism, metric, i), 'rb'))\n",
    "        else:\n",
    "            new_metric = pickle.load(open('../../Results/Final_Results/{0}/Results/{0}/metrics/{0}_{1}_pickle_{2}.pkl'.format(organism, metric, i), 'rb'))\n",
    "        SR_metrics.extend(new_metric[0])\n",
    "        GEN_metrics.extend(new_metric[1])\n",
    "        BE_metrics.extend(new_metric[2])\n",
    "        \n",
    "    return SR_metrics, GEN_metrics, BE_metrics"
   ]
  },
  {
   "cell_type": "code",
   "execution_count": null,
   "metadata": {
    "collapsed": true,
    "deletable": true,
    "editable": true
   },
   "outputs": [],
   "source": []
  },
  {
   "cell_type": "code",
   "execution_count": 5,
   "metadata": {
    "collapsed": false,
    "deletable": true,
    "editable": true
   },
   "outputs": [],
   "source": [
    "SR_drosophila_accu, GEN_drosophila_accu, BE_drosophila_accu = open_metrics('drosophila', 'accuracy')\n",
    "SR_drosophila_auc, GEN_drosophila_auc, BE_drosophila_auc = open_metrics('drosophila', 'auc_score')\n",
    "SR_drosophila_fpr, GEN_drosophila_fpr, BE_drosophila_fpr = open_metrics('drosophila', 'fpr')\n",
    "SR_drosophila_tpr, GEN_drosophila_tpr, BE_drosophila_tpr = open_metrics('drosophila', 'tpr')\n",
    "SR_drosophila_report, GEN_drosophila_report, BE_drosophila_report = open_metrics('drosophila', 'report')\n",
    "SR_labels, GEN_labels, BE_labels = open_metrics('drosophila', 'labels')\n",
    "\n",
    "SR_drosophila_labels = [j for i in SR_labels for j in i]\n",
    "GEN_drosophila_labels = [j for i in GEN_labels for j in i]\n",
    "BE_drosophila_labels = [j for i in BE_labels for j in i]\n",
    "    \n",
    "\n",
    "    \n",
    "SR_drosophila_precision = []\n",
    "GEN_drosophila_precision = []\n",
    "BE_drosophila_precision = []\n",
    "SR_drosophila_recall = []\n",
    "GEN_drosophila_recall = []\n",
    "BE_drosophila_recall = []\n",
    "for SR, GEN, BE in zip(SR_drosophila_report, GEN_drosophila_report, BE_drosophila_report):\n",
    "    SR_drosophila_precision.append(float(SR[179:183]))\n",
    "    SR_drosophila_recall.append(float(SR[189:193]))\n",
    "    GEN_drosophila_precision.append(float(GEN[179:183]))\n",
    "    GEN_drosophila_recall.append(float(GEN[189:193]))\n",
    "    BE_drosophila_precision.append(float(BE[179:183]))\n",
    "    BE_drosophila_recall.append(float(BE[189:193]))\n",
    "    \n",
    "    \n",
    "accu_list = [SR_drosophila_accu + [np.mean(SR_drosophila_accu)],\n",
    "             GEN_drosophila_accu + [np.mean(GEN_drosophila_accu)], \n",
    "             BE_drosophila_accu + [np.mean(BE_drosophila_accu)]]\n",
    "auc_list = [SR_drosophila_auc + [np.mean(SR_drosophila_auc)],\n",
    "             GEN_drosophila_auc + [np.mean(GEN_drosophila_auc)], \n",
    "             BE_drosophila_auc + [np.mean(BE_drosophila_auc)]]\n",
    "prec_list = [SR_drosophila_precision + [np.mean(SR_drosophila_precision)],\n",
    "             GEN_drosophila_precision + [np.mean(GEN_drosophila_precision)], \n",
    "             BE_drosophila_precision + [np.mean(BE_drosophila_precision)]]\n",
    "rec_list = [SR_drosophila_recall + [np.mean(SR_drosophila_recall)],\n",
    "             GEN_drosophila_recall + [np.mean(GEN_drosophila_recall)], \n",
    "             BE_drosophila_recall + [np.mean(BE_drosophila_recall)]]"
   ]
  },
  {
   "cell_type": "code",
   "execution_count": 6,
   "metadata": {
    "collapsed": false,
    "deletable": true,
    "editable": true
   },
   "outputs": [
    {
     "data": {
      "text/plain": [
       "<matplotlib.text.Text at 0x7fec3bde8940>"
      ]
     },
     "execution_count": 6,
     "metadata": {},
     "output_type": "execute_result"
    }
   ],
   "source": [
    "fig, ax = plt.subplots(2, 2)\n",
    "random_seeds = [\"144\", \"235\", \"905\", \"2895\", \"3462\", \"4225\", \"5056\", \"5192\", \"7751\", \"7813\", \"AVG\"]\n",
    "inds = list(range(11))\n",
    "for accu, auc, prec, rec, name, mar in zip(accu_list, auc_list, prec_list, rec_list, ['STRICT', 'GENERAL', 'FULL'], ['o', 'v', 's']):\n",
    "    ax[0,0].scatter(inds, accu, s=90, marker=mar, label=name+' = '+str(accu[10]))\n",
    "    ax[0,0].plot(inds, accu)\n",
    "    ax[0,0].set_title('Accuracy')\n",
    "    ax[0,0].xaxis.set_ticks(range(11))\n",
    "    ax[0,0].set_xticklabels(random_seeds)\n",
    "    ax[0,0].set_xlabel('Seeds')\n",
    "    ax[0,0].set_ylabel('Score')\n",
    "    \n",
    "    ax[0,1].scatter(inds, auc, s=90, marker=mar, label=name+' = '+str(auc[10]))\n",
    "    ax[0,1].plot(inds, auc)\n",
    "    ax[0,1].set_title('AUC Score')\n",
    "    ax[0,1].xaxis.set_ticks(range(11))\n",
    "    ax[0,1].set_xticklabels(random_seeds)\n",
    "    ax[0,1].set_xlabel('Seeds')\n",
    "    ax[0,1].set_ylabel('Score')\n",
    "    \n",
    "    ax[1,0].scatter(inds, prec, s=90, marker=mar, label=name+' = '+str(prec[10]))\n",
    "    ax[1,0].plot(inds, prec)\n",
    "    ax[1,0].set_title('Precision')\n",
    "    ax[1,0].xaxis.set_ticks(range(11))\n",
    "    ax[1,0].set_xticklabels(random_seeds)\n",
    "    ax[1,0].set_xlabel('Seeds')\n",
    "    ax[1,0].set_ylabel('Score')\n",
    "    \n",
    "    ax[1,1].scatter(inds, rec, s=90, marker=mar, label=name+' = '+str(rec[10]))\n",
    "    ax[1,1].plot(inds, rec)\n",
    "    ax[1,1].set_title('Recall')\n",
    "    ax[1,1].xaxis.set_ticks(range(11))\n",
    "    ax[1,1].set_xticklabels(random_seeds)\n",
    "    ax[1,1].set_xlabel('Seeds')\n",
    "    ax[1,1].set_ylabel('Score')\n",
    "    \n",
    "ax[0,0].legend(loc='best')\n",
    "ax[0,1].legend(loc='best')\n",
    "ax[1,0].legend(loc='best')\n",
    "ax[1,1].legend(loc='best')\n",
    "fig.suptitle('Organism - Fruit Fly', fontsize=20)"
   ]
  },
  {
   "cell_type": "code",
   "execution_count": 7,
   "metadata": {
    "collapsed": false,
    "deletable": true,
    "editable": true
   },
   "outputs": [],
   "source": [
    "SR_drosophila_accu, GEN_drosophila_accu, BE_drosophila_accu = open_metrics('yeast', 'accuracy')\n",
    "SR_drosophila_auc, GEN_drosophila_auc, BE_drosophila_auc = open_metrics('yeast', 'auc_score')\n",
    "SR_drosophila_fpr, GEN_drosophila_fpr, BE_drosophila_fpr = open_metrics('yeast', 'fpr')\n",
    "SR_drosophila_tpr, GEN_drosophila_tpr, BE_drosophila_tpr = open_metrics('yeast', 'tpr')\n",
    "SR_drosophila_report, GEN_drosophila_report, BE_drosophila_report = open_metrics('yeast', 'report')\n",
    "SR_labels, GEN_labels, BE_labels = open_metrics('yeast', 'labels')\n",
    "\n",
    "SR_drosophila_labels = [j for i in SR_labels for j in i]\n",
    "GEN_drosophila_labels = [j for i in GEN_labels for j in i]\n",
    "BE_drosophila_labels = [j for i in BE_labels for j in i]\n",
    "    \n",
    "\n",
    "    \n",
    "SR_drosophila_precision = []\n",
    "GEN_drosophila_precision = []\n",
    "BE_drosophila_precision = []\n",
    "SR_drosophila_recall = []\n",
    "GEN_drosophila_recall = []\n",
    "BE_drosophila_recall = []\n",
    "for SR, GEN, BE in zip(SR_drosophila_report, GEN_drosophila_report, BE_drosophila_report):\n",
    "    SR_drosophila_precision.append(float(SR[179:183]))\n",
    "    SR_drosophila_recall.append(float(SR[189:193]))\n",
    "    GEN_drosophila_precision.append(float(GEN[179:183]))\n",
    "    GEN_drosophila_recall.append(float(GEN[189:193]))\n",
    "    BE_drosophila_precision.append(float(BE[179:183]))\n",
    "    BE_drosophila_recall.append(float(BE[189:193]))\n",
    "    \n",
    "    \n",
    "accu_list = [SR_drosophila_accu + [np.mean(SR_drosophila_accu)],\n",
    "             GEN_drosophila_accu + [np.mean(GEN_drosophila_accu)], \n",
    "             BE_drosophila_accu + [np.mean(BE_drosophila_accu)]]\n",
    "auc_list = [SR_drosophila_auc + [np.mean(SR_drosophila_auc)],\n",
    "             GEN_drosophila_auc + [np.mean(GEN_drosophila_auc)], \n",
    "             BE_drosophila_auc + [np.mean(BE_drosophila_auc)]]\n",
    "prec_list = [SR_drosophila_precision + [np.mean(SR_drosophila_precision)],\n",
    "             GEN_drosophila_precision + [np.mean(GEN_drosophila_precision)], \n",
    "             BE_drosophila_precision + [np.mean(BE_drosophila_precision)]]\n",
    "rec_list = [SR_drosophila_recall + [np.mean(SR_drosophila_recall)],\n",
    "             GEN_drosophila_recall + [np.mean(GEN_drosophila_recall)], \n",
    "             BE_drosophila_recall + [np.mean(BE_drosophila_recall)]]"
   ]
  },
  {
   "cell_type": "code",
   "execution_count": 8,
   "metadata": {
    "collapsed": false,
    "deletable": true,
    "editable": true
   },
   "outputs": [
    {
     "data": {
      "text/plain": [
       "<matplotlib.text.Text at 0x7fec3bc122b0>"
      ]
     },
     "execution_count": 8,
     "metadata": {},
     "output_type": "execute_result"
    }
   ],
   "source": [
    "fig, ax = plt.subplots(2, 2)\n",
    "random_seeds = [\"144\", \"235\", \"905\", \"2895\", \"3462\", \"4225\", \"5056\", \"5192\", \"7751\", \"7813\", \"AVG\"]\n",
    "inds = list(range(11))\n",
    "for accu, auc, prec, rec, name, mar in zip(accu_list, auc_list, prec_list, rec_list, ['STRICT', 'GENERAL', 'FULL'], ['o', 'v', 's']):\n",
    "    ax[0,0].scatter(inds, accu, s=90, marker=mar, label=name+' = '+str(accu[10]))\n",
    "    ax[0,0].plot(inds, accu)\n",
    "    ax[0,0].set_title('Accuracy')\n",
    "    ax[0,0].xaxis.set_ticks(range(11))\n",
    "    ax[0,0].set_xticklabels(random_seeds)\n",
    "    ax[0,0].set_xlabel('Seeds')\n",
    "    ax[0,0].set_ylabel('Score')\n",
    "    \n",
    "    ax[0,1].scatter(inds, auc, s=90, marker=mar, label=name+' = '+str(auc[10]))\n",
    "    ax[0,1].plot(inds, auc)\n",
    "    ax[0,1].set_title('AUC Score')\n",
    "    ax[0,1].xaxis.set_ticks(range(11))\n",
    "    ax[0,1].set_xticklabels(random_seeds)\n",
    "    ax[0,1].set_xlabel('Seeds')\n",
    "    ax[0,1].set_ylabel('Score')\n",
    "    \n",
    "    ax[1,0].scatter(inds, prec, s=90, marker=mar, label=name+' = '+str(prec[10]))\n",
    "    ax[1,0].plot(inds, prec)\n",
    "    ax[1,0].set_title('Precision')\n",
    "    ax[1,0].xaxis.set_ticks(range(11))\n",
    "    ax[1,0].set_xticklabels(random_seeds)\n",
    "    ax[1,0].set_xlabel('Seeds')\n",
    "    ax[1,0].set_ylabel('Score')\n",
    "    \n",
    "    ax[1,1].scatter(inds, rec, s=90, marker=mar, label=name+' = '+str(rec[10]))\n",
    "    ax[1,1].plot(inds, rec)\n",
    "    ax[1,1].set_title('Recall')\n",
    "    ax[1,1].xaxis.set_ticks(range(11))\n",
    "    ax[1,1].set_xticklabels(random_seeds)\n",
    "    ax[1,1].set_xlabel('Seeds')\n",
    "    ax[1,1].set_ylabel('Score')\n",
    "    \n",
    "ax[0,0].legend(loc='best')\n",
    "ax[0,1].legend(loc='best')\n",
    "ax[1,0].legend(loc='best')\n",
    "ax[1,1].legend(loc='best')\n",
    "fig.suptitle('Organism - Budding Yeast', fontsize=20)"
   ]
  },
  {
   "cell_type": "code",
   "execution_count": 9,
   "metadata": {
    "collapsed": false,
    "deletable": true,
    "editable": true
   },
   "outputs": [],
   "source": [
    "SR_drosophila_accu, GEN_drosophila_accu, BE_drosophila_accu = open_metrics('rat', 'accuracy')\n",
    "SR_drosophila_auc, GEN_drosophila_auc, BE_drosophila_auc = open_metrics('rat', 'auc_score')\n",
    "SR_drosophila_fpr, GEN_drosophila_fpr, BE_drosophila_fpr = open_metrics('rat', 'fpr')\n",
    "SR_drosophila_tpr, GEN_drosophila_tpr, BE_drosophila_tpr = open_metrics('rat', 'tpr')\n",
    "SR_drosophila_report, GEN_drosophila_report, BE_drosophila_report = open_metrics('rat', 'report')\n",
    "SR_labels, GEN_labels, BE_labels = open_metrics('rat', 'labels')\n",
    "\n",
    "SR_drosophila_labels = [j for i in SR_labels for j in i]\n",
    "GEN_drosophila_labels = [j for i in GEN_labels for j in i]\n",
    "BE_drosophila_labels = [j for i in BE_labels for j in i]\n",
    "    \n",
    "\n",
    "    \n",
    "SR_drosophila_precision = []\n",
    "GEN_drosophila_precision = []\n",
    "BE_drosophila_precision = []\n",
    "SR_drosophila_recall = []\n",
    "GEN_drosophila_recall = []\n",
    "BE_drosophila_recall = []\n",
    "for SR, GEN, BE in zip(SR_drosophila_report, GEN_drosophila_report, BE_drosophila_report):\n",
    "    SR_drosophila_precision.append(float(SR[179:183]))\n",
    "    SR_drosophila_recall.append(float(SR[189:193]))\n",
    "    GEN_drosophila_precision.append(float(GEN[179:183]))\n",
    "    GEN_drosophila_recall.append(float(GEN[189:193]))\n",
    "    BE_drosophila_precision.append(float(BE[179:183]))\n",
    "    BE_drosophila_recall.append(float(BE[189:193]))\n",
    "    \n",
    "    \n",
    "accu_list = [SR_drosophila_accu + [np.mean(SR_drosophila_accu)],\n",
    "             GEN_drosophila_accu + [np.mean(GEN_drosophila_accu)], \n",
    "             BE_drosophila_accu + [np.mean(BE_drosophila_accu)]]\n",
    "auc_list = [SR_drosophila_auc + [np.mean(SR_drosophila_auc)],\n",
    "             GEN_drosophila_auc + [np.mean(GEN_drosophila_auc)], \n",
    "             BE_drosophila_auc + [np.mean(BE_drosophila_auc)]]\n",
    "prec_list = [SR_drosophila_precision + [np.mean(SR_drosophila_precision)],\n",
    "             GEN_drosophila_precision + [np.mean(GEN_drosophila_precision)], \n",
    "             BE_drosophila_precision + [np.mean(BE_drosophila_precision)]]\n",
    "rec_list = [SR_drosophila_recall + [np.mean(SR_drosophila_recall)],\n",
    "             GEN_drosophila_recall + [np.mean(GEN_drosophila_recall)], \n",
    "             BE_drosophila_recall + [np.mean(BE_drosophila_recall)]]"
   ]
  },
  {
   "cell_type": "code",
   "execution_count": 10,
   "metadata": {
    "collapsed": false,
    "deletable": true,
    "editable": true
   },
   "outputs": [
    {
     "data": {
      "text/plain": [
       "<matplotlib.text.Text at 0x7fec3b97c0f0>"
      ]
     },
     "execution_count": 10,
     "metadata": {},
     "output_type": "execute_result"
    }
   ],
   "source": [
    "fig, ax = plt.subplots(2, 2)\n",
    "random_seeds = [\"144\", \"235\", \"905\", \"2895\", \"3462\", \"4225\", \"5056\", \"5192\", \"7751\", \"7813\", \"AVG\"]\n",
    "inds = list(range(11))\n",
    "for accu, auc, prec, rec, name, mar in zip(accu_list, auc_list, prec_list, rec_list, ['STRICT', 'GENERAL', 'FULL'], ['o', 'v', 's']):\n",
    "    ax[0,0].scatter(inds, accu, s=90, marker=mar, label=name+' = '+str(accu[10]))\n",
    "    ax[0,0].plot(inds, accu)\n",
    "    ax[0,0].set_title('Accuracy')\n",
    "    ax[0,0].xaxis.set_ticks(range(11))\n",
    "    ax[0,0].set_xticklabels(random_seeds)\n",
    "    ax[0,0].set_xlabel('Seeds')\n",
    "    ax[0,0].set_ylabel('Score')\n",
    "    \n",
    "    ax[0,1].scatter(inds, auc, s=90, marker=mar, label=name+' = '+str(auc[10]))\n",
    "    ax[0,1].plot(inds, auc)\n",
    "    ax[0,1].set_title('AUC Score')\n",
    "    ax[0,1].xaxis.set_ticks(range(11))\n",
    "    ax[0,1].set_xticklabels(random_seeds)\n",
    "    ax[0,1].set_xlabel('Seeds')\n",
    "    ax[0,1].set_ylabel('Score')\n",
    "    \n",
    "    ax[1,0].scatter(inds, prec, s=90, marker=mar, label=name+' = '+str(prec[10]))\n",
    "    ax[1,0].plot(inds, prec)\n",
    "    ax[1,0].set_title('Precision')\n",
    "    ax[1,0].xaxis.set_ticks(range(11))\n",
    "    ax[1,0].set_xticklabels(random_seeds)\n",
    "    ax[1,0].set_xlabel('Seeds')\n",
    "    ax[1,0].set_ylabel('Score')\n",
    "    \n",
    "    ax[1,1].scatter(inds, rec, s=90, marker=mar, label=name+' = '+str(rec[10]))\n",
    "    ax[1,1].plot(inds, rec)\n",
    "    ax[1,1].set_title('Recall')\n",
    "    ax[1,1].xaxis.set_ticks(range(11))\n",
    "    ax[1,1].set_xticklabels(random_seeds)\n",
    "    ax[1,1].set_xlabel('Seeds')\n",
    "    ax[1,1].set_ylabel('Score')\n",
    "    \n",
    "ax[0,0].legend(loc='best')\n",
    "ax[0,1].legend(loc='best')\n",
    "ax[1,0].legend(loc='best')\n",
    "ax[1,1].legend(loc='best')\n",
    "fig.suptitle('Organism - Rat', fontsize=20)"
   ]
  },
  {
   "cell_type": "code",
   "execution_count": 11,
   "metadata": {
    "collapsed": false,
    "deletable": true,
    "editable": true
   },
   "outputs": [],
   "source": [
    "SR_drosophila_accu, GEN_drosophila_accu, BE_drosophila_accu = open_metrics('mouse', 'accuracy')\n",
    "SR_drosophila_auc, GEN_drosophila_auc, BE_drosophila_auc = open_metrics('mouse', 'auc_score')\n",
    "SR_drosophila_fpr, GEN_drosophila_fpr, BE_drosophila_fpr = open_metrics('mouse', 'fpr')\n",
    "SR_drosophila_tpr, GEN_drosophila_tpr, BE_drosophila_tpr = open_metrics('mouse', 'tpr')\n",
    "SR_drosophila_report, GEN_drosophila_report, BE_drosophila_report = open_metrics('mouse', 'report')\n",
    "SR_labels, GEN_labels, BE_labels = open_metrics('mouse', 'labels')\n",
    "\n",
    "SR_drosophila_labels = [j for i in SR_labels for j in i]\n",
    "GEN_drosophila_labels = [j for i in GEN_labels for j in i]\n",
    "BE_drosophila_labels = [j for i in BE_labels for j in i]\n",
    "    \n",
    "\n",
    "    \n",
    "SR_drosophila_precision = []\n",
    "GEN_drosophila_precision = []\n",
    "BE_drosophila_precision = []\n",
    "SR_drosophila_recall = []\n",
    "GEN_drosophila_recall = []\n",
    "BE_drosophila_recall = []\n",
    "for SR, GEN, BE in zip(SR_drosophila_report, GEN_drosophila_report, BE_drosophila_report):\n",
    "    SR_drosophila_precision.append(float(SR[179:183]))\n",
    "    SR_drosophila_recall.append(float(SR[189:193]))\n",
    "    GEN_drosophila_precision.append(float(GEN[179:183]))\n",
    "    GEN_drosophila_recall.append(float(GEN[189:193]))\n",
    "    BE_drosophila_precision.append(float(BE[179:183]))\n",
    "    BE_drosophila_recall.append(float(BE[189:193]))\n",
    "    \n",
    "    \n",
    "accu_list = [SR_drosophila_accu + [np.mean(SR_drosophila_accu)],\n",
    "             GEN_drosophila_accu + [np.mean(GEN_drosophila_accu)], \n",
    "             BE_drosophila_accu + [np.mean(BE_drosophila_accu)]]\n",
    "auc_list = [SR_drosophila_auc + [np.mean(SR_drosophila_auc)],\n",
    "             GEN_drosophila_auc + [np.mean(GEN_drosophila_auc)], \n",
    "             BE_drosophila_auc + [np.mean(BE_drosophila_auc)]]\n",
    "prec_list = [SR_drosophila_precision + [np.mean(SR_drosophila_precision)],\n",
    "             GEN_drosophila_precision + [np.mean(GEN_drosophila_precision)], \n",
    "             BE_drosophila_precision + [np.mean(BE_drosophila_precision)]]\n",
    "rec_list = [SR_drosophila_recall + [np.mean(SR_drosophila_recall)],\n",
    "             GEN_drosophila_recall + [np.mean(GEN_drosophila_recall)], \n",
    "             BE_drosophila_recall + [np.mean(BE_drosophila_recall)]]"
   ]
  },
  {
   "cell_type": "code",
   "execution_count": 12,
   "metadata": {
    "collapsed": false,
    "deletable": true,
    "editable": true
   },
   "outputs": [
    {
     "data": {
      "text/plain": [
       "<matplotlib.text.Text at 0x7fec3b766668>"
      ]
     },
     "execution_count": 12,
     "metadata": {},
     "output_type": "execute_result"
    }
   ],
   "source": [
    "fig, ax = plt.subplots(2, 2)\n",
    "random_seeds = [\"144\", \"235\", \"905\", \"2895\", \"3462\", \"4225\", \"5056\", \"5192\", \"7751\", \"7813\", \"AVG\"]\n",
    "inds = list(range(11))\n",
    "for accu, auc, prec, rec, name, mar in zip(accu_list, auc_list, prec_list, rec_list, ['STRICT', 'GENERAL', 'FULL'], ['o', 'v', 's']):\n",
    "    ax[0,0].scatter(inds, accu, s=90, marker=mar, label=name+' = '+str(accu[10]))\n",
    "    ax[0,0].plot(inds, accu)\n",
    "    ax[0,0].set_title('Accuracy')\n",
    "    ax[0,0].xaxis.set_ticks(range(11))\n",
    "    ax[0,0].set_xticklabels(random_seeds)\n",
    "    ax[0,0].set_xlabel('Seeds')\n",
    "    ax[0,0].set_ylabel('Score')\n",
    "    \n",
    "    ax[0,1].scatter(inds, auc, s=90, marker=mar, label=name+' = '+str(auc[10]))\n",
    "    ax[0,1].plot(inds, auc)\n",
    "    ax[0,1].set_title('AUC Score')\n",
    "    ax[0,1].xaxis.set_ticks(range(11))\n",
    "    ax[0,1].set_xticklabels(random_seeds)\n",
    "    ax[0,1].set_xlabel('Seeds')\n",
    "    ax[0,1].set_ylabel('Score')\n",
    "    \n",
    "    ax[1,0].scatter(inds, prec, s=90, marker=mar, label=name+' = '+str(prec[10]))\n",
    "    ax[1,0].plot(inds, prec)\n",
    "    ax[1,0].set_title('Precision')\n",
    "    ax[1,0].xaxis.set_ticks(range(11))\n",
    "    ax[1,0].set_xticklabels(random_seeds)\n",
    "    ax[1,0].set_xlabel('Seeds')\n",
    "    ax[1,0].set_ylabel('Score')\n",
    "    \n",
    "    ax[1,1].scatter(inds, rec, s=90, marker=mar, label=name+' = '+str(rec[10]))\n",
    "    ax[1,1].plot(inds, rec)\n",
    "    ax[1,1].set_title('Recall')\n",
    "    ax[1,1].xaxis.set_ticks(range(11))\n",
    "    ax[1,1].set_xticklabels(random_seeds)\n",
    "    ax[1,1].set_xlabel('Seeds')\n",
    "    ax[1,1].set_ylabel('Score')\n",
    "    \n",
    "ax[0,0].legend(loc='best')\n",
    "ax[0,1].legend(loc='best')\n",
    "ax[1,0].legend(loc='best')\n",
    "ax[1,1].legend(loc='best')\n",
    "fig.suptitle('Organism - Mouse', fontsize=20)"
   ]
  },
  {
   "cell_type": "code",
   "execution_count": 13,
   "metadata": {
    "collapsed": false,
    "deletable": true,
    "editable": true
   },
   "outputs": [],
   "source": [
    "SR_drosophila_accu, GEN_drosophila_accu, BE_drosophila_accu = open_metrics('human', 'accuracy')\n",
    "SR_drosophila_auc, GEN_drosophila_auc, BE_drosophila_auc = open_metrics('human', 'auc_score')\n",
    "SR_drosophila_fpr, GEN_drosophila_fpr, BE_drosophila_fpr = open_metrics('human', 'fpr')\n",
    "SR_drosophila_tpr, GEN_drosophila_tpr, BE_drosophila_tpr = open_metrics('human', 'tpr')\n",
    "SR_drosophila_report, GEN_drosophila_report, BE_drosophila_report = open_metrics('human', 'report')\n",
    "SR_labels, GEN_labels, BE_labels = open_metrics('human', 'labels')\n",
    "\n",
    "SR_drosophila_labels = [j for i in SR_labels for j in i]\n",
    "GEN_drosophila_labels = [j for i in GEN_labels for j in i]\n",
    "BE_drosophila_labels = [j for i in BE_labels for j in i]\n",
    "    \n",
    "\n",
    "    \n",
    "SR_drosophila_precision = []\n",
    "GEN_drosophila_precision = []\n",
    "BE_drosophila_precision = []\n",
    "SR_drosophila_recall = []\n",
    "GEN_drosophila_recall = []\n",
    "BE_drosophila_recall = []\n",
    "for SR, GEN, BE in zip(SR_drosophila_report, GEN_drosophila_report, BE_drosophila_report):\n",
    "    SR_drosophila_precision.append(float(SR[179:183]))\n",
    "    SR_drosophila_recall.append(float(SR[189:193]))\n",
    "    GEN_drosophila_precision.append(float(GEN[179:183]))\n",
    "    GEN_drosophila_recall.append(float(GEN[189:193]))\n",
    "    BE_drosophila_precision.append(float(BE[179:183]))\n",
    "    BE_drosophila_recall.append(float(BE[189:193]))\n",
    "    \n",
    "    \n",
    "accu_list = [SR_drosophila_accu + [np.mean(SR_drosophila_accu)],\n",
    "             GEN_drosophila_accu + [np.mean(GEN_drosophila_accu)], \n",
    "             BE_drosophila_accu + [np.mean(BE_drosophila_accu)]]\n",
    "auc_list = [SR_drosophila_auc + [np.mean(SR_drosophila_auc)],\n",
    "             GEN_drosophila_auc + [np.mean(GEN_drosophila_auc)], \n",
    "             BE_drosophila_auc + [np.mean(BE_drosophila_auc)]]\n",
    "prec_list = [SR_drosophila_precision + [np.mean(SR_drosophila_precision)],\n",
    "             GEN_drosophila_precision + [np.mean(GEN_drosophila_precision)], \n",
    "             BE_drosophila_precision + [np.mean(BE_drosophila_precision)]]\n",
    "rec_list = [SR_drosophila_recall + [np.mean(SR_drosophila_recall)],\n",
    "             GEN_drosophila_recall + [np.mean(GEN_drosophila_recall)], \n",
    "             BE_drosophila_recall + [np.mean(BE_drosophila_recall)]]"
   ]
  },
  {
   "cell_type": "code",
   "execution_count": 14,
   "metadata": {
    "collapsed": false,
    "deletable": true,
    "editable": true
   },
   "outputs": [
    {
     "data": {
      "text/plain": [
       "<matplotlib.text.Text at 0x7fec3aabf518>"
      ]
     },
     "execution_count": 14,
     "metadata": {},
     "output_type": "execute_result"
    }
   ],
   "source": [
    "fig, ax = plt.subplots(2, 2)\n",
    "random_seeds = [\"144\", \"235\", \"905\", \"2895\", \"3462\", \"4225\", \"5056\", \"5192\", \"7751\", \"7813\", \"AVG\"]\n",
    "inds = list(range(11))\n",
    "for accu, auc, prec, rec, name, mar in zip(accu_list, auc_list, prec_list, rec_list, ['STRICT', 'GENERAL', 'FULL'], ['o', 'v', 's']):\n",
    "    ax[0,0].scatter(inds, accu, s=90, marker=mar, label=name+' = '+str(accu[10]))\n",
    "    ax[0,0].plot(inds, accu)\n",
    "    ax[0,0].set_title('Accuracy')\n",
    "    ax[0,0].xaxis.set_ticks(range(11))\n",
    "    ax[0,0].set_xticklabels(random_seeds)\n",
    "    ax[0,0].set_xlabel('Seeds')\n",
    "    ax[0,0].set_ylabel('Score')\n",
    "    \n",
    "    ax[0,1].scatter(inds, auc, s=90, marker=mar, label=name+' = '+str(auc[10]))\n",
    "    ax[0,1].plot(inds, auc)\n",
    "    ax[0,1].set_title('AUC Score')\n",
    "    ax[0,1].xaxis.set_ticks(range(11))\n",
    "    ax[0,1].set_xticklabels(random_seeds)\n",
    "    ax[0,1].set_xlabel('Seeds')\n",
    "    ax[0,1].set_ylabel('Score')\n",
    "    \n",
    "    ax[1,0].scatter(inds, prec, s=90, marker=mar, label=name+' = '+str(prec[10]))\n",
    "    ax[1,0].plot(inds, prec)\n",
    "    ax[1,0].set_title('Precision')\n",
    "    ax[1,0].xaxis.set_ticks(range(11))\n",
    "    ax[1,0].set_xticklabels(random_seeds)\n",
    "    ax[1,0].set_xlabel('Seeds')\n",
    "    ax[1,0].set_ylabel('Score')\n",
    "    \n",
    "    ax[1,1].scatter(inds, rec, s=90, marker=mar, label=name+' = '+str(rec[10]))\n",
    "    ax[1,1].plot(inds, rec)\n",
    "    ax[1,1].set_title('Recall')\n",
    "    ax[1,1].xaxis.set_ticks(range(11))\n",
    "    ax[1,1].set_xticklabels(random_seeds)\n",
    "    ax[1,1].set_xlabel('Seeds')\n",
    "    ax[1,1].set_ylabel('Score')\n",
    "    \n",
    "ax[0,0].legend(loc='best')\n",
    "ax[0,1].legend(loc='best')\n",
    "ax[1,0].legend(loc='best')\n",
    "ax[1,1].legend(loc='best')\n",
    "fig.suptitle('Organism - Human', fontsize=20)"
   ]
  },
  {
   "cell_type": "code",
   "execution_count": null,
   "metadata": {
    "collapsed": true,
    "deletable": true,
    "editable": true
   },
   "outputs": [],
   "source": []
  }
 ],
 "metadata": {
  "kernelspec": {
   "display_name": "Python 3",
   "language": "python",
   "name": "python3"
  },
  "language_info": {
   "codemirror_mode": {
    "name": "ipython",
    "version": 3
   },
   "file_extension": ".py",
   "mimetype": "text/x-python",
   "name": "python",
   "nbconvert_exporter": "python",
   "pygments_lexer": "ipython3",
   "version": "3.5.2"
  }
 },
 "nbformat": 4,
 "nbformat_minor": 2
}
