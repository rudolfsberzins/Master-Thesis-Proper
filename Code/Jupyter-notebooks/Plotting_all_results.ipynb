{
 "cells": [
  {
   "cell_type": "code",
   "execution_count": 1,
   "metadata": {
    "collapsed": false,
    "deletable": true,
    "editable": true
   },
   "outputs": [
    {
     "name": "stdout",
     "output_type": "stream",
     "text": [
      "Using matplotlib backend: TkAgg\n"
     ]
    },
    {
     "name": "stderr",
     "output_type": "stream",
     "text": [
      "/usr/local/lib/python3.5/dist-packages/sklearn/cross_validation.py:44: DeprecationWarning: This module was deprecated in version 0.18 in favor of the model_selection module into which all the refactored classes and functions are moved. Also note that the interface of the new CV iterators are different from that of this module. This module will be removed in 0.20.\n",
      "  \"This module will be removed in 0.20.\", DeprecationWarning)\n"
     ]
    }
   ],
   "source": [
    "from __future__ import division\n",
    "from sys import argv\n",
    "import numpy as np\n",
    "import matplotlib.pyplot as plt\n",
    "%matplotlib\n",
    "from matplotlib import style\n",
    "import pickle\n",
    "\n",
    "from sklearn import cross_validation, metrics\n",
    "from sklearn.metrics import roc_curve, auc\n",
    "from sklearn.ensemble import ExtraTreesClassifier\n",
    "from sklearn.feature_selection import SelectFromModel\n",
    "\n",
    "style.use('ggplot')"
   ]
  },
  {
   "cell_type": "code",
   "execution_count": 2,
   "metadata": {
    "collapsed": false,
    "deletable": true,
    "editable": true
   },
   "outputs": [],
   "source": [
    "results = pickle.load(open('BOW_vs_W2v.pkl', 'rb'))\n",
    "rf_labs = results[2]\n",
    "bow_labs = results[5]\n",
    "w2v_labs = results[8]\n",
    "true_test_labels = results[9]\n",
    "\n",
    "rf_accuracy = results[0] + [np.mean(results[0])]\n",
    "rf_auc = results[1] + [np.mean(results[1])]\n",
    "rf_precision = [0.65, 0.72, 0.59, 0.60, 0.69, 0.66, 0.67, 0.65, 0.62, 0.81] + [metrics.precision_score(true_test_labels, rf_labs, average='micro')]\n",
    "rf_recall = [0.50, 0.71, 0.59, 0.59, 0.67, 0.64, 0.67, 0.65, 0.62, 0.76] + [metrics.recall_score(true_test_labels, rf_labs, average='micro')]\n",
    "\n",
    "bow_accuracy = results[3] + [np.mean(results[3])]\n",
    "bow_auc = results[4] + [np.mean(results[4])]\n",
    "bow_precision = [0.66, 0.70, 0.78, 0.64, 0.71, 0.67, 0.7, 0.64, 0.59, 0.81] + [metrics.precision_score(true_test_labels, bow_labs, average='micro')]\n",
    "bow_recall = [0.61, 0.62, 0.72, 0.62, 0.62, 0.59, 0.70, 0.61, 0.56, 0.84] + [metrics.recall_score(true_test_labels, bow_labs, average='micro')]\n",
    "\n",
    "w2v_accuracy = results[6] + [np.mean(results[6])]\n",
    "w2v_auc = results[7] + [np.mean(results[7])]\n",
    "w2v_precision = [0.77, 0.62, 0.64, 0.61, 0.69, 0.61, 0.75, 0.62, 0.69, 0.81] + [metrics.precision_score(true_test_labels, w2v_labs, average='micro')] \n",
    "w2v_recall = [0.61, 0.57, 0.65, 0.61, 0.65, 0.60, 0.76, 0.62, 0.69, 0.82] + [metrics.recall_score(true_test_labels, w2v_labs, average='micro')]\n",
    "\n",
    "accu_list = [rf_accuracy, bow_accuracy, w2v_accuracy]\n",
    "auc_list = [rf_auc, bow_auc,  w2v_auc]\n",
    "prec_list = [rf_precision, bow_precision, w2v_precision]\n",
    "rec_list = [rf_recall, bow_recall, w2v_recall]"
   ]
  },
  {
   "cell_type": "code",
   "execution_count": 8,
   "metadata": {
    "collapsed": false,
    "deletable": true,
    "editable": true
   },
   "outputs": [
    {
     "data": {
      "text/plain": [
       "<matplotlib.text.Text at 0x7f6fc54bd9e8>"
      ]
     },
     "execution_count": 8,
     "metadata": {},
     "output_type": "execute_result"
    }
   ],
   "source": [
    "fig, ax = plt.subplots(2, 2)\n",
    "random_seeds = [\"144\", \"235\", \"905\", \"2895\", \"3462\", \"4225\", \"5056\", \"5192\", \"7751\", \"7813\", \"AVG\"]\n",
    "inds = list(range(11))\n",
    "for accu, auc, prec, rec, name, mar in zip(accu_list, auc_list, prec_list, rec_list, ['BOW RF', 'BOW XGB', 'W2V XGB'], ['o', 'v', 's']):\n",
    "    ax[0,0].scatter(inds, accu, s=90, marker=mar, label=name+' = '+str(accu[10]))\n",
    "    ax[0,0].plot(inds, accu)\n",
    "    ax[0,0].set_title('Accuracy')\n",
    "    ax[0,0].xaxis.set_ticks(range(11))\n",
    "    ax[0,0].set_xticklabels(random_seeds)\n",
    "    ax[0,0].set_xlabel('Seeds')\n",
    "    ax[0,0].set_ylabel('Score')\n",
    "    \n",
    "    ax[0,1].scatter(inds, auc, s=90, marker=mar, label=name+' = '+str(auc[10]))\n",
    "    ax[0,1].plot(inds, auc)\n",
    "    ax[0,1].set_title('AUC Score')\n",
    "    ax[0,1].xaxis.set_ticks(range(11))\n",
    "    ax[0,1].set_xticklabels(random_seeds)\n",
    "    ax[0,1].set_xlabel('Seeds')\n",
    "    ax[0,1].set_ylabel('Score')\n",
    "    \n",
    "    ax[1,0].scatter(inds, prec, s=90, marker=mar, label=name+' = '+str(prec[10]))\n",
    "    ax[1,0].plot(inds, prec)\n",
    "    ax[1,0].set_title('Precision')\n",
    "    ax[1,0].xaxis.set_ticks(range(11))\n",
    "    ax[1,0].set_xticklabels(random_seeds)\n",
    "    ax[1,0].set_xlabel('Seeds')\n",
    "    ax[1,0].set_ylabel('Score')\n",
    "    \n",
    "    ax[1,1].scatter(inds, rec, s=90, marker=mar, label=name+' = '+str(rec[10]))\n",
    "    ax[1,1].plot(inds, rec)\n",
    "    ax[1,1].set_title('Recall')\n",
    "    ax[1,1].xaxis.set_ticks(range(11))\n",
    "    ax[1,1].set_xticklabels(random_seeds)\n",
    "    ax[1,1].set_xlabel('Seeds')\n",
    "    ax[1,1].set_ylabel('Score')\n",
    "    \n",
    "ax[0,0].legend(loc='best')\n",
    "ax[0,1].legend(loc='best')\n",
    "ax[1,0].legend(loc='best')\n",
    "ax[1,1].legend(loc='best')\n",
    "fig.suptitle('Previous Work Comparison, Organism - Yeast', fontsize=20)      "
   ]
  },
  {
   "cell_type": "code",
   "execution_count": 71,
   "metadata": {
    "collapsed": false
   },
   "outputs": [],
   "source": [
    "def open_metrics(organism, metric):\n",
    "    SR_metrics = []\n",
    "    GEN_metrics = []\n",
    "    BE_metrics = []\n",
    "    for i in random_seeds[:10]:\n",
    "        if organism == 'human':\n",
    "            new_metric = pickle.load(open('../../Results/Final_Results/{0}/computerome_human_runs/Results/{0}/metrics/{0}_{1}_pickle_{2}.pkl'.format(organism, metric, i), 'rb'))\n",
    "        else:\n",
    "            new_metric = pickle.load(open('../../Results/Final_Results/{0}/Results/{0}/metrics/{0}_{1}_pickle_{2}.pkl'.format(organism, metric, i), 'rb'))\n",
    "        SR_metrics.extend(new_metric[0])\n",
    "        GEN_metrics.extend(new_metric[1])\n",
    "        BE_metrics.extend(new_metric[2])\n",
    "        \n",
    "    return SR_metrics, GEN_metrics, BE_metrics"
   ]
  },
  {
   "cell_type": "code",
   "execution_count": null,
   "metadata": {
    "collapsed": true
   },
   "outputs": [],
   "source": []
  },
  {
   "cell_type": "code",
   "execution_count": 60,
   "metadata": {
    "collapsed": false,
    "deletable": true,
    "editable": true
   },
   "outputs": [],
   "source": [
    "SR_drosophila_accu, GEN_drosophila_accu, BE_drosophila_accu = open_metrics('drosophila', 'accuracy')\n",
    "SR_drosophila_auc, GEN_drosophila_auc, BE_drosophila_auc = open_metrics('drosophila', 'auc_score')\n",
    "SR_drosophila_fpr, GEN_drosophila_fpr, BE_drosophila_fpr = open_metrics('drosophila', 'fpr')\n",
    "SR_drosophila_tpr, GEN_drosophila_tpr, BE_drosophila_tpr = open_metrics('drosophila', 'tpr')\n",
    "SR_drosophila_report, GEN_drosophila_report, BE_drosophila_report = open_metrics('drosophila', 'report')\n",
    "SR_labels, GEN_labels, BE_labels = open_metrics('drosophila', 'labels')\n",
    "\n",
    "SR_drosophila_labels = [j for i in SR_labels for j in i]\n",
    "GEN_drosophila_labels = [j for i in GEN_labels for j in i]\n",
    "BE_drosophila_labels = [j for i in BE_labels for j in i]\n",
    "    \n",
    "\n",
    "    \n",
    "SR_drosophila_precision = []\n",
    "GEN_drosophila_precision = []\n",
    "BE_drosophila_precision = []\n",
    "SR_drosophila_recall = []\n",
    "GEN_drosophila_recall = []\n",
    "BE_drosophila_recall = []\n",
    "for SR, GEN, BE in zip(SR_drosophila_report, GEN_drosophila_report, BE_drosophila_report):\n",
    "    SR_drosophila_precision.append(float(SR[179:183]))\n",
    "    SR_drosophila_recall.append(float(SR[189:193]))\n",
    "    GEN_drosophila_precision.append(float(GEN[179:183]))\n",
    "    GEN_drosophila_recall.append(float(GEN[189:193]))\n",
    "    BE_drosophila_precision.append(float(BE[179:183]))\n",
    "    BE_drosophila_recall.append(float(BE[189:193]))\n",
    "    \n",
    "    \n",
    "accu_list = [SR_drosophila_accu + [np.mean(SR_drosophila_accu)],\n",
    "             GEN_drosophila_accu + [np.mean(GEN_drosophila_accu)], \n",
    "             BE_drosophila_accu + [np.mean(BE_drosophila_accu)]]\n",
    "auc_list = [SR_drosophila_auc + [np.mean(SR_drosophila_auc)],\n",
    "             GEN_drosophila_auc + [np.mean(GEN_drosophila_auc)], \n",
    "             BE_drosophila_auc + [np.mean(BE_drosophila_auc)]]\n",
    "prec_list = [SR_drosophila_precision + [np.mean(SR_drosophila_precision)],\n",
    "             GEN_drosophila_precision + [np.mean(GEN_drosophila_precision)], \n",
    "             BE_drosophila_precision + [np.mean(BE_drosophila_precision)]]\n",
    "rec_list = [SR_drosophila_recall + [np.mean(SR_drosophila_recall)],\n",
    "             GEN_drosophila_recall + [np.mean(GEN_drosophila_recall)], \n",
    "             BE_drosophila_recall + [np.mean(BE_drosophila_recall)]]"
   ]
  },
  {
   "cell_type": "code",
   "execution_count": 61,
   "metadata": {
    "collapsed": false
   },
   "outputs": [
    {
     "data": {
      "text/plain": [
       "<matplotlib.text.Text at 0x7f6fc4f38e80>"
      ]
     },
     "execution_count": 61,
     "metadata": {},
     "output_type": "execute_result"
    }
   ],
   "source": [
    "fig, ax = plt.subplots(2, 2)\n",
    "random_seeds = [\"144\", \"235\", \"905\", \"2895\", \"3462\", \"4225\", \"5056\", \"5192\", \"7751\", \"7813\", \"AVG\"]\n",
    "inds = list(range(11))\n",
    "for accu, auc, prec, rec, name, mar in zip(accu_list, auc_list, prec_list, rec_list, ['STRICT', 'GENERAL', 'FULL'], ['o', 'v', 's']):\n",
    "    ax[0,0].scatter(inds, accu, s=90, marker=mar, label=name+' = '+str(accu[10]))\n",
    "    ax[0,0].plot(inds, accu)\n",
    "    ax[0,0].set_title('Accuracy')\n",
    "    ax[0,0].xaxis.set_ticks(range(11))\n",
    "    ax[0,0].set_xticklabels(random_seeds)\n",
    "    ax[0,0].set_xlabel('Seeds')\n",
    "    ax[0,0].set_ylabel('Score')\n",
    "    \n",
    "    ax[0,1].scatter(inds, auc, s=90, marker=mar, label=name+' = '+str(auc[10]))\n",
    "    ax[0,1].plot(inds, auc)\n",
    "    ax[0,1].set_title('AUC Score')\n",
    "    ax[0,1].xaxis.set_ticks(range(11))\n",
    "    ax[0,1].set_xticklabels(random_seeds)\n",
    "    ax[0,1].set_xlabel('Seeds')\n",
    "    ax[0,1].set_ylabel('Score')\n",
    "    \n",
    "    ax[1,0].scatter(inds, prec, s=90, marker=mar, label=name+' = '+str(prec[10]))\n",
    "    ax[1,0].plot(inds, prec)\n",
    "    ax[1,0].set_title('Precision')\n",
    "    ax[1,0].xaxis.set_ticks(range(11))\n",
    "    ax[1,0].set_xticklabels(random_seeds)\n",
    "    ax[1,0].set_xlabel('Seeds')\n",
    "    ax[1,0].set_ylabel('Score')\n",
    "    \n",
    "    ax[1,1].scatter(inds, rec, s=90, marker=mar, label=name+' = '+str(rec[10]))\n",
    "    ax[1,1].plot(inds, rec)\n",
    "    ax[1,1].set_title('Recall')\n",
    "    ax[1,1].xaxis.set_ticks(range(11))\n",
    "    ax[1,1].set_xticklabels(random_seeds)\n",
    "    ax[1,1].set_xlabel('Seeds')\n",
    "    ax[1,1].set_ylabel('Score')\n",
    "    \n",
    "ax[0,0].legend(loc='best')\n",
    "ax[0,1].legend(loc='best')\n",
    "ax[1,0].legend(loc='best')\n",
    "ax[1,1].legend(loc='best')\n",
    "fig.suptitle('Organism - Fruit Fly', fontsize=20)"
   ]
  },
  {
   "cell_type": "code",
   "execution_count": 62,
   "metadata": {
    "collapsed": false
   },
   "outputs": [],
   "source": [
    "SR_drosophila_accu, GEN_drosophila_accu, BE_drosophila_accu = open_metrics('yeast', 'accuracy')\n",
    "SR_drosophila_auc, GEN_drosophila_auc, BE_drosophila_auc = open_metrics('yeast', 'auc_score')\n",
    "SR_drosophila_fpr, GEN_drosophila_fpr, BE_drosophila_fpr = open_metrics('yeast', 'fpr')\n",
    "SR_drosophila_tpr, GEN_drosophila_tpr, BE_drosophila_tpr = open_metrics('yeast', 'tpr')\n",
    "SR_drosophila_report, GEN_drosophila_report, BE_drosophila_report = open_metrics('yeast', 'report')\n",
    "SR_labels, GEN_labels, BE_labels = open_metrics('yeast', 'labels')\n",
    "\n",
    "SR_drosophila_labels = [j for i in SR_labels for j in i]\n",
    "GEN_drosophila_labels = [j for i in GEN_labels for j in i]\n",
    "BE_drosophila_labels = [j for i in BE_labels for j in i]\n",
    "    \n",
    "\n",
    "    \n",
    "SR_drosophila_precision = []\n",
    "GEN_drosophila_precision = []\n",
    "BE_drosophila_precision = []\n",
    "SR_drosophila_recall = []\n",
    "GEN_drosophila_recall = []\n",
    "BE_drosophila_recall = []\n",
    "for SR, GEN, BE in zip(SR_drosophila_report, GEN_drosophila_report, BE_drosophila_report):\n",
    "    SR_drosophila_precision.append(float(SR[179:183]))\n",
    "    SR_drosophila_recall.append(float(SR[189:193]))\n",
    "    GEN_drosophila_precision.append(float(GEN[179:183]))\n",
    "    GEN_drosophila_recall.append(float(GEN[189:193]))\n",
    "    BE_drosophila_precision.append(float(BE[179:183]))\n",
    "    BE_drosophila_recall.append(float(BE[189:193]))\n",
    "    \n",
    "    \n",
    "accu_list = [SR_drosophila_accu + [np.mean(SR_drosophila_accu)],\n",
    "             GEN_drosophila_accu + [np.mean(GEN_drosophila_accu)], \n",
    "             BE_drosophila_accu + [np.mean(BE_drosophila_accu)]]\n",
    "auc_list = [SR_drosophila_auc + [np.mean(SR_drosophila_auc)],\n",
    "             GEN_drosophila_auc + [np.mean(GEN_drosophila_auc)], \n",
    "             BE_drosophila_auc + [np.mean(BE_drosophila_auc)]]\n",
    "prec_list = [SR_drosophila_precision + [np.mean(SR_drosophila_precision)],\n",
    "             GEN_drosophila_precision + [np.mean(GEN_drosophila_precision)], \n",
    "             BE_drosophila_precision + [np.mean(BE_drosophila_precision)]]\n",
    "rec_list = [SR_drosophila_recall + [np.mean(SR_drosophila_recall)],\n",
    "             GEN_drosophila_recall + [np.mean(GEN_drosophila_recall)], \n",
    "             BE_drosophila_recall + [np.mean(BE_drosophila_recall)]]"
   ]
  },
  {
   "cell_type": "code",
   "execution_count": 63,
   "metadata": {
    "collapsed": false
   },
   "outputs": [
    {
     "data": {
      "text/plain": [
       "<matplotlib.text.Text at 0x7f6fc4d7b0b8>"
      ]
     },
     "execution_count": 63,
     "metadata": {},
     "output_type": "execute_result"
    }
   ],
   "source": [
    "fig, ax = plt.subplots(2, 2)\n",
    "random_seeds = [\"144\", \"235\", \"905\", \"2895\", \"3462\", \"4225\", \"5056\", \"5192\", \"7751\", \"7813\", \"AVG\"]\n",
    "inds = list(range(11))\n",
    "for accu, auc, prec, rec, name, mar in zip(accu_list, auc_list, prec_list, rec_list, ['STRICT', 'GENERAL', 'FULL'], ['o', 'v', 's']):\n",
    "    ax[0,0].scatter(inds, accu, s=90, marker=mar, label=name+' = '+str(accu[10]))\n",
    "    ax[0,0].plot(inds, accu)\n",
    "    ax[0,0].set_title('Accuracy')\n",
    "    ax[0,0].xaxis.set_ticks(range(11))\n",
    "    ax[0,0].set_xticklabels(random_seeds)\n",
    "    ax[0,0].set_xlabel('Seeds')\n",
    "    ax[0,0].set_ylabel('Score')\n",
    "    \n",
    "    ax[0,1].scatter(inds, auc, s=90, marker=mar, label=name+' = '+str(auc[10]))\n",
    "    ax[0,1].plot(inds, auc)\n",
    "    ax[0,1].set_title('AUC Score')\n",
    "    ax[0,1].xaxis.set_ticks(range(11))\n",
    "    ax[0,1].set_xticklabels(random_seeds)\n",
    "    ax[0,1].set_xlabel('Seeds')\n",
    "    ax[0,1].set_ylabel('Score')\n",
    "    \n",
    "    ax[1,0].scatter(inds, prec, s=90, marker=mar, label=name+' = '+str(prec[10]))\n",
    "    ax[1,0].plot(inds, prec)\n",
    "    ax[1,0].set_title('Precision')\n",
    "    ax[1,0].xaxis.set_ticks(range(11))\n",
    "    ax[1,0].set_xticklabels(random_seeds)\n",
    "    ax[1,0].set_xlabel('Seeds')\n",
    "    ax[1,0].set_ylabel('Score')\n",
    "    \n",
    "    ax[1,1].scatter(inds, rec, s=90, marker=mar, label=name+' = '+str(rec[10]))\n",
    "    ax[1,1].plot(inds, rec)\n",
    "    ax[1,1].set_title('Recall')\n",
    "    ax[1,1].xaxis.set_ticks(range(11))\n",
    "    ax[1,1].set_xticklabels(random_seeds)\n",
    "    ax[1,1].set_xlabel('Seeds')\n",
    "    ax[1,1].set_ylabel('Score')\n",
    "    \n",
    "ax[0,0].legend(loc='best')\n",
    "ax[0,1].legend(loc='best')\n",
    "ax[1,0].legend(loc='best')\n",
    "ax[1,1].legend(loc='best')\n",
    "fig.suptitle('Organism - Budding Yeast', fontsize=20)"
   ]
  },
  {
   "cell_type": "code",
   "execution_count": 64,
   "metadata": {
    "collapsed": false,
    "deletable": true,
    "editable": true
   },
   "outputs": [],
   "source": [
    "SR_drosophila_accu, GEN_drosophila_accu, BE_drosophila_accu = open_metrics('rat', 'accuracy')\n",
    "SR_drosophila_auc, GEN_drosophila_auc, BE_drosophila_auc = open_metrics('rat', 'auc_score')\n",
    "SR_drosophila_fpr, GEN_drosophila_fpr, BE_drosophila_fpr = open_metrics('rat', 'fpr')\n",
    "SR_drosophila_tpr, GEN_drosophila_tpr, BE_drosophila_tpr = open_metrics('rat', 'tpr')\n",
    "SR_drosophila_report, GEN_drosophila_report, BE_drosophila_report = open_metrics('rat', 'report')\n",
    "SR_labels, GEN_labels, BE_labels = open_metrics('rat', 'labels')\n",
    "\n",
    "SR_drosophila_labels = [j for i in SR_labels for j in i]\n",
    "GEN_drosophila_labels = [j for i in GEN_labels for j in i]\n",
    "BE_drosophila_labels = [j for i in BE_labels for j in i]\n",
    "    \n",
    "\n",
    "    \n",
    "SR_drosophila_precision = []\n",
    "GEN_drosophila_precision = []\n",
    "BE_drosophila_precision = []\n",
    "SR_drosophila_recall = []\n",
    "GEN_drosophila_recall = []\n",
    "BE_drosophila_recall = []\n",
    "for SR, GEN, BE in zip(SR_drosophila_report, GEN_drosophila_report, BE_drosophila_report):\n",
    "    SR_drosophila_precision.append(float(SR[179:183]))\n",
    "    SR_drosophila_recall.append(float(SR[189:193]))\n",
    "    GEN_drosophila_precision.append(float(GEN[179:183]))\n",
    "    GEN_drosophila_recall.append(float(GEN[189:193]))\n",
    "    BE_drosophila_precision.append(float(BE[179:183]))\n",
    "    BE_drosophila_recall.append(float(BE[189:193]))\n",
    "    \n",
    "    \n",
    "accu_list = [SR_drosophila_accu + [np.mean(SR_drosophila_accu)],\n",
    "             GEN_drosophila_accu + [np.mean(GEN_drosophila_accu)], \n",
    "             BE_drosophila_accu + [np.mean(BE_drosophila_accu)]]\n",
    "auc_list = [SR_drosophila_auc + [np.mean(SR_drosophila_auc)],\n",
    "             GEN_drosophila_auc + [np.mean(GEN_drosophila_auc)], \n",
    "             BE_drosophila_auc + [np.mean(BE_drosophila_auc)]]\n",
    "prec_list = [SR_drosophila_precision + [np.mean(SR_drosophila_precision)],\n",
    "             GEN_drosophila_precision + [np.mean(GEN_drosophila_precision)], \n",
    "             BE_drosophila_precision + [np.mean(BE_drosophila_precision)]]\n",
    "rec_list = [SR_drosophila_recall + [np.mean(SR_drosophila_recall)],\n",
    "             GEN_drosophila_recall + [np.mean(GEN_drosophila_recall)], \n",
    "             BE_drosophila_recall + [np.mean(BE_drosophila_recall)]]"
   ]
  },
  {
   "cell_type": "code",
   "execution_count": 65,
   "metadata": {
    "collapsed": false,
    "deletable": true,
    "editable": true
   },
   "outputs": [
    {
     "data": {
      "text/plain": [
       "<matplotlib.text.Text at 0x7f6fc4b4b518>"
      ]
     },
     "execution_count": 65,
     "metadata": {},
     "output_type": "execute_result"
    }
   ],
   "source": [
    "fig, ax = plt.subplots(2, 2)\n",
    "random_seeds = [\"144\", \"235\", \"905\", \"2895\", \"3462\", \"4225\", \"5056\", \"5192\", \"7751\", \"7813\", \"AVG\"]\n",
    "inds = list(range(11))\n",
    "for accu, auc, prec, rec, name, mar in zip(accu_list, auc_list, prec_list, rec_list, ['STRICT', 'GENERAL', 'FULL'], ['o', 'v', 's']):\n",
    "    ax[0,0].scatter(inds, accu, s=90, marker=mar, label=name+' = '+str(accu[10]))\n",
    "    ax[0,0].plot(inds, accu)\n",
    "    ax[0,0].set_title('Accuracy')\n",
    "    ax[0,0].xaxis.set_ticks(range(11))\n",
    "    ax[0,0].set_xticklabels(random_seeds)\n",
    "    ax[0,0].set_xlabel('Seeds')\n",
    "    ax[0,0].set_ylabel('Score')\n",
    "    \n",
    "    ax[0,1].scatter(inds, auc, s=90, marker=mar, label=name+' = '+str(auc[10]))\n",
    "    ax[0,1].plot(inds, auc)\n",
    "    ax[0,1].set_title('AUC Score')\n",
    "    ax[0,1].xaxis.set_ticks(range(11))\n",
    "    ax[0,1].set_xticklabels(random_seeds)\n",
    "    ax[0,1].set_xlabel('Seeds')\n",
    "    ax[0,1].set_ylabel('Score')\n",
    "    \n",
    "    ax[1,0].scatter(inds, prec, s=90, marker=mar, label=name+' = '+str(prec[10]))\n",
    "    ax[1,0].plot(inds, prec)\n",
    "    ax[1,0].set_title('Precision')\n",
    "    ax[1,0].xaxis.set_ticks(range(11))\n",
    "    ax[1,0].set_xticklabels(random_seeds)\n",
    "    ax[1,0].set_xlabel('Seeds')\n",
    "    ax[1,0].set_ylabel('Score')\n",
    "    \n",
    "    ax[1,1].scatter(inds, rec, s=90, marker=mar, label=name+' = '+str(rec[10]))\n",
    "    ax[1,1].plot(inds, rec)\n",
    "    ax[1,1].set_title('Recall')\n",
    "    ax[1,1].xaxis.set_ticks(range(11))\n",
    "    ax[1,1].set_xticklabels(random_seeds)\n",
    "    ax[1,1].set_xlabel('Seeds')\n",
    "    ax[1,1].set_ylabel('Score')\n",
    "    \n",
    "ax[0,0].legend(loc='best')\n",
    "ax[0,1].legend(loc='best')\n",
    "ax[1,0].legend(loc='best')\n",
    "ax[1,1].legend(loc='best')\n",
    "fig.suptitle('Organism - Rat', fontsize=20)"
   ]
  },
  {
   "cell_type": "code",
   "execution_count": 66,
   "metadata": {
    "collapsed": false,
    "deletable": true,
    "editable": true
   },
   "outputs": [],
   "source": [
    "SR_drosophila_accu, GEN_drosophila_accu, BE_drosophila_accu = open_metrics('mouse', 'accuracy')\n",
    "SR_drosophila_auc, GEN_drosophila_auc, BE_drosophila_auc = open_metrics('mouse', 'auc_score')\n",
    "SR_drosophila_fpr, GEN_drosophila_fpr, BE_drosophila_fpr = open_metrics('mouse', 'fpr')\n",
    "SR_drosophila_tpr, GEN_drosophila_tpr, BE_drosophila_tpr = open_metrics('mouse', 'tpr')\n",
    "SR_drosophila_report, GEN_drosophila_report, BE_drosophila_report = open_metrics('mouse', 'report')\n",
    "SR_labels, GEN_labels, BE_labels = open_metrics('mouse', 'labels')\n",
    "\n",
    "SR_drosophila_labels = [j for i in SR_labels for j in i]\n",
    "GEN_drosophila_labels = [j for i in GEN_labels for j in i]\n",
    "BE_drosophila_labels = [j for i in BE_labels for j in i]\n",
    "    \n",
    "\n",
    "    \n",
    "SR_drosophila_precision = []\n",
    "GEN_drosophila_precision = []\n",
    "BE_drosophila_precision = []\n",
    "SR_drosophila_recall = []\n",
    "GEN_drosophila_recall = []\n",
    "BE_drosophila_recall = []\n",
    "for SR, GEN, BE in zip(SR_drosophila_report, GEN_drosophila_report, BE_drosophila_report):\n",
    "    SR_drosophila_precision.append(float(SR[179:183]))\n",
    "    SR_drosophila_recall.append(float(SR[189:193]))\n",
    "    GEN_drosophila_precision.append(float(GEN[179:183]))\n",
    "    GEN_drosophila_recall.append(float(GEN[189:193]))\n",
    "    BE_drosophila_precision.append(float(BE[179:183]))\n",
    "    BE_drosophila_recall.append(float(BE[189:193]))\n",
    "    \n",
    "    \n",
    "accu_list = [SR_drosophila_accu + [np.mean(SR_drosophila_accu)],\n",
    "             GEN_drosophila_accu + [np.mean(GEN_drosophila_accu)], \n",
    "             BE_drosophila_accu + [np.mean(BE_drosophila_accu)]]\n",
    "auc_list = [SR_drosophila_auc + [np.mean(SR_drosophila_auc)],\n",
    "             GEN_drosophila_auc + [np.mean(GEN_drosophila_auc)], \n",
    "             BE_drosophila_auc + [np.mean(BE_drosophila_auc)]]\n",
    "prec_list = [SR_drosophila_precision + [np.mean(SR_drosophila_precision)],\n",
    "             GEN_drosophila_precision + [np.mean(GEN_drosophila_precision)], \n",
    "             BE_drosophila_precision + [np.mean(BE_drosophila_precision)]]\n",
    "rec_list = [SR_drosophila_recall + [np.mean(SR_drosophila_recall)],\n",
    "             GEN_drosophila_recall + [np.mean(GEN_drosophila_recall)], \n",
    "             BE_drosophila_recall + [np.mean(BE_drosophila_recall)]]"
   ]
  },
  {
   "cell_type": "code",
   "execution_count": 68,
   "metadata": {
    "collapsed": false,
    "deletable": true,
    "editable": true
   },
   "outputs": [
    {
     "data": {
      "text/plain": [
       "<matplotlib.text.Text at 0x7f6fc3ef91d0>"
      ]
     },
     "execution_count": 68,
     "metadata": {},
     "output_type": "execute_result"
    }
   ],
   "source": [
    "fig, ax = plt.subplots(2, 2)\n",
    "random_seeds = [\"144\", \"235\", \"905\", \"2895\", \"3462\", \"4225\", \"5056\", \"5192\", \"7751\", \"7813\", \"AVG\"]\n",
    "inds = list(range(11))\n",
    "for accu, auc, prec, rec, name, mar in zip(accu_list, auc_list, prec_list, rec_list, ['STRICT', 'GENERAL', 'FULL'], ['o', 'v', 's']):\n",
    "    ax[0,0].scatter(inds, accu, s=90, marker=mar, label=name+' = '+str(accu[10]))\n",
    "    ax[0,0].plot(inds, accu)\n",
    "    ax[0,0].set_title('Accuracy')\n",
    "    ax[0,0].xaxis.set_ticks(range(11))\n",
    "    ax[0,0].set_xticklabels(random_seeds)\n",
    "    ax[0,0].set_xlabel('Seeds')\n",
    "    ax[0,0].set_ylabel('Score')\n",
    "    \n",
    "    ax[0,1].scatter(inds, auc, s=90, marker=mar, label=name+' = '+str(auc[10]))\n",
    "    ax[0,1].plot(inds, auc)\n",
    "    ax[0,1].set_title('AUC Score')\n",
    "    ax[0,1].xaxis.set_ticks(range(11))\n",
    "    ax[0,1].set_xticklabels(random_seeds)\n",
    "    ax[0,1].set_xlabel('Seeds')\n",
    "    ax[0,1].set_ylabel('Score')\n",
    "    \n",
    "    ax[1,0].scatter(inds, prec, s=90, marker=mar, label=name+' = '+str(prec[10]))\n",
    "    ax[1,0].plot(inds, prec)\n",
    "    ax[1,0].set_title('Precision')\n",
    "    ax[1,0].xaxis.set_ticks(range(11))\n",
    "    ax[1,0].set_xticklabels(random_seeds)\n",
    "    ax[1,0].set_xlabel('Seeds')\n",
    "    ax[1,0].set_ylabel('Score')\n",
    "    \n",
    "    ax[1,1].scatter(inds, rec, s=90, marker=mar, label=name+' = '+str(rec[10]))\n",
    "    ax[1,1].plot(inds, rec)\n",
    "    ax[1,1].set_title('Recall')\n",
    "    ax[1,1].xaxis.set_ticks(range(11))\n",
    "    ax[1,1].set_xticklabels(random_seeds)\n",
    "    ax[1,1].set_xlabel('Seeds')\n",
    "    ax[1,1].set_ylabel('Score')\n",
    "    \n",
    "ax[0,0].legend(loc='best')\n",
    "ax[0,1].legend(loc='best')\n",
    "ax[1,0].legend(loc='best')\n",
    "ax[1,1].legend(loc='best')\n",
    "fig.suptitle('Organism - Mouse', fontsize=20)"
   ]
  },
  {
   "cell_type": "code",
   "execution_count": 72,
   "metadata": {
    "collapsed": false,
    "deletable": true,
    "editable": true
   },
   "outputs": [],
   "source": [
    "SR_drosophila_accu, GEN_drosophila_accu, BE_drosophila_accu = open_metrics('human', 'accuracy')\n",
    "SR_drosophila_auc, GEN_drosophila_auc, BE_drosophila_auc = open_metrics('human', 'auc_score')\n",
    "SR_drosophila_fpr, GEN_drosophila_fpr, BE_drosophila_fpr = open_metrics('human', 'fpr')\n",
    "SR_drosophila_tpr, GEN_drosophila_tpr, BE_drosophila_tpr = open_metrics('human', 'tpr')\n",
    "SR_drosophila_report, GEN_drosophila_report, BE_drosophila_report = open_metrics('human', 'report')\n",
    "SR_labels, GEN_labels, BE_labels = open_metrics('human', 'labels')\n",
    "\n",
    "SR_drosophila_labels = [j for i in SR_labels for j in i]\n",
    "GEN_drosophila_labels = [j for i in GEN_labels for j in i]\n",
    "BE_drosophila_labels = [j for i in BE_labels for j in i]\n",
    "    \n",
    "\n",
    "    \n",
    "SR_drosophila_precision = []\n",
    "GEN_drosophila_precision = []\n",
    "BE_drosophila_precision = []\n",
    "SR_drosophila_recall = []\n",
    "GEN_drosophila_recall = []\n",
    "BE_drosophila_recall = []\n",
    "for SR, GEN, BE in zip(SR_drosophila_report, GEN_drosophila_report, BE_drosophila_report):\n",
    "    SR_drosophila_precision.append(float(SR[179:183]))\n",
    "    SR_drosophila_recall.append(float(SR[189:193]))\n",
    "    GEN_drosophila_precision.append(float(GEN[179:183]))\n",
    "    GEN_drosophila_recall.append(float(GEN[189:193]))\n",
    "    BE_drosophila_precision.append(float(BE[179:183]))\n",
    "    BE_drosophila_recall.append(float(BE[189:193]))\n",
    "    \n",
    "    \n",
    "accu_list = [SR_drosophila_accu + [np.mean(SR_drosophila_accu)],\n",
    "             GEN_drosophila_accu + [np.mean(GEN_drosophila_accu)], \n",
    "             BE_drosophila_accu + [np.mean(BE_drosophila_accu)]]\n",
    "auc_list = [SR_drosophila_auc + [np.mean(SR_drosophila_auc)],\n",
    "             GEN_drosophila_auc + [np.mean(GEN_drosophila_auc)], \n",
    "             BE_drosophila_auc + [np.mean(BE_drosophila_auc)]]\n",
    "prec_list = [SR_drosophila_precision + [np.mean(SR_drosophila_precision)],\n",
    "             GEN_drosophila_precision + [np.mean(GEN_drosophila_precision)], \n",
    "             BE_drosophila_precision + [np.mean(BE_drosophila_precision)]]\n",
    "rec_list = [SR_drosophila_recall + [np.mean(SR_drosophila_recall)],\n",
    "             GEN_drosophila_recall + [np.mean(GEN_drosophila_recall)], \n",
    "             BE_drosophila_recall + [np.mean(BE_drosophila_recall)]]"
   ]
  },
  {
   "cell_type": "code",
   "execution_count": 73,
   "metadata": {
    "collapsed": false,
    "deletable": true,
    "editable": true
   },
   "outputs": [
    {
     "data": {
      "text/plain": [
       "<matplotlib.text.Text at 0x7f6fc39e0438>"
      ]
     },
     "execution_count": 73,
     "metadata": {},
     "output_type": "execute_result"
    }
   ],
   "source": [
    "fig, ax = plt.subplots(2, 2)\n",
    "random_seeds = [\"144\", \"235\", \"905\", \"2895\", \"3462\", \"4225\", \"5056\", \"5192\", \"7751\", \"7813\", \"AVG\"]\n",
    "inds = list(range(11))\n",
    "for accu, auc, prec, rec, name, mar in zip(accu_list, auc_list, prec_list, rec_list, ['STRICT', 'GENERAL', 'FULL'], ['o', 'v', 's']):\n",
    "    ax[0,0].scatter(inds, accu, s=90, marker=mar, label=name+' = '+str(accu[10]))\n",
    "    ax[0,0].plot(inds, accu)\n",
    "    ax[0,0].set_title('Accuracy')\n",
    "    ax[0,0].xaxis.set_ticks(range(11))\n",
    "    ax[0,0].set_xticklabels(random_seeds)\n",
    "    ax[0,0].set_xlabel('Seeds')\n",
    "    ax[0,0].set_ylabel('Score')\n",
    "    \n",
    "    ax[0,1].scatter(inds, auc, s=90, marker=mar, label=name+' = '+str(auc[10]))\n",
    "    ax[0,1].plot(inds, auc)\n",
    "    ax[0,1].set_title('AUC Score')\n",
    "    ax[0,1].xaxis.set_ticks(range(11))\n",
    "    ax[0,1].set_xticklabels(random_seeds)\n",
    "    ax[0,1].set_xlabel('Seeds')\n",
    "    ax[0,1].set_ylabel('Score')\n",
    "    \n",
    "    ax[1,0].scatter(inds, prec, s=90, marker=mar, label=name+' = '+str(prec[10]))\n",
    "    ax[1,0].plot(inds, prec)\n",
    "    ax[1,0].set_title('Precision')\n",
    "    ax[1,0].xaxis.set_ticks(range(11))\n",
    "    ax[1,0].set_xticklabels(random_seeds)\n",
    "    ax[1,0].set_xlabel('Seeds')\n",
    "    ax[1,0].set_ylabel('Score')\n",
    "    \n",
    "    ax[1,1].scatter(inds, rec, s=90, marker=mar, label=name+' = '+str(rec[10]))\n",
    "    ax[1,1].plot(inds, rec)\n",
    "    ax[1,1].set_title('Recall')\n",
    "    ax[1,1].xaxis.set_ticks(range(11))\n",
    "    ax[1,1].set_xticklabels(random_seeds)\n",
    "    ax[1,1].set_xlabel('Seeds')\n",
    "    ax[1,1].set_ylabel('Score')\n",
    "    \n",
    "ax[0,0].legend(loc='best')\n",
    "ax[0,1].legend(loc='best')\n",
    "ax[1,0].legend(loc='best')\n",
    "ax[1,1].legend(loc='best')\n",
    "fig.suptitle('Organism - Human', fontsize=20)"
   ]
  },
  {
   "cell_type": "code",
   "execution_count": null,
   "metadata": {
    "collapsed": true
   },
   "outputs": [],
   "source": []
  }
 ],
 "metadata": {
  "kernelspec": {
   "display_name": "Python 3",
   "language": "python",
   "name": "python3"
  },
  "language_info": {
   "codemirror_mode": {
    "name": "ipython",
    "version": 3
   },
   "file_extension": ".py",
   "mimetype": "text/x-python",
   "name": "python",
   "nbconvert_exporter": "python",
   "pygments_lexer": "ipython3",
   "version": "3.5.2"
  }
 },
 "nbformat": 4,
 "nbformat_minor": 2
}
