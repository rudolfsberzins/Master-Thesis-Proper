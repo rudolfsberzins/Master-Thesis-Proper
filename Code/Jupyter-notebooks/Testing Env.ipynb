{
 "cells": [
  {
   "cell_type": "code",
   "execution_count": 1,
   "metadata": {
    "collapsed": true
   },
   "outputs": [],
   "source": [
    "import pickle\n",
    "import os\n",
    "import re\n",
    "from sklearn.metrics import roc_curve, auc\n",
    "import numpy as np\n",
    "from gensim.models import word2vec\n",
    "import logging"
   ]
  },
  {
   "cell_type": "code",
   "execution_count": 2,
   "metadata": {
    "collapsed": false
   },
   "outputs": [
    {
     "name": "stderr",
     "output_type": "stream",
     "text": [
      "/usr/local/lib/python3.5/dist-packages/sklearn/cross_validation.py:44: DeprecationWarning: This module was deprecated in version 0.18 in favor of the model_selection module into which all the refactored classes and functions are moved. Also note that the interface of the new CV iterators are different from that of this module. This module will be removed in 0.20.\n",
      "  \"This module will be removed in 0.20.\", DeprecationWarning)\n"
     ]
    }
   ],
   "source": [
    "from parse_and_prepare import ProteinProteinInteractionClassifier as ppi\n",
    "import file_readers as fr\n",
    "import prediction as pred"
   ]
  },
  {
   "cell_type": "code",
   "execution_count": 7,
   "metadata": {
    "collapsed": true
   },
   "outputs": [],
   "source": [
    "new_dros_strict = pickle.load(open('Results/drosophila/Results/drosophila_mentions_strict_real.pkl', 'rb'))\n",
    "new_dros_gen = pickle.load(open('Results/drosophila/Results/drosophila_mentions_gen_real.pkl', 'rb'))\n",
    "new_dros_be = pickle.load(open('Results/drosophila/Results/drosophila_mentions_be_real.pkl', 'rb'))"
   ]
  },
  {
   "cell_type": "code",
   "execution_count": 11,
   "metadata": {
    "collapsed": false
   },
   "outputs": [],
   "source": [
    "def mult_open(direct, pattern):\n",
    "    pickle_list = []\n",
    "    file_list = []\n",
    "    for f in os.listdir(direct):\n",
    "        if re.search(pattern, f):\n",
    "            f = f.split('_')\n",
    "            f[-1] = f[-1][:-4]\n",
    "            file_list.append(f)\n",
    "    file_list.sort(key = lambda x: int(x[-1]))\n",
    "    for file in file_list:\n",
    "        file = '_'.join(file)\n",
    "        file = file + '.pkl'\n",
    "        pkl = pickle.load(open(os.path.join(direct, file), 'rb'))\n",
    "        pickle_list.append(pkl)\n",
    "    return pickle_list"
   ]
  },
  {
   "cell_type": "code",
   "execution_count": 5,
   "metadata": {
    "collapsed": false
   },
   "outputs": [
    {
     "data": {
      "text/plain": [
       "7508"
      ]
     },
     "execution_count": 5,
     "metadata": {},
     "output_type": "execute_result"
    }
   ],
   "source": [
    "len(new_dros_strict)"
   ]
  },
  {
   "cell_type": "code",
   "execution_count": 8,
   "metadata": {
    "collapsed": false,
    "scrolled": true
   },
   "outputs": [
    {
     "name": "stdout",
     "output_type": "stream",
     "text": [
      "Parsing datasets sentences\n"
     ]
    },
    {
     "name": "stderr",
     "output_type": "stream",
     "text": [
      "2017-05-10 09:30:41,989 : INFO : collecting all words and their counts\n",
      "2017-05-10 09:30:41,990 : INFO : PROGRESS: at sentence #0, processed 0 words, keeping 0 word types\n",
      "2017-05-10 09:30:42,037 : INFO : PROGRESS: at sentence #10000, processed 239827 words, keeping 12999 word types\n",
      "2017-05-10 09:30:42,083 : INFO : PROGRESS: at sentence #20000, processed 480039 words, keeping 17635 word types\n",
      "2017-05-10 09:30:42,130 : INFO : PROGRESS: at sentence #30000, processed 719699 words, keeping 20774 word types\n",
      "2017-05-10 09:30:42,167 : INFO : collected 22824 word types from a corpus of 904687 raw words and 37697 sentences\n",
      "2017-05-10 09:30:42,168 : INFO : Loading a fresh vocabulary\n"
     ]
    },
    {
     "name": "stdout",
     "output_type": "stream",
     "text": [
      "Training Word2Vec Model\n"
     ]
    },
    {
     "name": "stderr",
     "output_type": "stream",
     "text": [
      "2017-05-10 09:30:42,192 : INFO : min_count=5 retains 8096 unique words (35% of original 22824, drops 14728)\n",
      "2017-05-10 09:30:42,193 : INFO : min_count=5 leaves 879988 word corpus (97% of original 904687, drops 24699)\n",
      "2017-05-10 09:30:42,214 : INFO : deleting the raw counts dictionary of 22824 items\n",
      "2017-05-10 09:30:42,216 : INFO : sample=0.001 downsamples 40 most-common words\n",
      "2017-05-10 09:30:42,217 : INFO : downsampling leaves estimated 644974 word corpus (73.3% of prior 879988)\n",
      "2017-05-10 09:30:42,217 : INFO : estimated required memory for 8096 words and 300 dimensions: 23478400 bytes\n",
      "2017-05-10 09:30:42,249 : INFO : resetting layer weights\n",
      "2017-05-10 09:30:42,344 : INFO : training model with 4 workers on 8096 vocabulary and 300 features, using sg=0 hs=0 sample=0.001 negative=5 window=6\n",
      "2017-05-10 09:30:42,345 : INFO : expecting 37697 sentences, matching count from corpus used for vocabulary survey\n",
      "2017-05-10 09:30:43,356 : INFO : PROGRESS: at 26.27% examples, 841593 words/s, in_qsize 5, out_qsize 2\n",
      "2017-05-10 09:30:44,377 : INFO : PROGRESS: at 52.74% examples, 839378 words/s, in_qsize 7, out_qsize 0\n",
      "2017-05-10 09:30:45,391 : INFO : PROGRESS: at 79.68% examples, 844880 words/s, in_qsize 5, out_qsize 2\n",
      "2017-05-10 09:30:46,084 : INFO : worker thread finished; awaiting finish of 3 more threads\n",
      "2017-05-10 09:30:46,087 : INFO : worker thread finished; awaiting finish of 2 more threads\n",
      "2017-05-10 09:30:46,094 : INFO : worker thread finished; awaiting finish of 1 more threads\n",
      "2017-05-10 09:30:46,107 : INFO : worker thread finished; awaiting finish of 0 more threads\n",
      "2017-05-10 09:30:46,108 : INFO : training on 4523435 raw words (3224640 effective words) took 3.8s, 858007 effective words/s\n",
      "2017-05-10 09:30:46,109 : INFO : precomputing L2-norms of word weight vectors\n",
      "2017-05-10 09:30:46,150 : INFO : saving Word2Vec object under Results/dros_gen_real_new_model, separately None\n",
      "2017-05-10 09:30:46,152 : INFO : not storing attribute syn0norm\n",
      "2017-05-10 09:30:46,152 : INFO : not storing attribute cum_table\n",
      "2017-05-10 09:30:46,366 : INFO : saved Results/dros_gen_real_new_model\n"
     ]
    },
    {
     "name": "stdout",
     "output_type": "stream",
     "text": [
      "Parsing datasets sentences\n"
     ]
    },
    {
     "name": "stderr",
     "output_type": "stream",
     "text": [
      "2017-05-10 09:30:48,456 : INFO : collecting all words and their counts\n",
      "2017-05-10 09:30:48,457 : INFO : PROGRESS: at sentence #0, processed 0 words, keeping 0 word types\n",
      "2017-05-10 09:30:48,497 : INFO : PROGRESS: at sentence #10000, processed 224982 words, keeping 13718 word types\n",
      "2017-05-10 09:30:48,541 : INFO : PROGRESS: at sentence #20000, processed 450127 words, keeping 18907 word types\n",
      "2017-05-10 09:30:48,584 : INFO : PROGRESS: at sentence #30000, processed 673400 words, keeping 22545 word types\n",
      "2017-05-10 09:30:48,627 : INFO : PROGRESS: at sentence #40000, processed 897083 words, keeping 25463 word types\n"
     ]
    },
    {
     "name": "stdout",
     "output_type": "stream",
     "text": [
      "Training Word2Vec Model\n"
     ]
    },
    {
     "name": "stderr",
     "output_type": "stream",
     "text": [
      "2017-05-10 09:30:48,671 : INFO : PROGRESS: at sentence #50000, processed 1121246 words, keeping 27934 word types\n",
      "2017-05-10 09:30:48,716 : INFO : PROGRESS: at sentence #60000, processed 1344770 words, keeping 30124 word types\n",
      "2017-05-10 09:30:48,759 : INFO : PROGRESS: at sentence #70000, processed 1567689 words, keeping 32207 word types\n",
      "2017-05-10 09:30:48,802 : INFO : PROGRESS: at sentence #80000, processed 1792261 words, keeping 34066 word types\n",
      "2017-05-10 09:30:48,846 : INFO : PROGRESS: at sentence #90000, processed 2014903 words, keeping 35758 word types\n",
      "2017-05-10 09:30:48,889 : INFO : PROGRESS: at sentence #100000, processed 2238809 words, keeping 37347 word types\n",
      "2017-05-10 09:30:48,932 : INFO : PROGRESS: at sentence #110000, processed 2462219 words, keeping 38780 word types\n",
      "2017-05-10 09:30:48,976 : INFO : PROGRESS: at sentence #120000, processed 2684714 words, keeping 40156 word types\n",
      "2017-05-10 09:30:49,019 : INFO : PROGRESS: at sentence #130000, processed 2908276 words, keeping 41494 word types\n",
      "2017-05-10 09:30:49,063 : INFO : PROGRESS: at sentence #140000, processed 3132974 words, keeping 42776 word types\n",
      "2017-05-10 09:30:49,107 : INFO : PROGRESS: at sentence #150000, processed 3357456 words, keeping 44010 word types\n",
      "2017-05-10 09:30:49,163 : INFO : PROGRESS: at sentence #160000, processed 3580818 words, keeping 45148 word types\n",
      "2017-05-10 09:30:49,217 : INFO : PROGRESS: at sentence #170000, processed 3802590 words, keeping 46228 word types\n",
      "2017-05-10 09:30:49,266 : INFO : PROGRESS: at sentence #180000, processed 4025074 words, keeping 47294 word types\n",
      "2017-05-10 09:30:49,309 : INFO : PROGRESS: at sentence #190000, processed 4246964 words, keeping 48301 word types\n",
      "2017-05-10 09:30:49,335 : INFO : collected 48808 word types from a corpus of 4363926 raw words and 195299 sentences\n",
      "2017-05-10 09:30:49,336 : INFO : Loading a fresh vocabulary\n",
      "2017-05-10 09:30:49,388 : INFO : min_count=5 retains 18056 unique words (36% of original 48808, drops 30752)\n",
      "2017-05-10 09:30:49,388 : INFO : min_count=5 leaves 4312296 word corpus (98% of original 4363926, drops 51630)\n",
      "2017-05-10 09:30:49,428 : INFO : deleting the raw counts dictionary of 48808 items\n",
      "2017-05-10 09:30:49,431 : INFO : sample=0.001 downsamples 36 most-common words\n",
      "2017-05-10 09:30:49,432 : INFO : downsampling leaves estimated 3224386 word corpus (74.8% of prior 4312296)\n",
      "2017-05-10 09:30:49,433 : INFO : estimated required memory for 18056 words and 300 dimensions: 52362400 bytes\n",
      "2017-05-10 09:30:49,498 : INFO : resetting layer weights\n",
      "2017-05-10 09:30:49,708 : INFO : training model with 4 workers on 18056 vocabulary and 300 features, using sg=0 hs=0 sample=0.001 negative=5 window=6\n",
      "2017-05-10 09:30:49,709 : INFO : expecting 195299 sentences, matching count from corpus used for vocabulary survey\n",
      "2017-05-10 09:30:50,718 : INFO : PROGRESS: at 5.52% examples, 890715 words/s, in_qsize 7, out_qsize 0\n",
      "2017-05-10 09:30:51,730 : INFO : PROGRESS: at 10.78% examples, 863756 words/s, in_qsize 7, out_qsize 0\n",
      "2017-05-10 09:30:52,732 : INFO : PROGRESS: at 16.09% examples, 860716 words/s, in_qsize 7, out_qsize 0\n",
      "2017-05-10 09:30:53,741 : INFO : PROGRESS: at 20.41% examples, 817335 words/s, in_qsize 7, out_qsize 0\n",
      "2017-05-10 09:30:54,763 : INFO : PROGRESS: at 25.38% examples, 811183 words/s, in_qsize 6, out_qsize 1\n",
      "2017-05-10 09:30:55,782 : INFO : PROGRESS: at 29.55% examples, 785675 words/s, in_qsize 7, out_qsize 0\n",
      "2017-05-10 09:30:56,795 : INFO : PROGRESS: at 34.13% examples, 777529 words/s, in_qsize 7, out_qsize 0\n",
      "2017-05-10 09:30:57,806 : INFO : PROGRESS: at 38.30% examples, 763275 words/s, in_qsize 7, out_qsize 0\n",
      "2017-05-10 09:30:58,814 : INFO : PROGRESS: at 42.65% examples, 755730 words/s, in_qsize 7, out_qsize 0\n",
      "2017-05-10 09:30:59,818 : INFO : PROGRESS: at 46.95% examples, 749266 words/s, in_qsize 6, out_qsize 1\n",
      "2017-05-10 09:31:00,826 : INFO : PROGRESS: at 50.79% examples, 737054 words/s, in_qsize 7, out_qsize 0\n",
      "2017-05-10 09:31:01,836 : INFO : PROGRESS: at 55.04% examples, 732249 words/s, in_qsize 7, out_qsize 0\n",
      "2017-05-10 09:31:02,865 : INFO : PROGRESS: at 59.36% examples, 727756 words/s, in_qsize 7, out_qsize 0\n",
      "2017-05-10 09:31:03,880 : INFO : PROGRESS: at 63.65% examples, 724607 words/s, in_qsize 7, out_qsize 0\n",
      "2017-05-10 09:31:04,890 : INFO : PROGRESS: at 67.91% examples, 721565 words/s, in_qsize 6, out_qsize 1\n",
      "2017-05-10 09:31:05,905 : INFO : PROGRESS: at 72.30% examples, 720137 words/s, in_qsize 8, out_qsize 0\n",
      "2017-05-10 09:31:06,908 : INFO : PROGRESS: at 76.97% examples, 721859 words/s, in_qsize 7, out_qsize 0\n",
      "2017-05-10 09:31:07,912 : INFO : PROGRESS: at 81.83% examples, 725048 words/s, in_qsize 7, out_qsize 0\n",
      "2017-05-10 09:31:08,917 : INFO : PROGRESS: at 85.21% examples, 715577 words/s, in_qsize 7, out_qsize 0\n",
      "2017-05-10 09:31:09,931 : INFO : PROGRESS: at 88.50% examples, 705940 words/s, in_qsize 6, out_qsize 1\n",
      "2017-05-10 09:31:10,942 : INFO : PROGRESS: at 92.08% examples, 699468 words/s, in_qsize 6, out_qsize 1\n",
      "2017-05-10 09:31:11,951 : INFO : PROGRESS: at 95.64% examples, 693609 words/s, in_qsize 6, out_qsize 1\n",
      "2017-05-10 09:31:12,938 : INFO : worker thread finished; awaiting finish of 3 more threads\n",
      "2017-05-10 09:31:12,939 : INFO : worker thread finished; awaiting finish of 2 more threads\n",
      "2017-05-10 09:31:12,947 : INFO : worker thread finished; awaiting finish of 1 more threads\n",
      "2017-05-10 09:31:12,949 : INFO : worker thread finished; awaiting finish of 0 more threads\n",
      "2017-05-10 09:31:12,950 : INFO : training on 21819630 raw words (16122707 effective words) took 23.2s, 693875 effective words/s\n",
      "2017-05-10 09:31:12,952 : INFO : precomputing L2-norms of word weight vectors\n",
      "2017-05-10 09:31:13,047 : INFO : saving Word2Vec object under Results/dros_both_ents_new_model, separately None\n",
      "2017-05-10 09:31:13,048 : INFO : not storing attribute syn0norm\n",
      "2017-05-10 09:31:13,049 : INFO : not storing attribute cum_table\n",
      "2017-05-10 09:31:13,440 : INFO : saved Results/dros_both_ents_new_model\n",
      "2017-05-10 09:31:13,645 : INFO : collecting all words and their counts\n",
      "2017-05-10 09:31:13,645 : INFO : PROGRESS: at sentence #0, processed 0 words, keeping 0 word types\n",
      "2017-05-10 09:31:13,678 : INFO : collected 13129 word types from a corpus of 191220 raw words and 7508 sentences\n",
      "2017-05-10 09:31:13,678 : INFO : Loading a fresh vocabulary\n",
      "2017-05-10 09:31:13,692 : INFO : min_count=5 retains 3585 unique words (27% of original 13129, drops 9544)\n",
      "2017-05-10 09:31:13,693 : INFO : min_count=5 leaves 175729 word corpus (91% of original 191220, drops 15491)\n",
      "2017-05-10 09:31:13,701 : INFO : deleting the raw counts dictionary of 13129 items\n",
      "2017-05-10 09:31:13,702 : INFO : sample=0.001 downsamples 36 most-common words\n",
      "2017-05-10 09:31:13,702 : INFO : downsampling leaves estimated 126466 word corpus (72.0% of prior 175729)\n",
      "2017-05-10 09:31:13,703 : INFO : estimated required memory for 3585 words and 300 dimensions: 10396500 bytes\n",
      "2017-05-10 09:31:13,712 : INFO : resetting layer weights\n",
      "2017-05-10 09:31:13,753 : INFO : training model with 4 workers on 3585 vocabulary and 300 features, using sg=0 hs=0 sample=0.001 negative=5 window=6\n",
      "2017-05-10 09:31:13,754 : INFO : expecting 7508 sentences, matching count from corpus used for vocabulary survey\n"
     ]
    },
    {
     "name": "stdout",
     "output_type": "stream",
     "text": [
      "Parsing datasets sentences\n",
      "Training Word2Vec Model\n"
     ]
    },
    {
     "name": "stderr",
     "output_type": "stream",
     "text": [
      "2017-05-10 09:31:14,386 : INFO : worker thread finished; awaiting finish of 3 more threads\n",
      "2017-05-10 09:31:14,399 : INFO : worker thread finished; awaiting finish of 2 more threads\n",
      "2017-05-10 09:31:14,400 : INFO : worker thread finished; awaiting finish of 1 more threads\n",
      "2017-05-10 09:31:14,405 : INFO : worker thread finished; awaiting finish of 0 more threads\n",
      "2017-05-10 09:31:14,406 : INFO : training on 956100 raw words (632427 effective words) took 0.6s, 977395 effective words/s\n",
      "2017-05-10 09:31:14,407 : INFO : precomputing L2-norms of word weight vectors\n",
      "2017-05-10 09:31:14,427 : INFO : saving Word2Vec object under Results/dros_strict_real_new_model, separately None\n",
      "2017-05-10 09:31:14,430 : INFO : not storing attribute syn0norm\n",
      "2017-05-10 09:31:14,431 : INFO : not storing attribute cum_table\n",
      "2017-05-10 09:31:14,501 : INFO : saved Results/dros_strict_real_new_model\n"
     ]
    }
   ],
   "source": [
    "gen_model = pred.make_w2v_model(new_dros_gen, 'dros_gen_real_new')\n",
    "both_ents_model = pred.make_w2v_model(new_dros_be, 'dros_both_ents_new')\n",
    "strict_model = pred.make_w2v_model(new_dros_strict, 'dros_strict_real_new')"
   ]
  },
  {
   "cell_type": "code",
   "execution_count": 10,
   "metadata": {
    "collapsed": false,
    "scrolled": true
   },
   "outputs": [
    {
     "name": "stderr",
     "output_type": "stream",
     "text": [
      "/home/bioinformatics/Desktop/KU/Master_Thesis/Code/Proper_Class/2.0/prediction.py:174: RuntimeWarning: invalid value encountered in true_divide\n",
      "  feature_vec = np.divide(feature_vec,nwords)\n"
     ]
    },
    {
     "name": "stdout",
     "output_type": "stream",
     "text": [
      "\n",
      "Predicting\n",
      "\n",
      "\n",
      " Fitting XGBoost Model!\n",
      "\n",
      " Making Predictions\n",
      "\n",
      " Fitting XGBoost Model!\n",
      "\n",
      " Making Predictions\n",
      "\n",
      " Fitting XGBoost Model!\n",
      "\n",
      " Making Predictions\n",
      "\n",
      " Fitting XGBoost Model!\n",
      "\n",
      " Making Predictions\n",
      "\n",
      " Fitting XGBoost Model!\n",
      "\n",
      " Making Predictions\n",
      "\n",
      " Fitting XGBoost Model!\n",
      "\n",
      " Making Predictions\n"
     ]
    },
    {
     "name": "stderr",
     "output_type": "stream",
     "text": [
      "/home/bioinformatics/Desktop/KU/Master_Thesis/Code/Proper_Class/2.0/prediction.py:174: RuntimeWarning: invalid value encountered in true_divide\n",
      "  feature_vec = np.divide(feature_vec,nwords)\n"
     ]
    },
    {
     "name": "stdout",
     "output_type": "stream",
     "text": [
      "\n",
      "Predicting\n",
      "\n",
      "\n",
      " Fitting XGBoost Model!\n",
      "\n",
      " Making Predictions\n",
      "\n",
      " Fitting XGBoost Model!\n",
      "\n",
      " Making Predictions\n",
      "\n",
      " Fitting XGBoost Model!\n",
      "\n",
      " Making Predictions\n",
      "\n",
      " Fitting XGBoost Model!\n",
      "\n",
      " Making Predictions\n",
      "\n",
      " Fitting XGBoost Model!\n",
      "\n",
      " Making Predictions\n",
      "\n",
      " Fitting XGBoost Model!\n",
      "\n",
      " Making Predictions\n"
     ]
    },
    {
     "name": "stderr",
     "output_type": "stream",
     "text": [
      "/home/bioinformatics/Desktop/KU/Master_Thesis/Code/Proper_Class/2.0/prediction.py:174: RuntimeWarning: invalid value encountered in true_divide\n",
      "  feature_vec = np.divide(feature_vec,nwords)\n"
     ]
    },
    {
     "name": "stdout",
     "output_type": "stream",
     "text": [
      "\n",
      "Predicting\n",
      "\n",
      "\n",
      " Fitting XGBoost Model!\n",
      "\n",
      " Making Predictions\n",
      "\n",
      " Fitting XGBoost Model!\n",
      "\n",
      " Making Predictions\n",
      "\n",
      " Fitting XGBoost Model!\n",
      "\n",
      " Making Predictions\n",
      "\n",
      " Fitting XGBoost Model!\n",
      "\n",
      " Making Predictions\n",
      "\n",
      " Fitting XGBoost Model!\n",
      "\n",
      " Making Predictions\n",
      "\n",
      " Fitting XGBoost Model!\n",
      "\n",
      " Making Predictions\n"
     ]
    },
    {
     "name": "stderr",
     "output_type": "stream",
     "text": [
      "/home/bioinformatics/Desktop/KU/Master_Thesis/Code/Proper_Class/2.0/prediction.py:174: RuntimeWarning: invalid value encountered in true_divide\n",
      "  feature_vec = np.divide(feature_vec,nwords)\n"
     ]
    },
    {
     "name": "stdout",
     "output_type": "stream",
     "text": [
      "\n",
      "Predicting\n",
      "\n",
      "\n",
      " Fitting XGBoost Model!\n",
      "\n",
      " Making Predictions\n",
      "\n",
      " Fitting XGBoost Model!\n",
      "\n",
      " Making Predictions\n",
      "\n",
      " Fitting XGBoost Model!\n",
      "\n",
      " Making Predictions\n",
      "\n",
      " Fitting XGBoost Model!\n",
      "\n",
      " Making Predictions\n",
      "\n",
      " Fitting XGBoost Model!\n",
      "\n",
      " Making Predictions\n",
      "\n",
      " Fitting XGBoost Model!\n",
      "\n",
      " Making Predictions\n"
     ]
    },
    {
     "name": "stderr",
     "output_type": "stream",
     "text": [
      "/home/bioinformatics/Desktop/KU/Master_Thesis/Code/Proper_Class/2.0/prediction.py:174: RuntimeWarning: invalid value encountered in true_divide\n",
      "  feature_vec = np.divide(feature_vec,nwords)\n"
     ]
    },
    {
     "name": "stdout",
     "output_type": "stream",
     "text": [
      "\n",
      "Predicting\n",
      "\n",
      "\n",
      " Fitting XGBoost Model!\n",
      "\n",
      " Making Predictions\n",
      "\n",
      " Fitting XGBoost Model!\n",
      "\n",
      " Making Predictions\n",
      "\n",
      " Fitting XGBoost Model!\n",
      "\n",
      " Making Predictions\n",
      "\n",
      " Fitting XGBoost Model!\n",
      "\n",
      " Making Predictions\n",
      "\n",
      " Fitting XGBoost Model!\n",
      "\n",
      " Making Predictions\n",
      "\n",
      " Fitting XGBoost Model!\n",
      "\n",
      " Making Predictions\n"
     ]
    },
    {
     "name": "stderr",
     "output_type": "stream",
     "text": [
      "/home/bioinformatics/Desktop/KU/Master_Thesis/Code/Proper_Class/2.0/prediction.py:174: RuntimeWarning: invalid value encountered in true_divide\n",
      "  feature_vec = np.divide(feature_vec,nwords)\n"
     ]
    },
    {
     "name": "stdout",
     "output_type": "stream",
     "text": [
      "\n",
      "Predicting\n",
      "\n",
      "\n",
      " Fitting XGBoost Model!\n",
      "\n",
      " Making Predictions\n",
      "\n",
      " Fitting XGBoost Model!\n",
      "\n",
      " Making Predictions\n",
      "\n",
      " Fitting XGBoost Model!\n",
      "\n",
      " Making Predictions\n",
      "\n",
      " Fitting XGBoost Model!\n",
      "\n",
      " Making Predictions\n",
      "\n",
      " Fitting XGBoost Model!\n",
      "\n",
      " Making Predictions\n",
      "\n",
      " Fitting XGBoost Model!\n",
      "\n",
      " Making Predictions\n"
     ]
    },
    {
     "name": "stderr",
     "output_type": "stream",
     "text": [
      "/home/bioinformatics/Desktop/KU/Master_Thesis/Code/Proper_Class/2.0/prediction.py:174: RuntimeWarning: invalid value encountered in true_divide\n",
      "  feature_vec = np.divide(feature_vec,nwords)\n"
     ]
    },
    {
     "name": "stdout",
     "output_type": "stream",
     "text": [
      "\n",
      "Predicting\n",
      "\n",
      "\n",
      " Fitting XGBoost Model!\n",
      "\n",
      " Making Predictions\n",
      "\n",
      " Fitting XGBoost Model!\n",
      "\n",
      " Making Predictions\n",
      "\n",
      " Fitting XGBoost Model!\n",
      "\n",
      " Making Predictions\n",
      "\n",
      " Fitting XGBoost Model!\n",
      "\n",
      " Making Predictions\n",
      "\n",
      " Fitting XGBoost Model!\n",
      "\n",
      " Making Predictions\n",
      "\n",
      " Fitting XGBoost Model!\n",
      "\n",
      " Making Predictions\n"
     ]
    },
    {
     "name": "stderr",
     "output_type": "stream",
     "text": [
      "/home/bioinformatics/Desktop/KU/Master_Thesis/Code/Proper_Class/2.0/prediction.py:174: RuntimeWarning: invalid value encountered in true_divide\n",
      "  feature_vec = np.divide(feature_vec,nwords)\n"
     ]
    },
    {
     "name": "stdout",
     "output_type": "stream",
     "text": [
      "\n",
      "Predicting\n",
      "\n",
      "\n",
      " Fitting XGBoost Model!\n",
      "\n",
      " Making Predictions\n",
      "\n",
      " Fitting XGBoost Model!\n",
      "\n",
      " Making Predictions\n",
      "\n",
      " Fitting XGBoost Model!\n",
      "\n",
      " Making Predictions\n",
      "\n",
      " Fitting XGBoost Model!\n",
      "\n",
      " Making Predictions\n",
      "\n",
      " Fitting XGBoost Model!\n",
      "\n",
      " Making Predictions\n",
      "\n",
      " Fitting XGBoost Model!\n",
      "\n",
      " Making Predictions\n",
      "\n",
      "Predicting\n",
      "\n",
      "\n",
      " Fitting XGBoost Model!\n",
      "\n",
      " Making Predictions\n",
      "\n",
      " Fitting XGBoost Model!\n",
      "\n",
      " Making Predictions\n",
      "\n",
      " Fitting XGBoost Model!\n",
      "\n",
      " Making Predictions\n",
      "\n",
      " Fitting XGBoost Model!\n",
      "\n",
      " Making Predictions\n",
      "\n",
      " Fitting XGBoost Model!\n",
      "\n",
      " Making Predictions\n",
      "\n",
      " Fitting XGBoost Model!\n",
      "\n",
      " Making Predictions\n"
     ]
    },
    {
     "name": "stderr",
     "output_type": "stream",
     "text": [
      "/home/bioinformatics/Desktop/KU/Master_Thesis/Code/Proper_Class/2.0/prediction.py:174: RuntimeWarning: invalid value encountered in true_divide\n",
      "  feature_vec = np.divide(feature_vec,nwords)\n"
     ]
    },
    {
     "name": "stdout",
     "output_type": "stream",
     "text": [
      "\n",
      "Predicting\n",
      "\n",
      "\n",
      " Fitting XGBoost Model!\n",
      "\n",
      " Making Predictions\n",
      "\n",
      " Fitting XGBoost Model!\n",
      "\n",
      " Making Predictions\n",
      "\n",
      " Fitting XGBoost Model!\n",
      "\n",
      " Making Predictions\n",
      "\n",
      " Fitting XGBoost Model!\n",
      "\n",
      " Making Predictions\n",
      "\n",
      " Fitting XGBoost Model!\n",
      "\n",
      " Making Predictions\n",
      "\n",
      " Fitting XGBoost Model!\n",
      "\n",
      " Making Predictions\n"
     ]
    }
   ],
   "source": [
    "random_seeds = [144, 235, 905, 2895, 3462, 4225, 5056, 5192, 7751, 7813]\n",
    "dros_strict_real = pickle.load(open('Results/drosophila/Results/drosophila_mentions_strict_real.pkl', 'rb'))\n",
    "for seed in random_seeds:\n",
    "    strict_list_SR_comb = pred.make_models(dros_strict_real, \n",
    "                                             'dros_new_strict_'+str(seed),\n",
    "                                             prev_model=strict_model, \n",
    "                                             ran_state=seed)\n",
    "    \n",
    "    strict_list_GEN_comb = pred.make_models(dros_strict_real, \n",
    "                                             'dros_new_gen_'+str(seed),\n",
    "                                             prev_model=gen_model, \n",
    "                                             ran_state=seed)\n",
    "    \n",
    "    strict_list_BE_comb = pred.make_models(dros_strict_real, \n",
    "                                             'dros_new_be_'+str(seed),\n",
    "                                             prev_model=both_ents_model, \n",
    "                                             ran_state=seed)\n",
    "    strict_final_list = [strict_list_SR_comb, \n",
    "                         strict_list_GEN_comb, \n",
    "                         strict_list_BE_comb]\n",
    "    \n",
    "    print ('\\nPredicting\\n')\n",
    "    errors = []\n",
    "    fpr = []\n",
    "    tpr = []\n",
    "\n",
    "    for entry in strict_final_list:\n",
    "        error_w2v_norm, probs_w2v_norm = pred.XGB_classifier(entry[0], entry[1],\n",
    "                                                             entry[2], entry[3])\n",
    "        fpr_w2v_norm, tpr_w2v_norm, _ = roc_curve(entry[3], probs_w2v_norm)\n",
    "        error_w2v_fs, probs_w2v_fs = pred.XGB_classifier(entry[0], entry[1],\n",
    "                                                         entry[2], entry[3],\n",
    "                                                         feature_selection=True)\n",
    "        fpr_w2v_fs, tpr_w2v_fs, _ = roc_curve(entry[3], probs_w2v_fs)\n",
    "\n",
    "        errors.append([error_w2v_norm, error_w2v_fs])\n",
    "        fpr.append([fpr_w2v_norm, fpr_w2v_fs])\n",
    "        tpr.append([tpr_w2v_norm, tpr_w2v_fs])\n",
    "\n",
    "    pickle.dump(errors, open('Results/dros_new_errors_pickle_'+str(seed)+'.pkl', 'wb'))\n",
    "    pickle.dump(fpr, open('Results/dros_new_fpr_pickle_'+str(seed)+'.pkl', 'wb'))\n",
    "    pickle.dump(tpr, open('Results/dros_new_tpr_pickle_'+str(seed)+'.pkl', 'wb'))"
   ]
  },
  {
   "cell_type": "code",
   "execution_count": 12,
   "metadata": {
    "collapsed": true
   },
   "outputs": [],
   "source": [
    "drct = 'Results/drosophila/Results/Seeded/'\n",
    "errors_dros = mult_open(drct, '_errors_')\n",
    "fpr_dros = mult_open(drct, '_fpr_')\n",
    "tpr_dros = mult_open(drct, '_tpr_')"
   ]
  },
  {
   "cell_type": "code",
   "execution_count": 13,
   "metadata": {
    "collapsed": false
   },
   "outputs": [
    {
     "name": "stdout",
     "output_type": "stream",
     "text": [
      "Strict error drosophila auc=0.526 error=0.335\n",
      "Strict error drosophila auc=0.524 error=0.325\n",
      "\n",
      "\n",
      "Gen error drosophila auc=0.588 error=0.335\n",
      "Gen error drosophila auc=0.600 error=0.328\n",
      "\n",
      "\n",
      "BE error drosophila auc=0.581 error=0.313\n",
      "BE error drosophila auc=0.591 error=0.324\n",
      "\n",
      "\n",
      "Strict error drosophila auc=0.471 error=0.484\n",
      "Strict error drosophila auc=0.465 error=0.477\n",
      "\n",
      "\n",
      "Gen error drosophila auc=0.535 error=0.464\n",
      "Gen error drosophila auc=0.544 error=0.451\n",
      "\n",
      "\n",
      "BE error drosophila auc=0.502 error=0.464\n",
      "BE error drosophila auc=0.499 error=0.472\n",
      "\n",
      "\n",
      "Strict error drosophila auc=0.565 error=0.346\n",
      "Strict error drosophila auc=0.562 error=0.349\n",
      "\n",
      "\n",
      "Gen error drosophila auc=0.622 error=0.321\n",
      "Gen error drosophila auc=0.621 error=0.325\n",
      "\n",
      "\n",
      "BE error drosophila auc=0.636 error=0.329\n",
      "BE error drosophila auc=0.624 error=0.323\n",
      "\n",
      "\n",
      "Strict error drosophila auc=0.499 error=0.392\n",
      "Strict error drosophila auc=0.506 error=0.387\n",
      "\n",
      "\n",
      "Gen error drosophila auc=0.573 error=0.376\n",
      "Gen error drosophila auc=0.592 error=0.363\n",
      "\n",
      "\n",
      "BE error drosophila auc=0.588 error=0.347\n",
      "BE error drosophila auc=0.598 error=0.349\n",
      "\n",
      "\n",
      "Strict error drosophila auc=0.554 error=0.418\n",
      "Strict error drosophila auc=0.532 error=0.418\n",
      "\n",
      "\n",
      "Gen error drosophila auc=0.598 error=0.395\n",
      "Gen error drosophila auc=0.625 error=0.401\n",
      "\n",
      "\n",
      "BE error drosophila auc=0.578 error=0.403\n",
      "BE error drosophila auc=0.597 error=0.410\n",
      "\n",
      "\n",
      "Strict error drosophila auc=0.483 error=0.482\n",
      "Strict error drosophila auc=0.478 error=0.483\n",
      "\n",
      "\n",
      "Gen error drosophila auc=0.516 error=0.469\n",
      "Gen error drosophila auc=0.503 error=0.474\n",
      "\n",
      "\n",
      "BE error drosophila auc=0.490 error=0.466\n",
      "BE error drosophila auc=0.468 error=0.460\n",
      "\n",
      "\n",
      "Strict error drosophila auc=0.571 error=0.325\n",
      "Strict error drosophila auc=0.571 error=0.329\n",
      "\n",
      "\n",
      "Gen error drosophila auc=0.614 error=0.333\n",
      "Gen error drosophila auc=0.622 error=0.310\n",
      "\n",
      "\n",
      "BE error drosophila auc=0.633 error=0.309\n",
      "BE error drosophila auc=0.637 error=0.313\n",
      "\n",
      "\n",
      "Strict error drosophila auc=0.535 error=0.406\n",
      "Strict error drosophila auc=0.533 error=0.410\n",
      "\n",
      "\n",
      "Gen error drosophila auc=0.606 error=0.381\n",
      "Gen error drosophila auc=0.621 error=0.379\n",
      "\n",
      "\n",
      "BE error drosophila auc=0.626 error=0.359\n",
      "BE error drosophila auc=0.620 error=0.367\n",
      "\n",
      "\n",
      "Strict error drosophila auc=0.575 error=0.381\n",
      "Strict error drosophila auc=0.574 error=0.383\n",
      "\n",
      "\n",
      "Gen error drosophila auc=0.594 error=0.383\n",
      "Gen error drosophila auc=0.601 error=0.370\n",
      "\n",
      "\n",
      "BE error drosophila auc=0.613 error=0.356\n",
      "BE error drosophila auc=0.609 error=0.380\n",
      "\n",
      "\n",
      "Strict error drosophila auc=0.570 error=0.422\n",
      "Strict error drosophila auc=0.580 error=0.414\n",
      "\n",
      "\n",
      "Gen error drosophila auc=0.636 error=0.383\n",
      "Gen error drosophila auc=0.640 error=0.376\n",
      "\n",
      "\n",
      "BE error drosophila auc=0.619 error=0.382\n",
      "BE error drosophila auc=0.623 error=0.387\n",
      "\n",
      "\n"
     ]
    }
   ],
   "source": [
    "mean_err_dros_strict = []\n",
    "mean_auc_dros_strict = []\n",
    "mean_err_dros_gen = []\n",
    "mean_auc_dros_gen = []\n",
    "mean_err_dros_be = []\n",
    "mean_auc_dros_be = []\n",
    "for e, f, t in zip(errors_dros, fpr_dros, tpr_dros):\n",
    "    input_list = [[e, f, t]]\n",
    "    name_list = ['drosophila']\n",
    "    for idx in range(3):\n",
    "        for item, name in zip(input_list, name_list):\n",
    "            for fpr_item, tpr_item, error_item in zip(item[1][idx], item[2][idx], item[0][idx]):\n",
    "                roc_auc = auc(fpr_item, tpr_item)\n",
    "                auc_val = '%.3f' % roc_auc\n",
    "                error = '%.3f' % error_item\n",
    "                if idx == 0:\n",
    "                    mean_err_dros_strict.append(error_item)\n",
    "                    mean_auc_dros_strict.append(roc_auc)\n",
    "                    legend_label = 'Strict error ' + name + ' auc=' + str(auc_val) + ' error=' + str(error)\n",
    "                    print(legend_label)\n",
    "                elif idx == 1:\n",
    "                    mean_err_dros_gen.append(error_item)\n",
    "                    mean_auc_dros_gen.append(roc_auc)\n",
    "                    legend_label = 'Gen error ' + name + ' auc=' + str(auc_val) + ' error=' + str(error)\n",
    "                    print(legend_label)\n",
    "                elif idx == 2:\n",
    "                    mean_err_dros_be.append(error_item)\n",
    "                    mean_auc_dros_be.append(roc_auc)\n",
    "                    legend_label = 'BE error ' + name + ' auc=' + str(auc_val) + ' error=' + str(error)\n",
    "                    print(legend_label)\n",
    "            print('\\n')"
   ]
  },
  {
   "cell_type": "code",
   "execution_count": 14,
   "metadata": {
    "collapsed": true
   },
   "outputs": [],
   "source": [
    "mean_err_dros_org_strict = mean_err_dros_strict[0::2]\n",
    "mean_err_dros_fs_strict = mean_err_dros_strict[1::2]\n",
    "mean_auc_dros_org_strict = mean_auc_dros_strict[0::2]\n",
    "mean_auc_dros_fs_strict = mean_auc_dros_strict[1::2]\n",
    "\n",
    "mean_err_dros_org_gen = mean_err_dros_gen[0::2]\n",
    "mean_err_dros_fs_gen = mean_err_dros_gen[1::2]\n",
    "mean_auc_dros_org_gen = mean_auc_dros_gen[0::2]\n",
    "mean_auc_dros_fs_gen = mean_auc_dros_gen[1::2]\n",
    "\n",
    "mean_err_dros_org_be = mean_err_dros_be[0::2]\n",
    "mean_err_dros_fs_be = mean_err_dros_be[1::2]\n",
    "mean_auc_dros_org_be = mean_auc_dros_be[0::2]\n",
    "mean_auc_dros_fs_be = mean_auc_dros_be[1::2]"
   ]
  },
  {
   "cell_type": "code",
   "execution_count": 15,
   "metadata": {
    "collapsed": false
   },
   "outputs": [
    {
     "name": "stdout",
     "output_type": "stream",
     "text": [
      "Drosophila mean strict error original -  0.3990380362\n",
      "Drosophila mean strict error feature selection -  0.397609716508\n",
      "Drosophila mean strict AUC original -  0.534836787203\n",
      "Drosophila mean strict AUC feature selection -  0.532443067834\n",
      "\n",
      "\n",
      "Drosophila mean gen error original -  0.384021840951\n",
      "Drosophila mean gen error feature selection -  0.37778008806\n",
      "Drosophila mean gen AUC original -  0.588174304157\n",
      "Drosophila mean gen AUC feature selection -  0.596937560764\n",
      "\n",
      "\n",
      "Drosophila mean BE error original -  0.372779861786\n",
      "Drosophila mean BE error feature selection -  0.378436777746\n",
      "Drosophila mean BE AUC original -  0.586549018854\n",
      "Drosophila mean BE AUC feature selection -  0.586663948773\n"
     ]
    }
   ],
   "source": [
    "print('Drosophila mean strict error original - ', np.mean(mean_err_dros_org_strict))\n",
    "print('Drosophila mean strict error feature selection - ', np.mean(mean_err_dros_fs_strict))\n",
    "print('Drosophila mean strict AUC original - ', np.mean(mean_auc_dros_org_strict))\n",
    "print('Drosophila mean strict AUC feature selection - ', np.mean(mean_auc_dros_fs_strict))\n",
    "print('\\n')\n",
    "print('Drosophila mean gen error original - ', np.mean(mean_err_dros_org_gen))\n",
    "print('Drosophila mean gen error feature selection - ', np.mean(mean_err_dros_fs_gen))\n",
    "print('Drosophila mean gen AUC original - ', np.mean(mean_auc_dros_org_gen))\n",
    "print('Drosophila mean gen AUC feature selection - ', np.mean(mean_auc_dros_fs_gen))\n",
    "print('\\n')\n",
    "print('Drosophila mean BE error original - ', np.mean(mean_err_dros_org_be))\n",
    "print('Drosophila mean BE error feature selection - ', np.mean(mean_err_dros_fs_be))\n",
    "print('Drosophila mean BE AUC original - ', np.mean(mean_auc_dros_org_be))\n",
    "print('Drosophila mean BE AUC feature selection - ', np.mean(mean_auc_dros_fs_be))"
   ]
  },
  {
   "cell_type": "code",
   "execution_count": null,
   "metadata": {
    "collapsed": true
   },
   "outputs": [],
   "source": []
  }
 ],
 "metadata": {
  "kernelspec": {
   "display_name": "Python 3",
   "language": "python",
   "name": "python3"
  },
  "language_info": {
   "codemirror_mode": {
    "name": "ipython",
    "version": 3
   },
   "file_extension": ".py",
   "mimetype": "text/x-python",
   "name": "python",
   "nbconvert_exporter": "python",
   "pygments_lexer": "ipython3",
   "version": "3.5.2"
  }
 },
 "nbformat": 4,
 "nbformat_minor": 2
}
