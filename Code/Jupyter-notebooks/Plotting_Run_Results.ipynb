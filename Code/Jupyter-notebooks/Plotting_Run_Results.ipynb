{
 "cells": [
  {
   "cell_type": "code",
   "execution_count": 2,
   "metadata": {
    "collapsed": false,
    "deletable": true,
    "editable": true
   },
   "outputs": [
    {
     "name": "stderr",
     "output_type": "stream",
     "text": [
      "/usr/local/lib/python3.5/dist-packages/sklearn/cross_validation.py:44: DeprecationWarning: This module was deprecated in version 0.18 in favor of the model_selection module into which all the refactored classes and functions are moved. Also note that the interface of the new CV iterators are different from that of this module. This module will be removed in 0.20.\n",
      "  \"This module will be removed in 0.20.\", DeprecationWarning)\n"
     ]
    }
   ],
   "source": [
    "import pickle\n",
    "from matplotlib import style\n",
    "import matplotlib.pyplot as plt\n",
    "from sklearn.metrics import roc_curve, auc\n",
    "import prediction as pred"
   ]
  },
  {
   "cell_type": "code",
   "execution_count": 3,
   "metadata": {
    "collapsed": false,
    "deletable": true,
    "editable": true
   },
   "outputs": [
    {
     "ename": "FileNotFoundError",
     "evalue": "[Errno 2] No such file or directory: 'Results/drosophila/Results/drosophila_errors_pickle.pkl'",
     "output_type": "error",
     "traceback": [
      "\u001b[0;31m---------------------------------------------------------------------------\u001b[0m",
      "\u001b[0;31mFileNotFoundError\u001b[0m                         Traceback (most recent call last)",
      "\u001b[0;32m<ipython-input-3-7efca2852f5a>\u001b[0m in \u001b[0;36m<module>\u001b[0;34m()\u001b[0m\n\u001b[0;32m----> 1\u001b[0;31m \u001b[0merror_drosophila\u001b[0m \u001b[0;34m=\u001b[0m \u001b[0mpickle\u001b[0m\u001b[0;34m.\u001b[0m\u001b[0mload\u001b[0m\u001b[0;34m(\u001b[0m\u001b[0mopen\u001b[0m\u001b[0;34m(\u001b[0m\u001b[0;34m'Results/drosophila/Results/drosophila_errors_pickle.pkl'\u001b[0m\u001b[0;34m,\u001b[0m \u001b[0;34m'rb'\u001b[0m\u001b[0;34m)\u001b[0m\u001b[0;34m)\u001b[0m\u001b[0;34m\u001b[0m\u001b[0m\n\u001b[0m\u001b[1;32m      2\u001b[0m \u001b[0merror_mouse\u001b[0m \u001b[0;34m=\u001b[0m \u001b[0mpickle\u001b[0m\u001b[0;34m.\u001b[0m\u001b[0mload\u001b[0m\u001b[0;34m(\u001b[0m\u001b[0mopen\u001b[0m\u001b[0;34m(\u001b[0m\u001b[0;34m'Results/mouse/Results/mouse_errors_pickle.pkl'\u001b[0m\u001b[0;34m,\u001b[0m \u001b[0;34m'rb'\u001b[0m\u001b[0;34m)\u001b[0m\u001b[0;34m)\u001b[0m\u001b[0;34m\u001b[0m\u001b[0m\n\u001b[1;32m      3\u001b[0m \u001b[0merror_rat\u001b[0m \u001b[0;34m=\u001b[0m \u001b[0mpickle\u001b[0m\u001b[0;34m.\u001b[0m\u001b[0mload\u001b[0m\u001b[0;34m(\u001b[0m\u001b[0mopen\u001b[0m\u001b[0;34m(\u001b[0m\u001b[0;34m'Results/rat/Results/rat_errors_pickle.pkl'\u001b[0m\u001b[0;34m,\u001b[0m \u001b[0;34m'rb'\u001b[0m\u001b[0;34m)\u001b[0m\u001b[0;34m)\u001b[0m\u001b[0;34m\u001b[0m\u001b[0m\n\u001b[1;32m      4\u001b[0m \u001b[0merror_yeast\u001b[0m \u001b[0;34m=\u001b[0m \u001b[0mpickle\u001b[0m\u001b[0;34m.\u001b[0m\u001b[0mload\u001b[0m\u001b[0;34m(\u001b[0m\u001b[0mopen\u001b[0m\u001b[0;34m(\u001b[0m\u001b[0;34m'Results/yeast/Results/yeast_errors_pickle.pkl'\u001b[0m\u001b[0;34m,\u001b[0m \u001b[0;34m'rb'\u001b[0m\u001b[0;34m)\u001b[0m\u001b[0;34m)\u001b[0m\u001b[0;34m\u001b[0m\u001b[0m\n\u001b[1;32m      5\u001b[0m \u001b[0;34m\u001b[0m\u001b[0m\n",
      "\u001b[0;31mFileNotFoundError\u001b[0m: [Errno 2] No such file or directory: 'Results/drosophila/Results/drosophila_errors_pickle.pkl'"
     ]
    }
   ],
   "source": [
    "error_drosophila = pickle.load(open('Results/drosophila/Results/drosophila_errors_pickle.pkl', 'rb'))\n",
    "error_mouse = pickle.load(open('Results/mouse/Results/mouse_errors_pickle.pkl', 'rb'))\n",
    "error_rat = pickle.load(open('Results/rat/Results/rat_errors_pickle.pkl', 'rb'))\n",
    "error_yeast = pickle.load(open('Results/yeast/Results/yeast_errors_pickle.pkl', 'rb'))\n",
    "\n",
    "fprs_drosophila = pickle.load(open('Results/drosophila/Results/drosophila_fpr_pickle.pkl', 'rb'))\n",
    "fprs_mouse = pickle.load(open('Results/mouse/Results/mouse_fpr_pickle.pkl', 'rb'))\n",
    "fprs_rat = pickle.load(open('Results/rat/Results/rat_fpr_pickle.pkl', 'rb'))\n",
    "fprs_yeast = pickle.load(open('Results/yeast/Results/yeast_fpr_pickle.pkl', 'rb'))\n",
    "\n",
    "tprs_drosophila = pickle.load(open('Results/drosophila/Results/drosophila_tpr_pickle.pkl', 'rb'))\n",
    "tprs_mouse = pickle.load(open('Results/mouse/Results/mouse_tpr_pickle.pkl', 'rb'))\n",
    "tprs_rat = pickle.load(open('Results/rat/Results/rat_tpr_pickle.pkl', 'rb'))\n",
    "tprs_yeast = pickle.load(open('Results/yeast/Results/yeast_tpr_pickle.pkl', 'rb'))"
   ]
  },
  {
   "cell_type": "code",
   "execution_count": 3,
   "metadata": {
    "collapsed": false,
    "deletable": true,
    "editable": true
   },
   "outputs": [
    {
     "name": "stdout",
     "output_type": "stream",
     "text": [
      "drosophila auc=0.949 error=0.005780346820809301\n",
      "drosophila auc=0.960 error=0.005780346820809301\n",
      "drosophila auc=0.364 error=0.005780346820809301\n",
      "drosophila auc=0.384 error=0.005780346820809301\n",
      "drosophila auc=0.949 error=0.005780346820809301\n",
      "drosophila auc=0.957 error=0.005780346820809301\n",
      "drosophila auc=0.293 error=0.005780346820809301\n",
      "drosophila auc=0.450 error=0.005780346820809301\n",
      "drosophila auc=0.949 error=0.005780346820809301\n",
      "drosophila auc=0.957 error=0.005780346820809301\n",
      "drosophila auc=0.425 error=0.005780346820809301\n",
      "drosophila auc=0.421 error=0.005780346820809301\n"
     ]
    }
   ],
   "source": [
    "input_list = [[error_drosophila, fprs_drosophila, tprs_drosophila]]\n",
    "name_list = ['drosophila']\n",
    "for idx in range(3):\n",
    "    for item, name in zip(input_list, name_list):\n",
    "        for fpr_item, tpr_item, error_item in zip(item[1][idx], item[2][idx], item[0][idx]):\n",
    "            roc_auc = auc(fpr_item, tpr_item)\n",
    "            auc_val = '%.3f' % roc_auc\n",
    "            error = '%.3f' % error_item\n",
    "            legend_label = name + ' auc=' + str(auc_val) + ' error=' + str(error_item)\n",
    "            print(legend_label)"
   ]
  },
  {
   "cell_type": "code",
   "execution_count": 4,
   "metadata": {
    "collapsed": false,
    "deletable": true,
    "editable": true
   },
   "outputs": [
    {
     "name": "stdout",
     "output_type": "stream",
     "text": [
      "mouse auc=0.494 error=0.01370838525903506\n",
      "mouse auc=0.501 error=0.01370838525903506\n",
      "mouse auc=0.481 error=0.01370838525903506\n",
      "mouse auc=0.466 error=0.01370838525903506\n",
      "mouse auc=0.494 error=0.01370838525903506\n",
      "mouse auc=0.486 error=0.01370838525903506\n",
      "mouse auc=0.484 error=0.01370838525903506\n",
      "mouse auc=0.515 error=0.01370838525903506\n",
      "mouse auc=0.494 error=0.01370838525903506\n",
      "mouse auc=0.494 error=0.01370838525903506\n",
      "mouse auc=0.531 error=0.01370838525903506\n",
      "mouse auc=0.496 error=0.01370838525903506\n"
     ]
    }
   ],
   "source": [
    "input_list = [[error_mouse, fprs_mouse, tprs_mouse]]\n",
    "name_list = ['mouse']\n",
    "for idx in range(3):\n",
    "    for item, name in zip(input_list, name_list):\n",
    "        for fpr_item, tpr_item, error_item in zip(item[1][idx], item[2][idx], item[0][idx]):\n",
    "            roc_auc = auc(fpr_item, tpr_item)\n",
    "            auc_val = '%.3f' % roc_auc\n",
    "            error = '%.3f' % error_item\n",
    "            legend_label = name + ' auc=' + str(auc_val) + ' error=' + str(error_item)\n",
    "            print(legend_label)"
   ]
  },
  {
   "cell_type": "code",
   "execution_count": 6,
   "metadata": {
    "collapsed": false,
    "deletable": true,
    "editable": true
   },
   "outputs": [
    {
     "name": "stdout",
     "output_type": "stream",
     "text": [
      "rat auc=0.566 error=0.010213014298219969\n",
      "rat auc=0.507 error=0.010213014298219969\n",
      "rat auc=0.554 error=0.010213014298219969\n",
      "rat auc=0.546 error=0.010213014298219969\n",
      "rat auc=0.566 error=0.010213014298219969\n",
      "rat auc=0.495 error=0.010213014298219969\n",
      "rat auc=0.558 error=0.010213014298219969\n",
      "rat auc=0.539 error=0.010213014298219969\n",
      "rat auc=0.566 error=0.010213014298219969\n",
      "rat auc=0.501 error=0.010213014298219969\n",
      "rat auc=0.616 error=0.010213014298219969\n",
      "rat auc=0.584 error=0.010213014298219969\n"
     ]
    }
   ],
   "source": [
    "input_list = [[error_rat, fprs_rat, tprs_rat]]\n",
    "name_list = ['rat']\n",
    "for idx in range(3):\n",
    "    for item, name in zip(input_list, name_list):\n",
    "        for fpr_item, tpr_item, error_item in zip(item[1][idx], item[2][idx], item[0][idx]):\n",
    "            roc_auc = auc(fpr_item, tpr_item)\n",
    "            auc_val = '%.3f' % roc_auc\n",
    "            error = '%.3f' % error_item\n",
    "            legend_label = name + ' auc=' + str(auc_val) + ' error=' + str(error_item)\n",
    "            print(legend_label)"
   ]
  },
  {
   "cell_type": "code",
   "execution_count": 7,
   "metadata": {
    "collapsed": false,
    "deletable": true,
    "editable": true
   },
   "outputs": [
    {
     "name": "stdout",
     "output_type": "stream",
     "text": [
      "yeast auc=0.693 error=0.24956559513466547\n",
      "yeast auc=0.684 error=0.24956559513466547\n",
      "yeast auc=0.752 error=0.23761946133796696\n",
      "yeast auc=0.746 error=0.2443527367506516\n",
      "yeast auc=0.693 error=0.24956559513466547\n",
      "yeast auc=0.685 error=0.24913119026933106\n",
      "yeast auc=0.755 error=0.24044309296264121\n",
      "yeast auc=0.759 error=0.23523023457862724\n",
      "yeast auc=0.693 error=0.24956559513466547\n",
      "yeast auc=0.685 error=0.24869678540399653\n",
      "yeast auc=0.748 error=0.23675065160729802\n",
      "yeast auc=0.748 error=0.2382710686359687\n"
     ]
    }
   ],
   "source": [
    "input_list = [[error_yeast, fprs_yeast, tprs_yeast]]\n",
    "name_list = ['yeast']\n",
    "for idx in range(3):\n",
    "    for item, name in zip(input_list, name_list):\n",
    "        for fpr_item, tpr_item, error_item in zip(item[1][idx], item[2][idx], item[0][idx]):\n",
    "            roc_auc = auc(fpr_item, tpr_item)\n",
    "            auc_val = '%.3f' % roc_auc\n",
    "            error = '%.3f' % error_item\n",
    "            legend_label = name + ' auc=' + str(auc_val) + ' error=' + str(error_item)\n",
    "            print(legend_label)"
   ]
  },
  {
   "cell_type": "code",
   "execution_count": 16,
   "metadata": {
    "collapsed": false,
    "deletable": true,
    "editable": true
   },
   "outputs": [],
   "source": [
    "train_labels = pickle.load(open('Results/yeast/Results/yeast_strict_real_be_mod_train_labels.pkl', 'rb'))\n",
    "test_labels = pickle.load(open('Results/yeast/Results/yeast_strict_real_be_mod_test_labels.pkl', 'rb'))"
   ]
  },
  {
   "cell_type": "code",
   "execution_count": 17,
   "metadata": {
    "collapsed": false,
    "deletable": true,
    "editable": true
   },
   "outputs": [
    {
     "name": "stdout",
     "output_type": "stream",
     "text": [
      "4604\n"
     ]
    }
   ],
   "source": [
    "print(len(test_labels))"
   ]
  },
  {
   "cell_type": "code",
   "execution_count": 18,
   "metadata": {
    "collapsed": false,
    "deletable": true,
    "editable": true
   },
   "outputs": [
    {
     "name": "stdout",
     "output_type": "stream",
     "text": [
      "41084\n"
     ]
    }
   ],
   "source": [
    "print(len(train_labels))"
   ]
  },
  {
   "cell_type": "code",
   "execution_count": 19,
   "metadata": {
    "collapsed": false,
    "deletable": true,
    "editable": true
   },
   "outputs": [
    {
     "name": "stdout",
     "output_type": "stream",
     "text": [
      "1198\n"
     ]
    }
   ],
   "source": [
    "print(sum(test_labels))"
   ]
  },
  {
   "cell_type": "code",
   "execution_count": 20,
   "metadata": {
    "collapsed": false,
    "deletable": true,
    "editable": true
   },
   "outputs": [
    {
     "name": "stdout",
     "output_type": "stream",
     "text": [
      "11396\n"
     ]
    }
   ],
   "source": [
    "print(sum(train_labels))"
   ]
  },
  {
   "cell_type": "code",
   "execution_count": 3,
   "metadata": {
    "collapsed": false,
    "deletable": true,
    "editable": true
   },
   "outputs": [
    {
     "name": "stdout",
     "output_type": "stream",
     "text": [
      "3140\n",
      "7145\n"
     ]
    }
   ],
   "source": [
    "full_data_set = pickle.load(open('Results/yeast/strict_real.pkl', 'rb'))\n",
    "\n",
    "mode_list = []\n",
    "for value in full_data_set.values():\n",
    "    val = value[0]\n",
    "    mode_list.append(val[-1])\n",
    "print(sum(mode_list))\n",
    "print(len(mode_list))"
   ]
  },
  {
   "cell_type": "code",
   "execution_count": 66,
   "metadata": {
    "collapsed": true,
    "deletable": true,
    "editable": true
   },
   "outputs": [],
   "source": [
    "import pandas as pd"
   ]
  },
  {
   "cell_type": "code",
   "execution_count": 71,
   "metadata": {
    "collapsed": false,
    "deletable": true,
    "editable": true
   },
   "outputs": [],
   "source": [
    "train_data = pd.read_csv('../old/Training_Data_12.tsv', sep='\\t')\n",
    "test_data = pd.read_csv('../old/Test_Data_12.tsv', sep='\\t')"
   ]
  },
  {
   "cell_type": "code",
   "execution_count": 72,
   "metadata": {
    "collapsed": true,
    "deletable": true,
    "editable": true
   },
   "outputs": [],
   "source": [
    "labels_train = train_data['Mode'].tolist()\n",
    "labels_test = test_data['Mode'].tolist()"
   ]
  },
  {
   "cell_type": "code",
   "execution_count": 73,
   "metadata": {
    "collapsed": false,
    "deletable": true,
    "editable": true
   },
   "outputs": [
    {
     "name": "stdout",
     "output_type": "stream",
     "text": [
      "36661\n",
      "9603\n",
      "9647\n",
      "2550\n"
     ]
    }
   ],
   "source": [
    "print(len(labels_train))\n",
    "print(len(labels_test))\n",
    "print(sum(labels_train))\n",
    "print(sum(labels_test))"
   ]
  },
  {
   "cell_type": "code",
   "execution_count": 74,
   "metadata": {
    "collapsed": false,
    "deletable": true,
    "editable": true
   },
   "outputs": [
    {
     "name": "stdout",
     "output_type": "stream",
     "text": [
      "25637\n",
      "12510\n",
      "6302\n",
      "4216\n"
     ]
    }
   ],
   "source": [
    "print(len(train_labels_mouse))\n",
    "print(len(test_labels_mouse))\n",
    "print(sum(train_labels_mouse))\n",
    "print(sum(test_labels_mouse))"
   ]
  },
  {
   "cell_type": "code",
   "execution_count": 75,
   "metadata": {
    "collapsed": false,
    "deletable": true,
    "editable": true
   },
   "outputs": [
    {
     "name": "stdout",
     "output_type": "stream",
     "text": [
      "0.2631406671940209\n",
      "0.2655420181193377\n"
     ]
    }
   ],
   "source": [
    "len_train = len(labels_train)\n",
    "len_test = len(labels_test)\n",
    "sum_train = sum(labels_train)\n",
    "sum_test = sum(labels_test)\n",
    "\n",
    "print(sum_train/len_train)\n",
    "print(sum_test/len_test)"
   ]
  },
  {
   "cell_type": "code",
   "execution_count": 76,
   "metadata": {
    "collapsed": false,
    "deletable": true,
    "editable": true
   },
   "outputs": [
    {
     "name": "stdout",
     "output_type": "stream",
     "text": [
      "0.24581659320513322\n",
      "0.3370103916866507\n"
     ]
    }
   ],
   "source": [
    "len_train =len(train_labels_mouse)\n",
    "len_test = len(test_labels_mouse)\n",
    "sum_train =sum(train_labels_mouse)\n",
    "sum_test = sum(test_labels_mouse)\n",
    "\n",
    "print(sum_train/len_train)\n",
    "print(sum_test/len_test)"
   ]
  },
  {
   "cell_type": "code",
   "execution_count": null,
   "metadata": {
    "collapsed": true,
    "deletable": true,
    "editable": true
   },
   "outputs": [],
   "source": []
  }
 ],
 "metadata": {
  "kernelspec": {
   "display_name": "Python 3",
   "language": "python",
   "name": "python3"
  },
  "language_info": {
   "codemirror_mode": {
    "name": "ipython",
    "version": 3
   },
   "file_extension": ".py",
   "mimetype": "text/x-python",
   "name": "python",
   "nbconvert_exporter": "python",
   "pygments_lexer": "ipython3",
   "version": "3.5.2"
  }
 },
 "nbformat": 4,
 "nbformat_minor": 2
}
