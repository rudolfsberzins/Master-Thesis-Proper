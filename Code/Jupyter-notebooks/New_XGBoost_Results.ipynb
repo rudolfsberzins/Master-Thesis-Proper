{
 "cells": [
  {
   "cell_type": "code",
   "execution_count": 1,
   "metadata": {
    "collapsed": true
   },
   "outputs": [],
   "source": [
    "import pickle\n",
    "import os\n",
    "import re\n",
    "import numpy as np\n",
    "from gensim.models import word2vec\n",
    "import logging\n",
    "import pandas as pd"
   ]
  },
  {
   "cell_type": "code",
   "execution_count": 2,
   "metadata": {
    "collapsed": false
   },
   "outputs": [
    {
     "name": "stderr",
     "output_type": "stream",
     "text": [
      "/usr/local/lib/python3.5/dist-packages/sklearn/cross_validation.py:44: DeprecationWarning: This module was deprecated in version 0.18 in favor of the model_selection module into which all the refactored classes and functions are moved. Also note that the interface of the new CV iterators are different from that of this module. This module will be removed in 0.20.\n",
      "  \"This module will be removed in 0.20.\", DeprecationWarning)\n"
     ]
    }
   ],
   "source": [
    "import sys\n",
    "sys.path.insert(0, '../Core-scripts/')\n",
    "\n",
    "from parse_and_prepare import ProteinProteinInteractionClassifier as ppi\n",
    "import file_readers as fr\n",
    "import prediction as pred"
   ]
  },
  {
   "cell_type": "code",
   "execution_count": 9,
   "metadata": {
    "collapsed": true
   },
   "outputs": [],
   "source": [
    "import xgboost as xgb\n",
    "from xgboost.sklearn import XGBClassifier\n",
    "from sklearn import cross_validation, metrics\n",
    "from sklearn.metrics import roc_curve, auc"
   ]
  },
  {
   "cell_type": "code",
   "execution_count": 4,
   "metadata": {
    "collapsed": true
   },
   "outputs": [],
   "source": [
    "random_seeds = [144, 235, 905, 2895, 3462, 4225, 5056, 5192, 7751, 7813]"
   ]
  },
  {
   "cell_type": "code",
   "execution_count": 5,
   "metadata": {
    "collapsed": true
   },
   "outputs": [],
   "source": [
    "#Drosophila\n",
    "\n",
    "p_t_strict_model = '../../Results/Drosophila/models/full/drosophila_strict_w2v_model'\n",
    "p_t_gen_model = '../../Results/Drosophila/models/full/drosophila_gen_w2v_model'\n",
    "p_t_be_model = '../../Results/Drosophila/models/full/drosophila_be_w2v_model'\n",
    "p_t_strict_data = '../../Results/Drosophila/drosophila_mentions_strict_real.pkl'\n",
    "name_of_result = 'drosophila'"
   ]
  },
  {
   "cell_type": "code",
   "execution_count": 6,
   "metadata": {
    "collapsed": true
   },
   "outputs": [],
   "source": [
    "w2v_strict = word2vec.Word2Vec.load(p_t_strict_model)\n",
    "w2v_gen = word2vec.Word2Vec.load(p_t_gen_model)\n",
    "w2v_be = word2vec.Word2Vec.load(p_t_be_model)"
   ]
  },
  {
   "cell_type": "code",
   "execution_count": 7,
   "metadata": {
    "collapsed": true
   },
   "outputs": [],
   "source": [
    "strict_data = pickle.load(open(p_t_strict_data, 'rb'))"
   ]
  },
  {
   "cell_type": "code",
   "execution_count": 10,
   "metadata": {
    "collapsed": false
   },
   "outputs": [
    {
     "name": "stderr",
     "output_type": "stream",
     "text": [
      "../Core-scripts/prediction.py:176: RuntimeWarning: invalid value encountered in true_divide\n",
      "  feature_vec = np.divide(feature_vec,nwords)\n"
     ]
    },
    {
     "name": "stdout",
     "output_type": "stream",
     "text": [
      "\n",
      "Predicting\n",
      "\n",
      "\n",
      " Fitting XGBoost Model!\n",
      "\n",
      " Making Predictions\n",
      "\n",
      " Fitting XGBoost Model!\n",
      "\n",
      " Making Predictions\n",
      "\n",
      " Fitting XGBoost Model!\n",
      "\n",
      " Making Predictions\n",
      "\n",
      " Fitting XGBoost Model!\n",
      "\n",
      " Making Predictions\n",
      "\n",
      " Fitting XGBoost Model!\n",
      "\n",
      " Making Predictions\n",
      "\n",
      " Fitting XGBoost Model!\n",
      "\n",
      " Making Predictions\n"
     ]
    },
    {
     "name": "stderr",
     "output_type": "stream",
     "text": [
      "../Core-scripts/prediction.py:176: RuntimeWarning: invalid value encountered in true_divide\n",
      "  feature_vec = np.divide(feature_vec,nwords)\n"
     ]
    },
    {
     "name": "stdout",
     "output_type": "stream",
     "text": [
      "\n",
      "Predicting\n",
      "\n",
      "\n",
      " Fitting XGBoost Model!\n",
      "\n",
      " Making Predictions\n",
      "\n",
      " Fitting XGBoost Model!\n",
      "\n",
      " Making Predictions\n",
      "\n",
      " Fitting XGBoost Model!\n",
      "\n",
      " Making Predictions\n",
      "\n",
      " Fitting XGBoost Model!\n",
      "\n",
      " Making Predictions\n",
      "\n",
      " Fitting XGBoost Model!\n",
      "\n",
      " Making Predictions\n",
      "\n",
      " Fitting XGBoost Model!\n",
      "\n",
      " Making Predictions\n"
     ]
    },
    {
     "name": "stderr",
     "output_type": "stream",
     "text": [
      "../Core-scripts/prediction.py:176: RuntimeWarning: invalid value encountered in true_divide\n",
      "  feature_vec = np.divide(feature_vec,nwords)\n"
     ]
    },
    {
     "name": "stdout",
     "output_type": "stream",
     "text": [
      "\n",
      "Predicting\n",
      "\n",
      "\n",
      " Fitting XGBoost Model!\n",
      "\n",
      " Making Predictions\n",
      "\n",
      " Fitting XGBoost Model!\n",
      "\n",
      " Making Predictions\n",
      "\n",
      " Fitting XGBoost Model!\n",
      "\n",
      " Making Predictions\n",
      "\n",
      " Fitting XGBoost Model!\n",
      "\n",
      " Making Predictions\n",
      "\n",
      " Fitting XGBoost Model!\n",
      "\n",
      " Making Predictions\n",
      "\n",
      " Fitting XGBoost Model!\n",
      "\n",
      " Making Predictions\n"
     ]
    },
    {
     "name": "stderr",
     "output_type": "stream",
     "text": [
      "../Core-scripts/prediction.py:176: RuntimeWarning: invalid value encountered in true_divide\n",
      "  feature_vec = np.divide(feature_vec,nwords)\n"
     ]
    },
    {
     "name": "stdout",
     "output_type": "stream",
     "text": [
      "\n",
      "Predicting\n",
      "\n",
      "\n",
      " Fitting XGBoost Model!\n",
      "\n",
      " Making Predictions\n",
      "\n",
      " Fitting XGBoost Model!\n",
      "\n",
      " Making Predictions\n",
      "\n",
      " Fitting XGBoost Model!\n",
      "\n",
      " Making Predictions\n",
      "\n",
      " Fitting XGBoost Model!\n",
      "\n",
      " Making Predictions\n",
      "\n",
      " Fitting XGBoost Model!\n",
      "\n",
      " Making Predictions\n",
      "\n",
      " Fitting XGBoost Model!\n",
      "\n",
      " Making Predictions\n"
     ]
    },
    {
     "name": "stderr",
     "output_type": "stream",
     "text": [
      "../Core-scripts/prediction.py:176: RuntimeWarning: invalid value encountered in true_divide\n",
      "  feature_vec = np.divide(feature_vec,nwords)\n"
     ]
    },
    {
     "name": "stdout",
     "output_type": "stream",
     "text": [
      "\n",
      "Predicting\n",
      "\n",
      "\n",
      " Fitting XGBoost Model!\n",
      "\n",
      " Making Predictions\n",
      "\n",
      " Fitting XGBoost Model!\n",
      "\n",
      " Making Predictions\n",
      "\n",
      " Fitting XGBoost Model!\n",
      "\n",
      " Making Predictions\n",
      "\n",
      " Fitting XGBoost Model!\n",
      "\n",
      " Making Predictions\n",
      "\n",
      " Fitting XGBoost Model!\n",
      "\n",
      " Making Predictions\n",
      "\n",
      " Fitting XGBoost Model!\n",
      "\n",
      " Making Predictions\n"
     ]
    },
    {
     "name": "stderr",
     "output_type": "stream",
     "text": [
      "../Core-scripts/prediction.py:176: RuntimeWarning: invalid value encountered in true_divide\n",
      "  feature_vec = np.divide(feature_vec,nwords)\n"
     ]
    },
    {
     "name": "stdout",
     "output_type": "stream",
     "text": [
      "\n",
      "Predicting\n",
      "\n",
      "\n",
      " Fitting XGBoost Model!\n",
      "\n",
      " Making Predictions\n",
      "\n",
      " Fitting XGBoost Model!\n",
      "\n",
      " Making Predictions\n",
      "\n",
      " Fitting XGBoost Model!\n",
      "\n",
      " Making Predictions\n",
      "\n",
      " Fitting XGBoost Model!\n",
      "\n",
      " Making Predictions\n",
      "\n",
      " Fitting XGBoost Model!\n",
      "\n",
      " Making Predictions\n",
      "\n",
      " Fitting XGBoost Model!\n",
      "\n",
      " Making Predictions\n"
     ]
    },
    {
     "name": "stderr",
     "output_type": "stream",
     "text": [
      "../Core-scripts/prediction.py:176: RuntimeWarning: invalid value encountered in true_divide\n",
      "  feature_vec = np.divide(feature_vec,nwords)\n"
     ]
    },
    {
     "name": "stdout",
     "output_type": "stream",
     "text": [
      "\n",
      "Predicting\n",
      "\n",
      "\n",
      " Fitting XGBoost Model!\n",
      "\n",
      " Making Predictions\n",
      "\n",
      " Fitting XGBoost Model!\n",
      "\n",
      " Making Predictions\n",
      "\n",
      " Fitting XGBoost Model!\n",
      "\n",
      " Making Predictions\n",
      "\n",
      " Fitting XGBoost Model!\n",
      "\n",
      " Making Predictions\n",
      "\n",
      " Fitting XGBoost Model!\n",
      "\n",
      " Making Predictions\n",
      "\n",
      " Fitting XGBoost Model!\n",
      "\n",
      " Making Predictions\n"
     ]
    },
    {
     "name": "stderr",
     "output_type": "stream",
     "text": [
      "../Core-scripts/prediction.py:176: RuntimeWarning: invalid value encountered in true_divide\n",
      "  feature_vec = np.divide(feature_vec,nwords)\n"
     ]
    },
    {
     "name": "stdout",
     "output_type": "stream",
     "text": [
      "\n",
      "Predicting\n",
      "\n",
      "\n",
      " Fitting XGBoost Model!\n",
      "\n",
      " Making Predictions\n",
      "\n",
      " Fitting XGBoost Model!\n",
      "\n",
      " Making Predictions\n",
      "\n",
      " Fitting XGBoost Model!\n",
      "\n",
      " Making Predictions\n",
      "\n",
      " Fitting XGBoost Model!\n",
      "\n",
      " Making Predictions\n",
      "\n",
      " Fitting XGBoost Model!\n",
      "\n",
      " Making Predictions\n",
      "\n",
      " Fitting XGBoost Model!\n",
      "\n",
      " Making Predictions\n"
     ]
    },
    {
     "name": "stderr",
     "output_type": "stream",
     "text": [
      "../Core-scripts/prediction.py:176: RuntimeWarning: invalid value encountered in true_divide\n",
      "  feature_vec = np.divide(feature_vec,nwords)\n"
     ]
    },
    {
     "name": "stdout",
     "output_type": "stream",
     "text": [
      "\n",
      "Predicting\n",
      "\n",
      "\n",
      " Fitting XGBoost Model!\n",
      "\n",
      " Making Predictions\n",
      "\n",
      " Fitting XGBoost Model!\n",
      "\n",
      " Making Predictions\n",
      "\n",
      " Fitting XGBoost Model!\n",
      "\n",
      " Making Predictions\n",
      "\n",
      " Fitting XGBoost Model!\n",
      "\n",
      " Making Predictions\n",
      "\n",
      " Fitting XGBoost Model!\n",
      "\n",
      " Making Predictions\n",
      "\n",
      " Fitting XGBoost Model!\n",
      "\n",
      " Making Predictions\n"
     ]
    },
    {
     "name": "stderr",
     "output_type": "stream",
     "text": [
      "../Core-scripts/prediction.py:176: RuntimeWarning: invalid value encountered in true_divide\n",
      "  feature_vec = np.divide(feature_vec,nwords)\n"
     ]
    },
    {
     "name": "stdout",
     "output_type": "stream",
     "text": [
      "\n",
      "Predicting\n",
      "\n",
      "\n",
      " Fitting XGBoost Model!\n",
      "\n",
      " Making Predictions\n",
      "\n",
      " Fitting XGBoost Model!\n",
      "\n",
      " Making Predictions\n",
      "\n",
      " Fitting XGBoost Model!\n",
      "\n",
      " Making Predictions\n",
      "\n",
      " Fitting XGBoost Model!\n",
      "\n",
      " Making Predictions\n",
      "\n",
      " Fitting XGBoost Model!\n"
     ]
    },
    {
     "ename": "KeyboardInterrupt",
     "evalue": "",
     "output_type": "error",
     "traceback": [
      "\u001b[0;31m---------------------------------------------------------------------------\u001b[0m",
      "\u001b[0;31mKeyboardInterrupt\u001b[0m                         Traceback (most recent call last)",
      "\u001b[0;32m<ipython-input-10-2dadd1106319>\u001b[0m in \u001b[0;36m<module>\u001b[0;34m()\u001b[0m\n\u001b[1;32m     29\u001b[0m                                                                                    \u001b[0mentry\u001b[0m\u001b[0;34m[\u001b[0m\u001b[0;36m1\u001b[0m\u001b[0;34m]\u001b[0m\u001b[0;34m,\u001b[0m\u001b[0;34m\u001b[0m\u001b[0m\n\u001b[1;32m     30\u001b[0m                                                                                    \u001b[0mentry\u001b[0m\u001b[0;34m[\u001b[0m\u001b[0;36m2\u001b[0m\u001b[0;34m]\u001b[0m\u001b[0;34m,\u001b[0m\u001b[0;34m\u001b[0m\u001b[0m\n\u001b[0;32m---> 31\u001b[0;31m                                                                                    entry[3])\n\u001b[0m\u001b[1;32m     32\u001b[0m             \u001b[0mfpr_w2v_norm\u001b[0m\u001b[0;34m,\u001b[0m \u001b[0mtpr_w2v_norm\u001b[0m\u001b[0;34m,\u001b[0m \u001b[0m_\u001b[0m \u001b[0;34m=\u001b[0m \u001b[0mroc_curve\u001b[0m\u001b[0;34m(\u001b[0m\u001b[0mentry\u001b[0m\u001b[0;34m[\u001b[0m\u001b[0;36m3\u001b[0m\u001b[0;34m]\u001b[0m\u001b[0;34m,\u001b[0m \u001b[0mprobs_w2v_norm\u001b[0m\u001b[0;34m)\u001b[0m\u001b[0;34m\u001b[0m\u001b[0m\n\u001b[1;32m     33\u001b[0m             pred_labels_fs, error_w2v_fs, probs_w2v_fs = pred.XGB_classifier(entry[0], entry[1],\n",
      "\u001b[0;32m/home/bioinformatics/Desktop/KU/Master_Thesis/Master-Thesis-Proper/Code/Core-scripts/prediction.py\u001b[0m in \u001b[0;36mXGB_classifier\u001b[0;34m(train_vector, test_vector, labels_train, labels_test, feature_selection)\u001b[0m\n\u001b[1;32m    245\u001b[0m                             seed=24)\n\u001b[1;32m    246\u001b[0m     \u001b[0mprint\u001b[0m \u001b[0;34m(\u001b[0m\u001b[0;34m\"\\n Fitting XGBoost Model!\"\u001b[0m\u001b[0;34m)\u001b[0m\u001b[0;34m\u001b[0m\u001b[0m\n\u001b[0;32m--> 247\u001b[0;31m     \u001b[0mxgb_clf\u001b[0m \u001b[0;34m=\u001b[0m \u001b[0mxgb_clf\u001b[0m\u001b[0;34m.\u001b[0m\u001b[0mfit\u001b[0m\u001b[0;34m(\u001b[0m\u001b[0mtrain_vector\u001b[0m\u001b[0;34m,\u001b[0m \u001b[0mlabels_train\u001b[0m\u001b[0;34m)\u001b[0m\u001b[0;34m\u001b[0m\u001b[0m\n\u001b[0m\u001b[1;32m    248\u001b[0m     \u001b[0mprint\u001b[0m \u001b[0;34m(\u001b[0m\u001b[0;34m\"\\n Making Predictions\"\u001b[0m\u001b[0;34m)\u001b[0m\u001b[0;34m\u001b[0m\u001b[0m\n\u001b[1;32m    249\u001b[0m     \u001b[0mresult\u001b[0m \u001b[0;34m=\u001b[0m \u001b[0mxgb_clf\u001b[0m\u001b[0;34m.\u001b[0m\u001b[0mpredict\u001b[0m\u001b[0;34m(\u001b[0m\u001b[0mtest_vector\u001b[0m\u001b[0;34m)\u001b[0m\u001b[0;34m\u001b[0m\u001b[0m\n",
      "\u001b[0;32m/usr/local/lib/python3.5/dist-packages/xgboost/sklearn.py\u001b[0m in \u001b[0;36mfit\u001b[0;34m(self, X, y, sample_weight, eval_set, eval_metric, early_stopping_rounds, verbose)\u001b[0m\n\u001b[1;32m    443\u001b[0m                               \u001b[0mearly_stopping_rounds\u001b[0m\u001b[0;34m=\u001b[0m\u001b[0mearly_stopping_rounds\u001b[0m\u001b[0;34m,\u001b[0m\u001b[0;34m\u001b[0m\u001b[0m\n\u001b[1;32m    444\u001b[0m                               \u001b[0mevals_result\u001b[0m\u001b[0;34m=\u001b[0m\u001b[0mevals_result\u001b[0m\u001b[0;34m,\u001b[0m \u001b[0mobj\u001b[0m\u001b[0;34m=\u001b[0m\u001b[0mobj\u001b[0m\u001b[0;34m,\u001b[0m \u001b[0mfeval\u001b[0m\u001b[0;34m=\u001b[0m\u001b[0mfeval\u001b[0m\u001b[0;34m,\u001b[0m\u001b[0;34m\u001b[0m\u001b[0m\n\u001b[0;32m--> 445\u001b[0;31m                               verbose_eval=verbose)\n\u001b[0m\u001b[1;32m    446\u001b[0m \u001b[0;34m\u001b[0m\u001b[0m\n\u001b[1;32m    447\u001b[0m         \u001b[0mself\u001b[0m\u001b[0;34m.\u001b[0m\u001b[0mobjective\u001b[0m \u001b[0;34m=\u001b[0m \u001b[0mxgb_options\u001b[0m\u001b[0;34m[\u001b[0m\u001b[0;34m\"objective\"\u001b[0m\u001b[0;34m]\u001b[0m\u001b[0;34m\u001b[0m\u001b[0m\n",
      "\u001b[0;32m/usr/local/lib/python3.5/dist-packages/xgboost/training.py\u001b[0m in \u001b[0;36mtrain\u001b[0;34m(params, dtrain, num_boost_round, evals, obj, feval, maximize, early_stopping_rounds, evals_result, verbose_eval, learning_rates, xgb_model, callbacks)\u001b[0m\n\u001b[1;32m    203\u001b[0m                            \u001b[0mevals\u001b[0m\u001b[0;34m=\u001b[0m\u001b[0mevals\u001b[0m\u001b[0;34m,\u001b[0m\u001b[0;34m\u001b[0m\u001b[0m\n\u001b[1;32m    204\u001b[0m                            \u001b[0mobj\u001b[0m\u001b[0;34m=\u001b[0m\u001b[0mobj\u001b[0m\u001b[0;34m,\u001b[0m \u001b[0mfeval\u001b[0m\u001b[0;34m=\u001b[0m\u001b[0mfeval\u001b[0m\u001b[0;34m,\u001b[0m\u001b[0;34m\u001b[0m\u001b[0m\n\u001b[0;32m--> 205\u001b[0;31m                            xgb_model=xgb_model, callbacks=callbacks)\n\u001b[0m\u001b[1;32m    206\u001b[0m \u001b[0;34m\u001b[0m\u001b[0m\n\u001b[1;32m    207\u001b[0m \u001b[0;34m\u001b[0m\u001b[0m\n",
      "\u001b[0;32m/usr/local/lib/python3.5/dist-packages/xgboost/training.py\u001b[0m in \u001b[0;36m_train_internal\u001b[0;34m(params, dtrain, num_boost_round, evals, obj, feval, xgb_model, callbacks)\u001b[0m\n\u001b[1;32m     74\u001b[0m         \u001b[0;31m# Skip the first update if it is a recovery step.\u001b[0m\u001b[0;34m\u001b[0m\u001b[0;34m\u001b[0m\u001b[0m\n\u001b[1;32m     75\u001b[0m         \u001b[0;32mif\u001b[0m \u001b[0mversion\u001b[0m \u001b[0;34m%\u001b[0m \u001b[0;36m2\u001b[0m \u001b[0;34m==\u001b[0m \u001b[0;36m0\u001b[0m\u001b[0;34m:\u001b[0m\u001b[0;34m\u001b[0m\u001b[0m\n\u001b[0;32m---> 76\u001b[0;31m             \u001b[0mbst\u001b[0m\u001b[0;34m.\u001b[0m\u001b[0mupdate\u001b[0m\u001b[0;34m(\u001b[0m\u001b[0mdtrain\u001b[0m\u001b[0;34m,\u001b[0m \u001b[0mi\u001b[0m\u001b[0;34m,\u001b[0m \u001b[0mobj\u001b[0m\u001b[0;34m)\u001b[0m\u001b[0;34m\u001b[0m\u001b[0m\n\u001b[0m\u001b[1;32m     77\u001b[0m             \u001b[0mbst\u001b[0m\u001b[0;34m.\u001b[0m\u001b[0msave_rabit_checkpoint\u001b[0m\u001b[0;34m(\u001b[0m\u001b[0;34m)\u001b[0m\u001b[0;34m\u001b[0m\u001b[0m\n\u001b[1;32m     78\u001b[0m             \u001b[0mversion\u001b[0m \u001b[0;34m+=\u001b[0m \u001b[0;36m1\u001b[0m\u001b[0;34m\u001b[0m\u001b[0m\n",
      "\u001b[0;32m/usr/local/lib/python3.5/dist-packages/xgboost/core.py\u001b[0m in \u001b[0;36mupdate\u001b[0;34m(self, dtrain, iteration, fobj)\u001b[0m\n\u001b[1;32m    804\u001b[0m \u001b[0;34m\u001b[0m\u001b[0m\n\u001b[1;32m    805\u001b[0m         \u001b[0;32mif\u001b[0m \u001b[0mfobj\u001b[0m \u001b[0;32mis\u001b[0m \u001b[0;32mNone\u001b[0m\u001b[0;34m:\u001b[0m\u001b[0;34m\u001b[0m\u001b[0m\n\u001b[0;32m--> 806\u001b[0;31m             \u001b[0m_check_call\u001b[0m\u001b[0;34m(\u001b[0m\u001b[0m_LIB\u001b[0m\u001b[0;34m.\u001b[0m\u001b[0mXGBoosterUpdateOneIter\u001b[0m\u001b[0;34m(\u001b[0m\u001b[0mself\u001b[0m\u001b[0;34m.\u001b[0m\u001b[0mhandle\u001b[0m\u001b[0;34m,\u001b[0m \u001b[0miteration\u001b[0m\u001b[0;34m,\u001b[0m \u001b[0mdtrain\u001b[0m\u001b[0;34m.\u001b[0m\u001b[0mhandle\u001b[0m\u001b[0;34m)\u001b[0m\u001b[0;34m)\u001b[0m\u001b[0;34m\u001b[0m\u001b[0m\n\u001b[0m\u001b[1;32m    807\u001b[0m         \u001b[0;32melse\u001b[0m\u001b[0;34m:\u001b[0m\u001b[0;34m\u001b[0m\u001b[0m\n\u001b[1;32m    808\u001b[0m             \u001b[0mpred\u001b[0m \u001b[0;34m=\u001b[0m \u001b[0mself\u001b[0m\u001b[0;34m.\u001b[0m\u001b[0mpredict\u001b[0m\u001b[0;34m(\u001b[0m\u001b[0mdtrain\u001b[0m\u001b[0;34m)\u001b[0m\u001b[0;34m\u001b[0m\u001b[0m\n",
      "\u001b[0;31mKeyboardInterrupt\u001b[0m: "
     ]
    }
   ],
   "source": [
    "for seed in random_seeds:\n",
    "        strict_list_SR = pred.make_models(strict_data,\n",
    "                                          name_of_result+'_SR_'+str(seed),\n",
    "                                          prev_model=w2v_strict,\n",
    "                                          ran_state=seed)\n",
    "\n",
    "        strict_list_GEN = pred.make_models(strict_data,\n",
    "                                           name_of_result+'_GEN_'+str(seed),\n",
    "                                           prev_model=w2v_gen,\n",
    "                                           ran_state=seed)\n",
    "        strict_list_BE = pred.make_models(strict_data,\n",
    "                                          name_of_result+'_BE_'+str(seed),\n",
    "                                          prev_model=w2v_gen,\n",
    "                                          ran_state=seed)\n",
    "\n",
    "        strict_final_list = [strict_list_SR,\n",
    "                             strict_list_GEN,\n",
    "                             strict_list_BE]\n",
    "\n",
    "        print ('\\nPredicting\\n')\n",
    "        errors = []\n",
    "        probs = []\n",
    "        fpr = []\n",
    "        tpr = []\n",
    "        labels = []\n",
    "\n",
    "        for entry in strict_final_list:\n",
    "            pred_labels_norm, error_w2v_norm, probs_w2v_norm = pred.XGB_classifier(entry[0],\n",
    "                                                                                   entry[1],\n",
    "                                                                                   entry[2],\n",
    "                                                                                   entry[3])\n",
    "            fpr_w2v_norm, tpr_w2v_norm, _ = roc_curve(entry[3], probs_w2v_norm)\n",
    "            pred_labels_fs, error_w2v_fs, probs_w2v_fs = pred.XGB_classifier(entry[0], entry[1],\n",
    "                                                                             entry[2], entry[3],\n",
    "                                                                             feature_selection=True)\n",
    "            fpr_w2v_fs, tpr_w2v_fs, _ = roc_curve(entry[3], probs_w2v_fs)\n",
    "\n",
    "            errors.append([error_w2v_norm, error_w2v_fs])\n",
    "            probs.append([probs_w2v_norm, probs_w2v_fs])\n",
    "            fpr.append([fpr_w2v_norm, fpr_w2v_fs])\n",
    "            tpr.append([tpr_w2v_norm, tpr_w2v_fs])\n",
    "            labels.append([pred_labels_norm, pred_labels_fs])\n",
    "\n",
    "        pickle.dump(errors, open('Results/'+name_of_result+'_errors_pickle_'+str(seed)+'.pkl',\n",
    "                                 'wb'))\n",
    "        pickle.dump(probs, open('Results/'+name_of_result+'_probs_pickle_'+str(seed)+'.pkl',\n",
    "                                'wb'))\n",
    "        pickle.dump(fpr, open('Results/'+name_of_result+'_fpr_pickle_'+str(seed)+'.pkl',\n",
    "                              'wb'))\n",
    "        pickle.dump(tpr, open('Results/'+name_of_result+'_tpr_pickle_'+str(seed)+'.pkl',\n",
    "                              'wb'))\n",
    "        pickle.dump(labels, open('Results/'+name_of_result+'_labels_pickle_'+str(seed)+'.pkl',\n",
    "                                 'wb'))"
   ]
  },
  {
   "cell_type": "code",
   "execution_count": 11,
   "metadata": {
    "collapsed": true
   },
   "outputs": [],
   "source": [
    "def mult_open(direct, pattern):\n",
    "    pickle_list = []\n",
    "    file_list = []\n",
    "    for f in os.listdir(direct):\n",
    "        if re.search(pattern, f):\n",
    "            f = f.split('_')\n",
    "            f[-1] = f[-1][:-4]\n",
    "            file_list.append(f)\n",
    "    file_list.sort(key = lambda x: int(x[-1]))\n",
    "    for file in file_list:\n",
    "        file = '_'.join(file)\n",
    "        file = file + '.pkl'\n",
    "        pkl = pickle.load(open(os.path.join(direct, file), 'rb'))\n",
    "        pickle_list.append(pkl)\n",
    "    return pickle_list"
   ]
  },
  {
   "cell_type": "code",
   "execution_count": 26,
   "metadata": {
    "collapsed": false
   },
   "outputs": [],
   "source": [
    "drct = '../../Results/Yeast/pickles/'\n",
    "# drct = 'Results/'\n",
    "# errors_dros = mult_open(drct, '_errors_')\n",
    "# fpr_dros = mult_open(drct, '_fpr_')\n",
    "# tpr_dros = mult_open(drct, '_tpr_')\n",
    "errors_dros = mult_open(drct+'errors/', '_errors_')\n",
    "fpr_dros = mult_open(drct+'fpr/', '_fpr_')\n",
    "tpr_dros = mult_open(drct+'tpr/', '_tpr_')"
   ]
  },
  {
   "cell_type": "code",
   "execution_count": 23,
   "metadata": {
    "collapsed": false
   },
   "outputs": [
    {
     "name": "stdout",
     "output_type": "stream",
     "text": [
      "Strict error drosophila auc=0.502 error=0.400\n",
      "Strict error drosophila auc=0.498 error=0.378\n",
      "\n",
      "\n",
      "Gen error drosophila auc=0.482 error=0.400\n",
      "Gen error drosophila auc=0.592 error=0.400\n",
      "\n",
      "\n",
      "BE error drosophila auc=0.482 error=0.400\n",
      "BE error drosophila auc=0.539 error=0.400\n",
      "\n",
      "\n",
      "Strict error drosophila auc=0.598 error=0.380\n",
      "Strict error drosophila auc=0.575 error=0.418\n",
      "\n",
      "\n",
      "Gen error drosophila auc=0.572 error=0.380\n",
      "Gen error drosophila auc=0.606 error=0.380\n",
      "\n",
      "\n",
      "BE error drosophila auc=0.572 error=0.380\n",
      "BE error drosophila auc=0.597 error=0.443\n",
      "\n",
      "\n",
      "Strict error drosophila auc=0.639 error=0.244\n",
      "Strict error drosophila auc=0.701 error=0.222\n",
      "\n",
      "\n",
      "Gen error drosophila auc=0.556 error=0.244\n",
      "Gen error drosophila auc=0.503 error=0.267\n",
      "\n",
      "\n",
      "BE error drosophila auc=0.556 error=0.244\n",
      "BE error drosophila auc=0.636 error=0.267\n",
      "\n",
      "\n",
      "Strict error drosophila auc=0.462 error=0.274\n",
      "Strict error drosophila auc=0.441 error=0.316\n",
      "\n",
      "\n",
      "Gen error drosophila auc=0.594 error=0.200\n",
      "Gen error drosophila auc=0.587 error=0.263\n",
      "\n",
      "\n",
      "BE error drosophila auc=0.594 error=0.200\n",
      "BE error drosophila auc=0.602 error=0.232\n",
      "\n",
      "\n",
      "Strict error drosophila auc=0.640 error=0.250\n",
      "Strict error drosophila auc=0.624 error=0.250\n",
      "\n",
      "\n",
      "Gen error drosophila auc=0.546 error=0.321\n",
      "Gen error drosophila auc=0.458 error=0.339\n",
      "\n",
      "\n",
      "BE error drosophila auc=0.546 error=0.321\n",
      "BE error drosophila auc=0.594 error=0.268\n",
      "\n",
      "\n",
      "Strict error drosophila auc=0.448 error=0.276\n",
      "Strict error drosophila auc=0.558 error=0.291\n",
      "\n",
      "\n",
      "Gen error drosophila auc=0.346 error=0.307\n",
      "Gen error drosophila auc=0.399 error=0.291\n",
      "\n",
      "\n",
      "BE error drosophila auc=0.346 error=0.307\n",
      "BE error drosophila auc=0.382 error=0.260\n",
      "\n",
      "\n",
      "Strict error drosophila auc=0.529 error=0.239\n",
      "Strict error drosophila auc=0.562 error=0.214\n",
      "\n",
      "\n",
      "Gen error drosophila auc=0.647 error=0.222\n",
      "Gen error drosophila auc=0.695 error=0.188\n",
      "\n",
      "\n",
      "BE error drosophila auc=0.647 error=0.222\n",
      "BE error drosophila auc=0.610 error=0.197\n",
      "\n",
      "\n",
      "Strict error drosophila auc=0.739 error=0.185\n",
      "Strict error drosophila auc=0.695 error=0.222\n",
      "\n",
      "\n",
      "Gen error drosophila auc=0.773 error=0.204\n",
      "Gen error drosophila auc=0.691 error=0.167\n",
      "\n",
      "\n",
      "BE error drosophila auc=0.773 error=0.204\n",
      "BE error drosophila auc=0.709 error=0.167\n",
      "\n",
      "\n",
      "Strict error drosophila auc=0.507 error=0.318\n",
      "Strict error drosophila auc=0.538 error=0.349\n",
      "\n",
      "\n",
      "Gen error drosophila auc=0.670 error=0.264\n",
      "Gen error drosophila auc=0.719 error=0.225\n",
      "\n",
      "\n",
      "BE error drosophila auc=0.670 error=0.264\n",
      "BE error drosophila auc=0.654 error=0.248\n",
      "\n",
      "\n"
     ]
    }
   ],
   "source": [
    "mean_err_dros_strict = []\n",
    "mean_auc_dros_strict = []\n",
    "mean_err_dros_gen = []\n",
    "mean_auc_dros_gen = []\n",
    "mean_err_dros_be = []\n",
    "mean_auc_dros_be = []\n",
    "for e, f, t in zip(errors_dros, fpr_dros, tpr_dros):\n",
    "    input_list = [[e, f, t]]\n",
    "    name_list = ['drosophila']\n",
    "    for idx in range(3):\n",
    "        for item, name in zip(input_list, name_list):\n",
    "            for fpr_item, tpr_item, error_item in zip(item[1][idx], item[2][idx], item[0][idx]):\n",
    "                roc_auc = auc(fpr_item, tpr_item)\n",
    "                auc_val = '%.3f' % roc_auc\n",
    "                error = '%.3f' % error_item\n",
    "                if idx == 0:\n",
    "                    mean_err_dros_strict.append(error_item)\n",
    "                    mean_auc_dros_strict.append(roc_auc)\n",
    "                    legend_label = 'Strict error ' + name + ' auc=' + str(auc_val) + ' error=' + str(error)\n",
    "                    print(legend_label)\n",
    "                elif idx == 1:\n",
    "                    mean_err_dros_gen.append(error_item)\n",
    "                    mean_auc_dros_gen.append(roc_auc)\n",
    "                    legend_label = 'Gen error ' + name + ' auc=' + str(auc_val) + ' error=' + str(error)\n",
    "                    print(legend_label)\n",
    "                elif idx == 2:\n",
    "                    mean_err_dros_be.append(error_item)\n",
    "                    mean_auc_dros_be.append(roc_auc)\n",
    "                    legend_label = 'BE error ' + name + ' auc=' + str(auc_val) + ' error=' + str(error)\n",
    "                    print(legend_label)\n",
    "            print('\\n')"
   ]
  },
  {
   "cell_type": "code",
   "execution_count": 24,
   "metadata": {
    "collapsed": true
   },
   "outputs": [],
   "source": [
    "mean_err_dros_org_strict = mean_err_dros_strict[0::2]\n",
    "mean_err_dros_fs_strict = mean_err_dros_strict[1::2]\n",
    "mean_auc_dros_org_strict = mean_auc_dros_strict[0::2]\n",
    "mean_auc_dros_fs_strict = mean_auc_dros_strict[1::2]\n",
    "\n",
    "mean_err_dros_org_gen = mean_err_dros_gen[0::2]\n",
    "mean_err_dros_fs_gen = mean_err_dros_gen[1::2]\n",
    "mean_auc_dros_org_gen = mean_auc_dros_gen[0::2]\n",
    "mean_auc_dros_fs_gen = mean_auc_dros_gen[1::2]\n",
    "\n",
    "mean_err_dros_org_be = mean_err_dros_be[0::2]\n",
    "mean_err_dros_fs_be = mean_err_dros_be[1::2]\n",
    "mean_auc_dros_org_be = mean_auc_dros_be[0::2]\n",
    "mean_auc_dros_fs_be = mean_auc_dros_be[1::2]"
   ]
  },
  {
   "cell_type": "code",
   "execution_count": 16,
   "metadata": {
    "collapsed": false
   },
   "outputs": [
    {
     "name": "stdout",
     "output_type": "stream",
     "text": [
      "Drosophila mean strict error original -  0.29325476723\n",
      "Drosophila mean strict error feature selection -  0.298751929877\n",
      "Drosophila mean strict AUC original -  0.515419630794\n",
      "Drosophila mean strict AUC feature selection -  0.532780663978\n",
      "\n",
      "\n",
      "Drosophila mean gen error original -  0.29639115642\n",
      "Drosophila mean gen error feature selection -  0.314458058619\n",
      "Drosophila mean gen AUC original -  0.573019950692\n",
      "Drosophila mean gen AUC feature selection -  0.572192761025\n",
      "\n",
      "\n",
      "Drosophila mean BE error original -  0.29639115642\n",
      "Drosophila mean BE error feature selection -  0.295508072027\n",
      "Drosophila mean BE AUC original -  0.573019950692\n",
      "Drosophila mean BE AUC feature selection -  0.556878043642\n"
     ]
    }
   ],
   "source": [
    "print('Drosophila mean strict error original - ', np.mean(mean_err_dros_org_strict))\n",
    "print('Drosophila mean strict error feature selection - ', np.mean(mean_err_dros_fs_strict))\n",
    "print('Drosophila mean strict AUC original - ', np.mean(mean_auc_dros_org_strict))\n",
    "print('Drosophila mean strict AUC feature selection - ', np.mean(mean_auc_dros_fs_strict))\n",
    "print('\\n')\n",
    "print('Drosophila mean gen error original - ', np.mean(mean_err_dros_org_gen))\n",
    "print('Drosophila mean gen error feature selection - ', np.mean(mean_err_dros_fs_gen))\n",
    "print('Drosophila mean gen AUC original - ', np.mean(mean_auc_dros_org_gen))\n",
    "print('Drosophila mean gen AUC feature selection - ', np.mean(mean_auc_dros_fs_gen))\n",
    "print('\\n')\n",
    "print('Drosophila mean BE error original - ', np.mean(mean_err_dros_org_be))\n",
    "print('Drosophila mean BE error feature selection - ', np.mean(mean_err_dros_fs_be))\n",
    "print('Drosophila mean BE AUC original - ', np.mean(mean_auc_dros_org_be))\n",
    "print('Drosophila mean BE AUC feature selection - ', np.mean(mean_auc_dros_fs_be))"
   ]
  },
  {
   "cell_type": "code",
   "execution_count": 20,
   "metadata": {
    "collapsed": false
   },
   "outputs": [
    {
     "name": "stdout",
     "output_type": "stream",
     "text": [
      "Yeast mean strict error original -  0.337190190706\n",
      "Yeast mean strict error feature selection -  0.345694518494\n",
      "Yeast mean strict AUC original -  0.686059394117\n",
      "Yeast mean strict AUC feature selection -  0.677546147865\n",
      "\n",
      "\n",
      "Yeast mean gen error original -  0.323628274819\n",
      "Yeast mean gen error feature selection -  0.323915164847\n",
      "Yeast mean gen AUC original -  0.722365036898\n",
      "Yeast mean gen AUC feature selection -  0.731975468777\n",
      "\n",
      "\n",
      "Yeast mean BE error original -  0.323628274819\n",
      "Yeast mean BE error feature selection -  0.338923555125\n",
      "Yeast mean BE AUC original -  0.722365036898\n",
      "Yeast mean BE AUC feature selection -  0.714853767216\n"
     ]
    }
   ],
   "source": [
    "print('Yeast mean strict error original - ', np.mean(mean_err_dros_org_strict))\n",
    "print('Yeast mean strict error feature selection - ', np.mean(mean_err_dros_fs_strict))\n",
    "print('Yeast mean strict AUC original - ', np.mean(mean_auc_dros_org_strict))\n",
    "print('Yeast mean strict AUC feature selection - ', np.mean(mean_auc_dros_fs_strict))\n",
    "print('\\n')\n",
    "print('Yeast mean gen error original - ', np.mean(mean_err_dros_org_gen))\n",
    "print('Yeast mean gen error feature selection - ', np.mean(mean_err_dros_fs_gen))\n",
    "print('Yeast mean gen AUC original - ', np.mean(mean_auc_dros_org_gen))\n",
    "print('Yeast mean gen AUC feature selection - ', np.mean(mean_auc_dros_fs_gen))\n",
    "print('\\n')\n",
    "print('Yeast mean BE error original - ', np.mean(mean_err_dros_org_be))\n",
    "print('Yeast mean BE error feature selection - ', np.mean(mean_err_dros_fs_be))\n",
    "print('Yeast mean BE AUC original - ', np.mean(mean_auc_dros_org_be))\n",
    "print('Yeast mean BE AUC feature selection - ', np.mean(mean_auc_dros_fs_be))"
   ]
  },
  {
   "cell_type": "code",
   "execution_count": null,
   "metadata": {
    "collapsed": false
   },
   "outputs": [],
   "source": []
  },
  {
   "cell_type": "code",
   "execution_count": null,
   "metadata": {
    "collapsed": true
   },
   "outputs": [],
   "source": []
  }
 ],
 "metadata": {
  "kernelspec": {
   "display_name": "Python 3",
   "language": "python",
   "name": "python3"
  },
  "language_info": {
   "codemirror_mode": {
    "name": "ipython",
    "version": 3
   },
   "file_extension": ".py",
   "mimetype": "text/x-python",
   "name": "python",
   "nbconvert_exporter": "python",
   "pygments_lexer": "ipython3",
   "version": "3.5.2"
  }
 },
 "nbformat": 4,
 "nbformat_minor": 2
}
