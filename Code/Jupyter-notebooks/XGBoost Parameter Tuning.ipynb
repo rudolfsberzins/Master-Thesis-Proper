{
 "cells": [
  {
   "cell_type": "code",
   "execution_count": 15,
   "metadata": {
    "collapsed": true,
    "deletable": true,
    "editable": true
   },
   "outputs": [],
   "source": [
    "import pickle\n",
    "import os\n",
    "import re\n",
    "import numpy as np\n",
    "from gensim.models import word2vec\n",
    "import logging\n",
    "import pandas as pd"
   ]
  },
  {
   "cell_type": "code",
   "execution_count": 4,
   "metadata": {
    "collapsed": false,
    "deletable": true,
    "editable": true
   },
   "outputs": [],
   "source": [
    "import sys\n",
    "sys.path.insert(0, '../Core-scripts/')\n",
    "\n",
    "from parse_and_prepare import ProteinProteinInteractionClassifier as ppi\n",
    "import file_readers as fr\n",
    "import prediction as pred"
   ]
  },
  {
   "cell_type": "code",
   "execution_count": 19,
   "metadata": {
    "collapsed": false
   },
   "outputs": [],
   "source": [
    "import xgboost as xgb\n",
    "from xgboost.sklearn import XGBClassifier\n",
    "from sklearn import cross_validation, metrics\n",
    "from sklearn.grid_search import GridSearchCV"
   ]
  },
  {
   "cell_type": "code",
   "execution_count": 7,
   "metadata": {
    "collapsed": true
   },
   "outputs": [],
   "source": [
    "import matplotlib.pylab as plt\n",
    "%matplotlib inline\n",
    "from matplotlib.pylab import rcParams\n",
    "rcParams['figure.figsize'] = 12, 4"
   ]
  },
  {
   "cell_type": "code",
   "execution_count": 9,
   "metadata": {
    "collapsed": true
   },
   "outputs": [],
   "source": [
    "yeast_strict_real = pickle.load(open('../../Results/Yeast/yeast_mentions_strict_real.pkl', 'rb'))\n",
    "yeast_gen_real = pickle.load(open('../../Results/Yeast/yeast_mentions_gen_real.pkl', 'rb'))\n",
    "yeast_be_real = pickle.load(open('../../Results/Yeast/yeast_mentions_be_real.pkl', 'rb'))\n",
    "random_seeds = [144, 235, 905, 2895, 3462, 4225, 5056, 5192, 7751, 7813]"
   ]
  },
  {
   "cell_type": "code",
   "execution_count": 10,
   "metadata": {
    "collapsed": true
   },
   "outputs": [],
   "source": [
    "for seed in random_seeds:\n",
    "    real_tr_te_name = 'Yeast/train_test/yeast_tr_te_split_' + str(seed)\n",
    "    train_data, b, c, d = pred.manual_train_test_split(yeast_strict_real, real_tr_te_name, random_state=seed ,test_set_prop=0.1)"
   ]
  },
  {
   "cell_type": "code",
   "execution_count": 11,
   "metadata": {
    "collapsed": false,
    "scrolled": true
   },
   "outputs": [
    {
     "name": "stderr",
     "output_type": "stream",
     "text": [
      "2017-05-13 12:11:31,350 : INFO : collecting all words and their counts\n",
      "2017-05-13 12:11:31,351 : INFO : PROGRESS: at sentence #0, processed 0 words, keeping 0 word types\n",
      "2017-05-13 12:11:31,383 : INFO : collected 11431 word types from a corpus of 188505 raw words and 7145 sentences\n",
      "2017-05-13 12:11:31,385 : INFO : Loading a fresh vocabulary\n",
      "2017-05-13 12:11:31,400 : INFO : min_count=6 retains 2978 unique words (26% of original 11431, drops 8453)\n",
      "2017-05-13 12:11:31,401 : INFO : min_count=6 leaves 173585 word corpus (92% of original 188505, drops 14920)\n",
      "2017-05-13 12:11:31,411 : INFO : deleting the raw counts dictionary of 11431 items\n",
      "2017-05-13 12:11:31,413 : INFO : sample=1e-06 downsamples 2978 most-common words\n",
      "2017-05-13 12:11:31,414 : INFO : downsampling leaves estimated 7107 word corpus (4.1% of prior 173585)\n",
      "2017-05-13 12:11:31,414 : INFO : estimated required memory for 2978 words and 600 dimensions: 15783400 bytes\n",
      "2017-05-13 12:11:31,429 : INFO : resetting layer weights\n",
      "2017-05-13 12:11:31,482 : INFO : training model with 4 workers on 2978 vocabulary and 600 features, using sg=0 hs=0 sample=1e-06 negative=5 window=6\n",
      "2017-05-13 12:11:31,483 : INFO : expecting 7145 sentences, matching count from corpus used for vocabulary survey\n"
     ]
    },
    {
     "name": "stdout",
     "output_type": "stream",
     "text": [
      "Parsing datasets sentences\n",
      "Training Word2Vec Model\n"
     ]
    },
    {
     "name": "stderr",
     "output_type": "stream",
     "text": [
      "2017-05-13 12:11:31,793 : INFO : worker thread finished; awaiting finish of 3 more threads\n",
      "2017-05-13 12:11:31,794 : INFO : worker thread finished; awaiting finish of 2 more threads\n",
      "2017-05-13 12:11:31,795 : INFO : worker thread finished; awaiting finish of 1 more threads\n",
      "2017-05-13 12:11:31,795 : INFO : worker thread finished; awaiting finish of 0 more threads\n",
      "2017-05-13 12:11:31,796 : INFO : training on 942525 raw words (35273 effective words) took 0.3s, 116771 effective words/s\n",
      "2017-05-13 12:11:31,796 : INFO : precomputing L2-norms of word weight vectors\n",
      "2017-05-13 12:11:31,815 : INFO : saving Word2Vec object under ../../Results/Yeast/models/yeast_strict_model, separately None\n",
      "2017-05-13 12:11:31,816 : INFO : not storing attribute syn0norm\n",
      "2017-05-13 12:11:31,817 : INFO : not storing attribute cum_table\n",
      "2017-05-13 12:11:31,933 : INFO : saved ../../Results/Yeast/models/yeast_strict_model\n"
     ]
    },
    {
     "name": "stdout",
     "output_type": "stream",
     "text": [
      "Parsing datasets sentences\n"
     ]
    },
    {
     "name": "stderr",
     "output_type": "stream",
     "text": [
      "2017-05-13 12:11:32,746 : INFO : collecting all words and their counts\n",
      "2017-05-13 12:11:32,747 : INFO : PROGRESS: at sentence #0, processed 0 words, keeping 0 word types\n",
      "2017-05-13 12:11:32,795 : INFO : PROGRESS: at sentence #10000, processed 243098 words, keeping 11405 word types\n",
      "2017-05-13 12:11:32,841 : INFO : PROGRESS: at sentence #20000, processed 486449 words, keeping 15036 word types\n",
      "2017-05-13 12:11:32,889 : INFO : PROGRESS: at sentence #30000, processed 728927 words, keeping 17673 word types\n",
      "2017-05-13 12:11:32,938 : INFO : PROGRESS: at sentence #40000, processed 971479 words, keeping 19784 word types\n"
     ]
    },
    {
     "name": "stdout",
     "output_type": "stream",
     "text": [
      "Training Word2Vec Model\n"
     ]
    },
    {
     "name": "stderr",
     "output_type": "stream",
     "text": [
      "2017-05-13 12:11:32,975 : INFO : collected 21147 word types from a corpus of 1155938 raw words and 47662 sentences\n",
      "2017-05-13 12:11:32,976 : INFO : Loading a fresh vocabulary\n",
      "2017-05-13 12:11:32,996 : INFO : min_count=6 retains 7355 unique words (34% of original 21147, drops 13792)\n",
      "2017-05-13 12:11:32,997 : INFO : min_count=6 leaves 1130505 word corpus (97% of original 1155938, drops 25433)\n",
      "2017-05-13 12:11:33,025 : INFO : deleting the raw counts dictionary of 21147 items\n",
      "2017-05-13 12:11:33,027 : INFO : sample=1e-06 downsamples 7355 most-common words\n",
      "2017-05-13 12:11:33,028 : INFO : downsampling leaves estimated 65730 word corpus (5.8% of prior 1130505)\n",
      "2017-05-13 12:11:33,029 : INFO : estimated required memory for 7355 words and 600 dimensions: 38981500 bytes\n",
      "2017-05-13 12:11:33,065 : INFO : resetting layer weights\n",
      "2017-05-13 12:11:33,187 : INFO : training model with 4 workers on 7355 vocabulary and 600 features, using sg=0 hs=0 sample=1e-06 negative=5 window=6\n",
      "2017-05-13 12:11:33,188 : INFO : expecting 47662 sentences, matching count from corpus used for vocabulary survey\n",
      "2017-05-13 12:11:34,198 : INFO : PROGRESS: at 39.91% examples, 129826 words/s, in_qsize 8, out_qsize 1\n",
      "2017-05-13 12:11:35,202 : INFO : PROGRESS: at 82.41% examples, 134495 words/s, in_qsize 7, out_qsize 0\n",
      "2017-05-13 12:11:35,604 : INFO : worker thread finished; awaiting finish of 3 more threads\n",
      "2017-05-13 12:11:35,609 : INFO : worker thread finished; awaiting finish of 2 more threads\n",
      "2017-05-13 12:11:35,610 : INFO : worker thread finished; awaiting finish of 1 more threads\n",
      "2017-05-13 12:11:35,611 : INFO : worker thread finished; awaiting finish of 0 more threads\n",
      "2017-05-13 12:11:35,612 : INFO : training on 5779690 raw words (327866 effective words) took 2.4s, 135545 effective words/s\n",
      "2017-05-13 12:11:35,612 : INFO : precomputing L2-norms of word weight vectors\n",
      "2017-05-13 12:11:35,659 : INFO : saving Word2Vec object under ../../Results/Yeast/models/yeast_gen_model, separately None\n",
      "2017-05-13 12:11:35,659 : INFO : not storing attribute syn0norm\n",
      "2017-05-13 12:11:35,660 : INFO : not storing attribute cum_table\n",
      "2017-05-13 12:11:35,970 : INFO : saved ../../Results/Yeast/models/yeast_gen_model\n"
     ]
    },
    {
     "name": "stdout",
     "output_type": "stream",
     "text": [
      "Parsing datasets sentences\n"
     ]
    },
    {
     "name": "stderr",
     "output_type": "stream",
     "text": [
      "2017-05-13 12:11:37,999 : INFO : collecting all words and their counts\n",
      "2017-05-13 12:11:38,000 : INFO : PROGRESS: at sentence #0, processed 0 words, keeping 0 word types\n",
      "2017-05-13 12:11:38,041 : INFO : PROGRESS: at sentence #10000, processed 230983 words, keeping 12390 word types\n",
      "2017-05-13 12:11:38,080 : INFO : PROGRESS: at sentence #20000, processed 459935 words, keeping 16972 word types\n",
      "2017-05-13 12:11:38,122 : INFO : PROGRESS: at sentence #30000, processed 688750 words, keeping 20327 word types\n",
      "2017-05-13 12:11:38,167 : INFO : PROGRESS: at sentence #40000, processed 917192 words, keeping 22966 word types\n"
     ]
    },
    {
     "name": "stdout",
     "output_type": "stream",
     "text": [
      "Training Word2Vec Model\n"
     ]
    },
    {
     "name": "stderr",
     "output_type": "stream",
     "text": [
      "2017-05-13 12:11:38,210 : INFO : PROGRESS: at sentence #50000, processed 1144561 words, keeping 25294 word types\n",
      "2017-05-13 12:11:38,257 : INFO : PROGRESS: at sentence #60000, processed 1373317 words, keeping 27272 word types\n",
      "2017-05-13 12:11:38,304 : INFO : PROGRESS: at sentence #70000, processed 1602255 words, keeping 29021 word types\n",
      "2017-05-13 12:11:38,348 : INFO : PROGRESS: at sentence #80000, processed 1831656 words, keeping 30642 word types\n",
      "2017-05-13 12:11:38,390 : INFO : PROGRESS: at sentence #90000, processed 2059677 words, keeping 32239 word types\n",
      "2017-05-13 12:11:38,433 : INFO : PROGRESS: at sentence #100000, processed 2288822 words, keeping 33691 word types\n",
      "2017-05-13 12:11:38,476 : INFO : PROGRESS: at sentence #110000, processed 2518580 words, keeping 35007 word types\n",
      "2017-05-13 12:11:38,519 : INFO : PROGRESS: at sentence #120000, processed 2747217 words, keeping 36300 word types\n",
      "2017-05-13 12:11:38,563 : INFO : PROGRESS: at sentence #130000, processed 2975728 words, keeping 37468 word types\n",
      "2017-05-13 12:11:38,607 : INFO : PROGRESS: at sentence #140000, processed 3204725 words, keeping 38543 word types\n",
      "2017-05-13 12:11:38,653 : INFO : PROGRESS: at sentence #150000, processed 3432801 words, keeping 39603 word types\n",
      "2017-05-13 12:11:38,699 : INFO : PROGRESS: at sentence #160000, processed 3661846 words, keeping 40687 word types\n",
      "2017-05-13 12:11:38,744 : INFO : PROGRESS: at sentence #170000, processed 3891502 words, keeping 41707 word types\n",
      "2017-05-13 12:11:38,787 : INFO : PROGRESS: at sentence #180000, processed 4120417 words, keeping 42744 word types\n",
      "2017-05-13 12:11:38,831 : INFO : PROGRESS: at sentence #190000, processed 4350806 words, keeping 43738 word types\n",
      "2017-05-13 12:11:38,875 : INFO : PROGRESS: at sentence #200000, processed 4578931 words, keeping 44551 word types\n",
      "2017-05-13 12:11:38,915 : INFO : collected 45300 word types from a corpus of 4784186 raw words and 208973 sentences\n",
      "2017-05-13 12:11:38,915 : INFO : Loading a fresh vocabulary\n",
      "2017-05-13 12:11:39,230 : INFO : min_count=6 retains 15261 unique words (33% of original 45300, drops 30039)\n",
      "2017-05-13 12:11:39,233 : INFO : min_count=6 leaves 4728807 word corpus (98% of original 4784186, drops 55379)\n",
      "2017-05-13 12:11:39,281 : INFO : deleting the raw counts dictionary of 45300 items\n",
      "2017-05-13 12:11:39,286 : INFO : sample=1e-06 downsamples 10211 most-common words\n",
      "2017-05-13 12:11:39,287 : INFO : downsampling leaves estimated 357708 word corpus (7.6% of prior 4728807)\n",
      "2017-05-13 12:11:39,288 : INFO : estimated required memory for 15261 words and 600 dimensions: 80883300 bytes\n",
      "2017-05-13 12:11:39,340 : INFO : resetting layer weights\n",
      "2017-05-13 12:11:39,588 : INFO : training model with 4 workers on 15261 vocabulary and 600 features, using sg=0 hs=0 sample=1e-06 negative=5 window=6\n",
      "2017-05-13 12:11:39,589 : INFO : expecting 208973 sentences, matching count from corpus used for vocabulary survey\n",
      "2017-05-13 12:11:40,604 : INFO : PROGRESS: at 8.02% examples, 141697 words/s, in_qsize 4, out_qsize 3\n",
      "2017-05-13 12:11:41,609 : INFO : PROGRESS: at 14.74% examples, 130790 words/s, in_qsize 7, out_qsize 0\n",
      "2017-05-13 12:11:42,611 : INFO : PROGRESS: at 21.78% examples, 129410 words/s, in_qsize 7, out_qsize 0\n",
      "2017-05-13 12:11:43,616 : INFO : PROGRESS: at 30.31% examples, 135084 words/s, in_qsize 8, out_qsize 0\n",
      "2017-05-13 12:11:44,619 : INFO : PROGRESS: at 39.08% examples, 139304 words/s, in_qsize 8, out_qsize 0\n",
      "2017-05-13 12:11:45,630 : INFO : PROGRESS: at 47.18% examples, 139920 words/s, in_qsize 7, out_qsize 0\n",
      "2017-05-13 12:11:46,631 : INFO : PROGRESS: at 54.11% examples, 137723 words/s, in_qsize 7, out_qsize 0\n",
      "2017-05-13 12:11:47,642 : INFO : PROGRESS: at 60.41% examples, 134396 words/s, in_qsize 7, out_qsize 0\n",
      "2017-05-13 12:11:48,649 : INFO : PROGRESS: at 67.18% examples, 132788 words/s, in_qsize 7, out_qsize 0\n",
      "2017-05-13 12:11:49,653 : INFO : PROGRESS: at 73.35% examples, 130519 words/s, in_qsize 7, out_qsize 1\n",
      "2017-05-13 12:11:50,655 : INFO : PROGRESS: at 80.07% examples, 129605 words/s, in_qsize 8, out_qsize 1\n",
      "2017-05-13 12:11:51,658 : INFO : PROGRESS: at 87.63% examples, 130006 words/s, in_qsize 7, out_qsize 0\n",
      "2017-05-13 12:11:52,668 : INFO : PROGRESS: at 95.24% examples, 130378 words/s, in_qsize 7, out_qsize 0\n",
      "2017-05-13 12:11:53,387 : INFO : worker thread finished; awaiting finish of 3 more threads\n",
      "2017-05-13 12:11:53,391 : INFO : worker thread finished; awaiting finish of 2 more threads\n",
      "2017-05-13 12:11:53,395 : INFO : worker thread finished; awaiting finish of 1 more threads\n",
      "2017-05-13 12:11:53,396 : INFO : worker thread finished; awaiting finish of 0 more threads\n",
      "2017-05-13 12:11:53,397 : INFO : training on 23920930 raw words (1790042 effective words) took 13.8s, 129683 effective words/s\n",
      "2017-05-13 12:11:53,398 : INFO : precomputing L2-norms of word weight vectors\n",
      "2017-05-13 12:11:53,491 : INFO : saving Word2Vec object under ../../Results/Yeast/models/yeast_be_model, separately None\n",
      "2017-05-13 12:11:53,492 : INFO : not storing attribute syn0norm\n",
      "2017-05-13 12:11:53,493 : INFO : not storing attribute cum_table\n",
      "2017-05-13 12:11:54,295 : INFO : saved ../../Results/Yeast/models/yeast_be_model\n"
     ]
    }
   ],
   "source": [
    "yeast_w2v_model_strict = pred.make_w2v_model(yeast_strict_real, 'Yeast/models/yeast_strict')\n",
    "yeast_w2v_model_gen = pred.make_w2v_model(yeast_gen_real, 'Yeast/models/yeast_gen')\n",
    "yeast_w2v_model_be = pred.make_w2v_model(yeast_be_real, 'Yeast/models/yeast_be')"
   ]
  },
  {
   "cell_type": "code",
   "execution_count": 13,
   "metadata": {
    "collapsed": false
   },
   "outputs": [],
   "source": [
    "for seed in random_seeds:\n",
    "    data_name = '../../Results/Yeast/train_test/yeast_tr_te_split_' + str(seed)\n",
    "    train_data = pickle.load(open(data_name + '_train_data.pkl', 'rb'))\n",
    "    train_labels = pickle.load(open(data_name + '_train_labels.pkl', 'rb'))\n",
    "    test_data = pickle.load(open(data_name + '_test_data.pkl', 'rb'))\n",
    "    test_labels = pickle.load(open(data_name + '_test_labels.pkl', 'rb'))\n",
    "\n",
    "    w2v_train_vecs, w2v_test_vecs = pred.word_2_vec_feat_vecs(train_data, test_data, yeast_w2v_model_strict, feature_count=600)\n",
    "\n",
    "    strict_list_SR_dims_param = [w2v_train_vecs, w2v_test_vecs,\n",
    "                                 train_labels, test_labels]\n",
    "\n",
    "    w2v_train_vecs, w2v_test_vecs = pred.word_2_vec_feat_vecs(train_data, test_data, yeast_w2v_model_gen, feature_count=600)\n",
    "\n",
    "    strict_list_GEN_dims_param = [w2v_train_vecs, w2v_test_vecs,\n",
    "                                  train_labels, test_labels]\n",
    "\n",
    "    w2v_train_vecs, w2v_test_vecs = pred.word_2_vec_feat_vecs(train_data, test_data, yeast_w2v_model_be, feature_count=600)\n",
    "\n",
    "    strict_list_BE_dims_param = [w2v_train_vecs, w2v_test_vecs,\n",
    "                                 train_labels, test_labels]\n",
    "\n",
    "    pickle.dump(strict_list_SR_dims_param, open('../../Results/Yeast/result_list/yeast_strict_list_SR_dims_param_'+str(seed)+'_results_list.pkl', 'wb'))\n",
    "    pickle.dump(strict_list_GEN_dims_param, open('../../Results/Yeast/result_list/yeast_strict_list_GEN_dims_param_'+str(seed)+'_results_list.pkl', 'wb'))\n",
    "    pickle.dump(strict_list_BE_dims_param, open('../../Results/Yeast/result_list/yeast_strict_list_BE_dims_param_'+str(seed)+'_results_list.pkl', 'wb'))"
   ]
  },
  {
   "cell_type": "code",
   "execution_count": 28,
   "metadata": {
    "collapsed": true
   },
   "outputs": [],
   "source": [
    "def modelfit(alg, train_vecs, train_labels, w2v_model_type, useTrainCV=True, cv_folds=5, early_stopping_rounds=50):\n",
    "    \n",
    "    if useTrainCV:\n",
    "        xgb_param=alg.get_xgb_params()\n",
    "        xgtrain = xgb.DMatrix(train_vecs, \n",
    "                              label=train_labels)\n",
    "        cvresult = xgb.cv(xgb_param, \n",
    "                          xgtrain, \n",
    "                          num_boost_round=alg.get_params()['n_estimators'], \n",
    "                          nfold=cv_folds, \n",
    "                          metrics='auc', \n",
    "                          early_stopping_rounds=50)\n",
    "        alg.set_params(n_estimators=cvresult.shape[0])\n",
    "        \n",
    "    #fit the algorithm on the data\n",
    "    alg.fit(train_vecs, train_labels, eval_metric='auc')\n",
    "    \n",
    "    #Predict training set:\n",
    "    train_predictions = alg.predict(train_vecs)\n",
    "    train_predprob = alg.predict_proba(train_vecs)[:,1]\n",
    "    \n",
    "    #Print Model report:\n",
    "    print(w2v_model_type, '\\nModel Report')\n",
    "    print(w2v_model_type, 'Accuracy: %.4g' % metrics.accuracy_score(train_labels, train_predictions))\n",
    "    print(w2v_model_type, 'AUC Score (Train): %f' % metrics.roc_auc_score(train_labels, train_predprob))\n",
    "    \n",
    "    feat_imp = pd.Series(alg.booster().get_fscore()).sort_values(ascending=False)\n",
    "    feat_imp.plot(kind='bar', title='Feature Importance')\n",
    "    plt.ylabel('Feature Importance Score')\n",
    "\n",
    "    error = 1-metrics.accuracy_score(train_labels, train_predictions)\n",
    "    auc = metrics.roc_auc_score(train_labels, train_predprob)\n",
    "    \n",
    "    return error, auc"
   ]
  },
  {
   "cell_type": "code",
   "execution_count": 31,
   "metadata": {
    "collapsed": false,
    "scrolled": true
   },
   "outputs": [
    {
     "name": "stdout",
     "output_type": "stream",
     "text": [
      "144\n",
      "STRICT \n",
      "Model Report\n",
      "STRICT Accuracy: 0.6019\n",
      "STRICT AUC Score (Train): 0.628022\n",
      "GEN \n",
      "Model Report\n",
      "GEN Accuracy: 0.6309\n",
      "GEN AUC Score (Train): 0.672836\n",
      "BE \n",
      "Model Report\n",
      "BE Accuracy: 0.6039\n",
      "BE AUC Score (Train): 0.654637\n",
      "235\n",
      "STRICT \n",
      "Model Report\n",
      "STRICT Accuracy: 0.616\n",
      "STRICT AUC Score (Train): 0.641866\n",
      "GEN \n",
      "Model Report\n",
      "GEN Accuracy: 0.6278\n",
      "GEN AUC Score (Train): 0.665564\n",
      "BE \n",
      "Model Report\n",
      "BE Accuracy: 0.6073\n",
      "BE AUC Score (Train): 0.633584\n",
      "905\n",
      "STRICT \n",
      "Model Report\n",
      "STRICT Accuracy: 0.6221\n",
      "STRICT AUC Score (Train): 0.669129\n",
      "GEN \n",
      "Model Report\n",
      "GEN Accuracy: 0.6236\n",
      "GEN AUC Score (Train): 0.659984\n",
      "BE \n",
      "Model Report\n",
      "BE Accuracy: 0.6122\n",
      "BE AUC Score (Train): 0.636338\n",
      "2895\n",
      "STRICT \n",
      "Model Report\n",
      "STRICT Accuracy: 0.6084\n",
      "STRICT AUC Score (Train): 0.645622\n",
      "GEN \n",
      "Model Report\n",
      "GEN Accuracy: 0.6269\n",
      "GEN AUC Score (Train): 0.658402\n",
      "BE \n",
      "Model Report\n",
      "BE Accuracy: 0.6207\n",
      "BE AUC Score (Train): 0.655032\n",
      "3462\n",
      "STRICT \n",
      "Model Report\n",
      "STRICT Accuracy: 0.6163\n",
      "STRICT AUC Score (Train): 0.662036\n",
      "GEN \n",
      "Model Report\n",
      "GEN Accuracy: 0.6242\n",
      "GEN AUC Score (Train): 0.667566\n",
      "BE \n",
      "Model Report\n",
      "BE Accuracy: 0.623\n",
      "BE AUC Score (Train): 0.657516\n",
      "4225\n",
      "STRICT \n",
      "Model Report\n",
      "STRICT Accuracy: 0.6319\n",
      "STRICT AUC Score (Train): 0.674646\n",
      "GEN \n",
      "Model Report\n",
      "GEN Accuracy: 0.6211\n",
      "GEN AUC Score (Train): 0.658486\n",
      "BE \n",
      "Model Report\n",
      "BE Accuracy: 0.6226\n",
      "BE AUC Score (Train): 0.667126\n",
      "5056\n",
      "STRICT \n",
      "Model Report\n",
      "STRICT Accuracy: 0.6301\n",
      "STRICT AUC Score (Train): 0.679149\n",
      "GEN \n",
      "Model Report\n",
      "GEN Accuracy: 0.6329\n",
      "GEN AUC Score (Train): 0.676977\n",
      "BE \n",
      "Model Report\n",
      "BE Accuracy: 0.6198\n",
      "BE AUC Score (Train): 0.666644\n",
      "5192\n",
      "STRICT \n",
      "Model Report\n",
      "STRICT Accuracy: 0.626\n",
      "STRICT AUC Score (Train): 0.655025\n",
      "GEN \n",
      "Model Report\n",
      "GEN Accuracy: 0.6352\n",
      "GEN AUC Score (Train): 0.685861\n",
      "BE \n",
      "Model Report\n",
      "BE Accuracy: 0.6155\n",
      "BE AUC Score (Train): 0.645641\n",
      "7751\n",
      "STRICT \n",
      "Model Report\n",
      "STRICT Accuracy: 0.6249\n",
      "STRICT AUC Score (Train): 0.666972\n",
      "GEN \n",
      "Model Report\n",
      "GEN Accuracy: 0.6325\n",
      "GEN AUC Score (Train): 0.678614\n",
      "BE \n",
      "Model Report\n",
      "BE Accuracy: 0.6234\n",
      "BE AUC Score (Train): 0.662459\n",
      "7813\n",
      "STRICT \n",
      "Model Report\n",
      "STRICT Accuracy: 0.6329\n",
      "STRICT AUC Score (Train): 0.683532\n",
      "GEN \n",
      "Model Report\n",
      "GEN Accuracy: 0.6335\n",
      "GEN AUC Score (Train): 0.669956\n",
      "BE \n",
      "Model Report\n",
      "BE Accuracy: 0.6354\n",
      "BE AUC Score (Train): 0.681532\n"
     ]
    },
    {
     "data": {
      "image/png": "[encoded data removed]",
      "text/plain": [
       "<matplotlib.figure.Figure at 0x7fd2578090f0>"
      ]
     },
     "metadata": {},
     "output_type": "display_data"
    }
   ],
   "source": [
    "xgb1 = XGBClassifier(learning_rate = 0.1, \n",
    "                     n_estimators=1000, \n",
    "                     max_depth=5, \n",
    "                     min_child_weight=1, \n",
    "                     gamma=0, \n",
    "                     subsample=0.8, \n",
    "                     colsample_bytree=0.8, \n",
    "                     objective='binary:logistic', \n",
    "                     nthread=4, \n",
    "                     scale_pos_weight=1, \n",
    "                     seed=24)\n",
    "\n",
    "strict_error_list = []\n",
    "strict_auc_list = []\n",
    "gen_error_list = []\n",
    "gen_auc_list = []\n",
    "be_error_list = []\n",
    "be_auc_list = []\n",
    "\n",
    "for seed in random_seeds:\n",
    "    \n",
    "    strict_list = pickle.load(open('../../Results/Yeast/result_list/yeast_strict_list_SR_dims_param_'+str(seed)+'_results_list.pkl', 'rb'))\n",
    "    gen_list = pickle.load(open('../../Results/Yeast/result_list/yeast_strict_list_GEN_dims_param_'+str(seed)+'_results_list.pkl', 'rb'))\n",
    "    be_list = pickle.load(open('../../Results/Yeast/result_list/yeast_strict_list_BE_dims_param_'+str(seed)+'_results_list.pkl', 'rb'))\n",
    "    print(seed)\n",
    "    strict_error, strict_auc = modelfit(xgb1, strict_list[0], strict_list[2], 'STRICT')\n",
    "    gen_error, gen_auc = modelfit(xgb1, gen_list[0], gen_list[2], 'GEN')\n",
    "    be_error, be_auc = modelfit(xgb1, be_list[0], be_list[2], 'BE')\n",
    "    \n",
    "    strict_error_list.append(strict_error)\n",
    "    strict_auc_list.append(strict_auc)\n",
    "    gen_error_list.append(gen_error)\n",
    "    gen_auc_list.append(gen_auc)\n",
    "    be_error_list.append(be_error)\n",
    "    be_auc_list.append(be_auc)"
   ]
  },
  {
   "cell_type": "code",
   "execution_count": 32,
   "metadata": {
    "collapsed": false
   },
   "outputs": [
    {
     "name": "stdout",
     "output_type": "stream",
     "text": [
      "Strict Results Error:  0.378943362667 , Auc:  0.66059997443\n",
      "Gen Results Error:  0.371137665262 , Auc:  0.669424603342\n",
      "Be Results Error:  0.381628285206 , Auc:  0.656050922499\n"
     ]
    }
   ],
   "source": [
    "print('Strict Results Error: ', np.mean(strict_error_list), ', Auc: ', np.mean(strict_auc_list))\n",
    "print('Gen Results Error: ', np.mean(gen_error_list), ', Auc: ', np.mean(gen_auc_list))\n",
    "print('Be Results Error: ', np.mean(be_error_list), ', Auc: ', np.mean(be_auc_list))"
   ]
  },
  {
   "cell_type": "code",
   "execution_count": 36,
   "metadata": {
    "collapsed": false
   },
   "outputs": [],
   "source": [
    "param_test1 = {\n",
    "    'max_depth':[3,4,5,6,7,8,9,10],\n",
    "    'min_child_weight':[1,2,3,4,5,6]\n",
    "}\n",
    "gsearch1 = GridSearchCV(estimator = XGBClassifier(learning_rate=0.1, \n",
    "                                                  n_estimators=140, \n",
    "                                                  max_depth=5, \n",
    "                                                  min_child_weight=1, \n",
    "                                                  gamma=0, \n",
    "                                                  subsample=0.8, \n",
    "                                                  colsample_bytree=0.8, \n",
    "                                                  objective='binary:logistic', \n",
    "                                                  nthread=4, \n",
    "                                                  scale_pos_weight=1, \n",
    "                                                  seed=24), \n",
    "                        param_grid=param_test1, \n",
    "                        scoring='roc_auc', \n",
    "                        n_jobs=4, \n",
    "                        iid=False, \n",
    "                        cv=5)"
   ]
  },
  {
   "cell_type": "code",
   "execution_count": 37,
   "metadata": {
    "collapsed": false
   },
   "outputs": [
    {
     "ename": "KeyboardInterrupt",
     "evalue": "",
     "output_type": "error",
     "traceback": [
      "\u001b[0;31m---------------------------------------------------------------------------\u001b[0m",
      "\u001b[0;31mKeyboardInterrupt\u001b[0m                         Traceback (most recent call last)",
      "\u001b[0;32m<ipython-input-37-ac6ecebb9b4d>\u001b[0m in \u001b[0;36m<module>\u001b[0;34m()\u001b[0m\n\u001b[1;32m      2\u001b[0m \u001b[0;32mfor\u001b[0m \u001b[0mseed\u001b[0m \u001b[0;32min\u001b[0m \u001b[0mrandom_seeds\u001b[0m\u001b[0;34m:\u001b[0m\u001b[0;34m\u001b[0m\u001b[0m\n\u001b[1;32m      3\u001b[0m     \u001b[0mstrict_list\u001b[0m \u001b[0;34m=\u001b[0m \u001b[0mpickle\u001b[0m\u001b[0;34m.\u001b[0m\u001b[0mload\u001b[0m\u001b[0;34m(\u001b[0m\u001b[0mopen\u001b[0m\u001b[0;34m(\u001b[0m\u001b[0;34m'../../Results/Yeast/result_list/yeast_strict_list_SR_dims_param_'\u001b[0m\u001b[0;34m+\u001b[0m\u001b[0mstr\u001b[0m\u001b[0;34m(\u001b[0m\u001b[0mseed\u001b[0m\u001b[0;34m)\u001b[0m\u001b[0;34m+\u001b[0m\u001b[0;34m'_results_list.pkl'\u001b[0m\u001b[0;34m,\u001b[0m \u001b[0;34m'rb'\u001b[0m\u001b[0;34m)\u001b[0m\u001b[0;34m)\u001b[0m\u001b[0;34m\u001b[0m\u001b[0m\n\u001b[0;32m----> 4\u001b[0;31m     \u001b[0mgsearch1\u001b[0m\u001b[0;34m.\u001b[0m\u001b[0mfit\u001b[0m\u001b[0;34m(\u001b[0m\u001b[0mstrict_list\u001b[0m\u001b[0;34m[\u001b[0m\u001b[0;36m0\u001b[0m\u001b[0;34m]\u001b[0m\u001b[0;34m,\u001b[0m \u001b[0mstrict_list\u001b[0m\u001b[0;34m[\u001b[0m\u001b[0;36m2\u001b[0m\u001b[0;34m]\u001b[0m\u001b[0;34m)\u001b[0m\u001b[0;34m\u001b[0m\u001b[0m\n\u001b[0m\u001b[1;32m      5\u001b[0m     \u001b[0mstrict_param_test1\u001b[0m\u001b[0;34m.\u001b[0m\u001b[0mappend\u001b[0m\u001b[0;34m(\u001b[0m\u001b[0;34m(\u001b[0m\u001b[0mseed\u001b[0m\u001b[0;34m,\u001b[0m \u001b[0;34m(\u001b[0m\u001b[0mgsearch1\u001b[0m\u001b[0;34m.\u001b[0m\u001b[0mbest_params_\u001b[0m\u001b[0;34m,\u001b[0m \u001b[0mgsearch1\u001b[0m\u001b[0;34m.\u001b[0m\u001b[0mbest_score_\u001b[0m\u001b[0;34m)\u001b[0m\u001b[0;34m)\u001b[0m\u001b[0;34m)\u001b[0m\u001b[0;34m\u001b[0m\u001b[0m\n",
      "\u001b[0;32m/usr/local/lib/python3.5/dist-packages/sklearn/grid_search.py\u001b[0m in \u001b[0;36mfit\u001b[0;34m(self, X, y)\u001b[0m\n\u001b[1;32m    827\u001b[0m \u001b[0;34m\u001b[0m\u001b[0m\n\u001b[1;32m    828\u001b[0m         \"\"\"\n\u001b[0;32m--> 829\u001b[0;31m         \u001b[0;32mreturn\u001b[0m \u001b[0mself\u001b[0m\u001b[0;34m.\u001b[0m\u001b[0m_fit\u001b[0m\u001b[0;34m(\u001b[0m\u001b[0mX\u001b[0m\u001b[0;34m,\u001b[0m \u001b[0my\u001b[0m\u001b[0;34m,\u001b[0m \u001b[0mParameterGrid\u001b[0m\u001b[0;34m(\u001b[0m\u001b[0mself\u001b[0m\u001b[0;34m.\u001b[0m\u001b[0mparam_grid\u001b[0m\u001b[0;34m)\u001b[0m\u001b[0;34m)\u001b[0m\u001b[0;34m\u001b[0m\u001b[0m\n\u001b[0m\u001b[1;32m    830\u001b[0m \u001b[0;34m\u001b[0m\u001b[0m\n\u001b[1;32m    831\u001b[0m \u001b[0;34m\u001b[0m\u001b[0m\n",
      "\u001b[0;32m/usr/local/lib/python3.5/dist-packages/sklearn/grid_search.py\u001b[0m in \u001b[0;36m_fit\u001b[0;34m(self, X, y, parameter_iterable)\u001b[0m\n\u001b[1;32m    571\u001b[0m                                     \u001b[0mself\u001b[0m\u001b[0;34m.\u001b[0m\u001b[0mfit_params\u001b[0m\u001b[0;34m,\u001b[0m \u001b[0mreturn_parameters\u001b[0m\u001b[0;34m=\u001b[0m\u001b[0;32mTrue\u001b[0m\u001b[0;34m,\u001b[0m\u001b[0;34m\u001b[0m\u001b[0m\n\u001b[1;32m    572\u001b[0m                                     error_score=self.error_score)\n\u001b[0;32m--> 573\u001b[0;31m                 \u001b[0;32mfor\u001b[0m \u001b[0mparameters\u001b[0m \u001b[0;32min\u001b[0m \u001b[0mparameter_iterable\u001b[0m\u001b[0;34m\u001b[0m\u001b[0m\n\u001b[0m\u001b[1;32m    574\u001b[0m                 for train, test in cv)\n\u001b[1;32m    575\u001b[0m \u001b[0;34m\u001b[0m\u001b[0m\n",
      "\u001b[0;32m/usr/local/lib/python3.5/dist-packages/sklearn/externals/joblib/parallel.py\u001b[0m in \u001b[0;36m__call__\u001b[0;34m(self, iterable)\u001b[0m\n\u001b[1;32m    766\u001b[0m                 \u001b[0;31m# consumption.\u001b[0m\u001b[0;34m\u001b[0m\u001b[0;34m\u001b[0m\u001b[0m\n\u001b[1;32m    767\u001b[0m                 \u001b[0mself\u001b[0m\u001b[0;34m.\u001b[0m\u001b[0m_iterating\u001b[0m \u001b[0;34m=\u001b[0m \u001b[0;32mFalse\u001b[0m\u001b[0;34m\u001b[0m\u001b[0m\n\u001b[0;32m--> 768\u001b[0;31m             \u001b[0mself\u001b[0m\u001b[0;34m.\u001b[0m\u001b[0mretrieve\u001b[0m\u001b[0;34m(\u001b[0m\u001b[0;34m)\u001b[0m\u001b[0;34m\u001b[0m\u001b[0m\n\u001b[0m\u001b[1;32m    769\u001b[0m             \u001b[0;31m# Make sure that we get a last message telling us we are done\u001b[0m\u001b[0;34m\u001b[0m\u001b[0;34m\u001b[0m\u001b[0m\n\u001b[1;32m    770\u001b[0m             \u001b[0melapsed_time\u001b[0m \u001b[0;34m=\u001b[0m \u001b[0mtime\u001b[0m\u001b[0;34m.\u001b[0m\u001b[0mtime\u001b[0m\u001b[0;34m(\u001b[0m\u001b[0;34m)\u001b[0m \u001b[0;34m-\u001b[0m \u001b[0mself\u001b[0m\u001b[0;34m.\u001b[0m\u001b[0m_start_time\u001b[0m\u001b[0;34m\u001b[0m\u001b[0m\n",
      "\u001b[0;32m/usr/local/lib/python3.5/dist-packages/sklearn/externals/joblib/parallel.py\u001b[0m in \u001b[0;36mretrieve\u001b[0;34m(self)\u001b[0m\n\u001b[1;32m    717\u001b[0m                     \u001b[0mensure_ready\u001b[0m \u001b[0;34m=\u001b[0m \u001b[0mself\u001b[0m\u001b[0;34m.\u001b[0m\u001b[0m_managed_backend\u001b[0m\u001b[0;34m\u001b[0m\u001b[0m\n\u001b[1;32m    718\u001b[0m                     \u001b[0mbackend\u001b[0m\u001b[0;34m.\u001b[0m\u001b[0mabort_everything\u001b[0m\u001b[0;34m(\u001b[0m\u001b[0mensure_ready\u001b[0m\u001b[0;34m=\u001b[0m\u001b[0mensure_ready\u001b[0m\u001b[0;34m)\u001b[0m\u001b[0;34m\u001b[0m\u001b[0m\n\u001b[0;32m--> 719\u001b[0;31m                 \u001b[0;32mraise\u001b[0m \u001b[0mexception\u001b[0m\u001b[0;34m\u001b[0m\u001b[0m\n\u001b[0m\u001b[1;32m    720\u001b[0m \u001b[0;34m\u001b[0m\u001b[0m\n\u001b[1;32m    721\u001b[0m     \u001b[0;32mdef\u001b[0m \u001b[0m__call__\u001b[0m\u001b[0;34m(\u001b[0m\u001b[0mself\u001b[0m\u001b[0;34m,\u001b[0m \u001b[0miterable\u001b[0m\u001b[0;34m)\u001b[0m\u001b[0;34m:\u001b[0m\u001b[0;34m\u001b[0m\u001b[0m\n",
      "\u001b[0;32m/usr/local/lib/python3.5/dist-packages/sklearn/externals/joblib/parallel.py\u001b[0m in \u001b[0;36mretrieve\u001b[0;34m(self)\u001b[0m\n\u001b[1;32m    680\u001b[0m                 \u001b[0;31m# check if timeout supported in backend future implementation\u001b[0m\u001b[0;34m\u001b[0m\u001b[0;34m\u001b[0m\u001b[0m\n\u001b[1;32m    681\u001b[0m                 \u001b[0;32mif\u001b[0m \u001b[0;34m'timeout'\u001b[0m \u001b[0;32min\u001b[0m \u001b[0mgetfullargspec\u001b[0m\u001b[0;34m(\u001b[0m\u001b[0mjob\u001b[0m\u001b[0;34m.\u001b[0m\u001b[0mget\u001b[0m\u001b[0;34m)\u001b[0m\u001b[0;34m.\u001b[0m\u001b[0margs\u001b[0m\u001b[0;34m:\u001b[0m\u001b[0;34m\u001b[0m\u001b[0m\n\u001b[0;32m--> 682\u001b[0;31m                     \u001b[0mself\u001b[0m\u001b[0;34m.\u001b[0m\u001b[0m_output\u001b[0m\u001b[0;34m.\u001b[0m\u001b[0mextend\u001b[0m\u001b[0;34m(\u001b[0m\u001b[0mjob\u001b[0m\u001b[0;34m.\u001b[0m\u001b[0mget\u001b[0m\u001b[0;34m(\u001b[0m\u001b[0mtimeout\u001b[0m\u001b[0;34m=\u001b[0m\u001b[0mself\u001b[0m\u001b[0;34m.\u001b[0m\u001b[0mtimeout\u001b[0m\u001b[0;34m)\u001b[0m\u001b[0;34m)\u001b[0m\u001b[0;34m\u001b[0m\u001b[0m\n\u001b[0m\u001b[1;32m    683\u001b[0m                 \u001b[0;32melse\u001b[0m\u001b[0;34m:\u001b[0m\u001b[0;34m\u001b[0m\u001b[0m\n\u001b[1;32m    684\u001b[0m                     \u001b[0mself\u001b[0m\u001b[0;34m.\u001b[0m\u001b[0m_output\u001b[0m\u001b[0;34m.\u001b[0m\u001b[0mextend\u001b[0m\u001b[0;34m(\u001b[0m\u001b[0mjob\u001b[0m\u001b[0;34m.\u001b[0m\u001b[0mget\u001b[0m\u001b[0;34m(\u001b[0m\u001b[0;34m)\u001b[0m\u001b[0;34m)\u001b[0m\u001b[0;34m\u001b[0m\u001b[0m\n",
      "\u001b[0;32m/usr/lib/python3.5/multiprocessing/pool.py\u001b[0m in \u001b[0;36mget\u001b[0;34m(self, timeout)\u001b[0m\n\u001b[1;32m    600\u001b[0m \u001b[0;34m\u001b[0m\u001b[0m\n\u001b[1;32m    601\u001b[0m     \u001b[0;32mdef\u001b[0m \u001b[0mget\u001b[0m\u001b[0;34m(\u001b[0m\u001b[0mself\u001b[0m\u001b[0;34m,\u001b[0m \u001b[0mtimeout\u001b[0m\u001b[0;34m=\u001b[0m\u001b[0;32mNone\u001b[0m\u001b[0;34m)\u001b[0m\u001b[0;34m:\u001b[0m\u001b[0;34m\u001b[0m\u001b[0m\n\u001b[0;32m--> 602\u001b[0;31m         \u001b[0mself\u001b[0m\u001b[0;34m.\u001b[0m\u001b[0mwait\u001b[0m\u001b[0;34m(\u001b[0m\u001b[0mtimeout\u001b[0m\u001b[0;34m)\u001b[0m\u001b[0;34m\u001b[0m\u001b[0m\n\u001b[0m\u001b[1;32m    603\u001b[0m         \u001b[0;32mif\u001b[0m \u001b[0;32mnot\u001b[0m \u001b[0mself\u001b[0m\u001b[0;34m.\u001b[0m\u001b[0mready\u001b[0m\u001b[0;34m(\u001b[0m\u001b[0;34m)\u001b[0m\u001b[0;34m:\u001b[0m\u001b[0;34m\u001b[0m\u001b[0m\n\u001b[1;32m    604\u001b[0m             \u001b[0;32mraise\u001b[0m \u001b[0mTimeoutError\u001b[0m\u001b[0;34m\u001b[0m\u001b[0m\n",
      "\u001b[0;32m/usr/lib/python3.5/multiprocessing/pool.py\u001b[0m in \u001b[0;36mwait\u001b[0;34m(self, timeout)\u001b[0m\n\u001b[1;32m    597\u001b[0m \u001b[0;34m\u001b[0m\u001b[0m\n\u001b[1;32m    598\u001b[0m     \u001b[0;32mdef\u001b[0m \u001b[0mwait\u001b[0m\u001b[0;34m(\u001b[0m\u001b[0mself\u001b[0m\u001b[0;34m,\u001b[0m \u001b[0mtimeout\u001b[0m\u001b[0;34m=\u001b[0m\u001b[0;32mNone\u001b[0m\u001b[0;34m)\u001b[0m\u001b[0;34m:\u001b[0m\u001b[0;34m\u001b[0m\u001b[0m\n\u001b[0;32m--> 599\u001b[0;31m         \u001b[0mself\u001b[0m\u001b[0;34m.\u001b[0m\u001b[0m_event\u001b[0m\u001b[0;34m.\u001b[0m\u001b[0mwait\u001b[0m\u001b[0;34m(\u001b[0m\u001b[0mtimeout\u001b[0m\u001b[0;34m)\u001b[0m\u001b[0;34m\u001b[0m\u001b[0m\n\u001b[0m\u001b[1;32m    600\u001b[0m \u001b[0;34m\u001b[0m\u001b[0m\n\u001b[1;32m    601\u001b[0m     \u001b[0;32mdef\u001b[0m \u001b[0mget\u001b[0m\u001b[0;34m(\u001b[0m\u001b[0mself\u001b[0m\u001b[0;34m,\u001b[0m \u001b[0mtimeout\u001b[0m\u001b[0;34m=\u001b[0m\u001b[0;32mNone\u001b[0m\u001b[0;34m)\u001b[0m\u001b[0;34m:\u001b[0m\u001b[0;34m\u001b[0m\u001b[0m\n",
      "\u001b[0;32m/usr/lib/python3.5/threading.py\u001b[0m in \u001b[0;36mwait\u001b[0;34m(self, timeout)\u001b[0m\n\u001b[1;32m    547\u001b[0m             \u001b[0msignaled\u001b[0m \u001b[0;34m=\u001b[0m \u001b[0mself\u001b[0m\u001b[0;34m.\u001b[0m\u001b[0m_flag\u001b[0m\u001b[0;34m\u001b[0m\u001b[0m\n\u001b[1;32m    548\u001b[0m             \u001b[0;32mif\u001b[0m \u001b[0;32mnot\u001b[0m \u001b[0msignaled\u001b[0m\u001b[0;34m:\u001b[0m\u001b[0;34m\u001b[0m\u001b[0m\n\u001b[0;32m--> 549\u001b[0;31m                 \u001b[0msignaled\u001b[0m \u001b[0;34m=\u001b[0m \u001b[0mself\u001b[0m\u001b[0;34m.\u001b[0m\u001b[0m_cond\u001b[0m\u001b[0;34m.\u001b[0m\u001b[0mwait\u001b[0m\u001b[0;34m(\u001b[0m\u001b[0mtimeout\u001b[0m\u001b[0;34m)\u001b[0m\u001b[0;34m\u001b[0m\u001b[0m\n\u001b[0m\u001b[1;32m    550\u001b[0m             \u001b[0;32mreturn\u001b[0m \u001b[0msignaled\u001b[0m\u001b[0;34m\u001b[0m\u001b[0m\n\u001b[1;32m    551\u001b[0m \u001b[0;34m\u001b[0m\u001b[0m\n",
      "\u001b[0;32m/usr/lib/python3.5/threading.py\u001b[0m in \u001b[0;36mwait\u001b[0;34m(self, timeout)\u001b[0m\n\u001b[1;32m    291\u001b[0m         \u001b[0;32mtry\u001b[0m\u001b[0;34m:\u001b[0m    \u001b[0;31m# restore state no matter what (e.g., KeyboardInterrupt)\u001b[0m\u001b[0;34m\u001b[0m\u001b[0m\n\u001b[1;32m    292\u001b[0m             \u001b[0;32mif\u001b[0m \u001b[0mtimeout\u001b[0m \u001b[0;32mis\u001b[0m \u001b[0;32mNone\u001b[0m\u001b[0;34m:\u001b[0m\u001b[0;34m\u001b[0m\u001b[0m\n\u001b[0;32m--> 293\u001b[0;31m                 \u001b[0mwaiter\u001b[0m\u001b[0;34m.\u001b[0m\u001b[0macquire\u001b[0m\u001b[0;34m(\u001b[0m\u001b[0;34m)\u001b[0m\u001b[0;34m\u001b[0m\u001b[0m\n\u001b[0m\u001b[1;32m    294\u001b[0m                 \u001b[0mgotit\u001b[0m \u001b[0;34m=\u001b[0m \u001b[0;32mTrue\u001b[0m\u001b[0;34m\u001b[0m\u001b[0m\n\u001b[1;32m    295\u001b[0m             \u001b[0;32melse\u001b[0m\u001b[0;34m:\u001b[0m\u001b[0;34m\u001b[0m\u001b[0m\n",
      "\u001b[0;31mKeyboardInterrupt\u001b[0m: "
     ]
    }
   ],
   "source": [
    "strict_param_test1 = []\n",
    "for seed in random_seeds:\n",
    "    strict_list = pickle.load(open('../../Results/Yeast/result_list/yeast_strict_list_SR_dims_param_'+str(seed)+'_results_list.pkl', 'rb'))\n",
    "    gsearch1.fit(strict_list[0], strict_list[2])\n",
    "    strict_param_test1.append((seed, (gsearch1.best_params_, gsearch1.best_score_)))"
   ]
  },
  {
   "cell_type": "code",
   "execution_count": null,
   "metadata": {
    "collapsed": true
   },
   "outputs": [],
   "source": [
    "gen_param_test1 = []\n",
    "for seed in random_seeds:\n",
    "    gen_list = pickle.load(open('../../Results/Yeast/result_list/yeast_strict_list_GEN_dims_param_'+str(seed)+'_results_list.pkl', 'rb'))\n",
    "    gsearch1.fit(gen_list[0], gen_list[2])\n",
    "    gen_param_test1.append((seed, (gsearch1.best_params_, gsearch1.best_score_)))"
   ]
  },
  {
   "cell_type": "code",
   "execution_count": null,
   "metadata": {
    "collapsed": true
   },
   "outputs": [],
   "source": [
    "be_param_test1 = []\n",
    "for seed in random_seeds:\n",
    "    be_list = pickle.load(open('../../Results/Yeast/result_list/yeast_strict_list_BE_dims_param_'+str(seed)+'_results_list.pkl', 'rb'))\n",
    "    gsearch1.fit(be_list[0], be_list[2])\n",
    "    be_param_test1.append((seed, (gsearch1.best_params_, gsearch1.best_score_)))"
   ]
  },
  {
   "cell_type": "code",
   "execution_count": null,
   "metadata": {
    "collapsed": true
   },
   "outputs": [],
   "source": [
    "for i in range(10):\n",
    "    print('\\n', strict_param_test1[i], '\\n', gen_param_test1[i], '\\n', be_param_test1[i], '\\n')"
   ]
  },
  {
   "cell_type": "code",
   "execution_count": null,
   "metadata": {
    "collapsed": true
   },
   "outputs": [],
   "source": []
  }
 ],
 "metadata": {
  "kernelspec": {
   "display_name": "Python 3",
   "language": "python",
   "name": "python3"
  },
  "language_info": {
   "codemirror_mode": {
    "name": "ipython",
    "version": 3
   },
   "file_extension": ".py",
   "mimetype": "text/x-python",
   "name": "python",
   "nbconvert_exporter": "python",
   "pygments_lexer": "ipython3",
   "version": "3.5.2"
  }
 },
 "nbformat": 4,
 "nbformat_minor": 2
}
