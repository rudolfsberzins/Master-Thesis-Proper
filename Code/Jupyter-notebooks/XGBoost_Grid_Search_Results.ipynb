{
 "cells": [
  {
   "cell_type": "code",
   "execution_count": 5,
   "metadata": {
    "collapsed": true,
    "deletable": true,
    "editable": true
   },
   "outputs": [],
   "source": [
    "import pickle\n",
    "import numpy as np\n",
    "import re\n",
    "import os"
   ]
  },
  {
   "cell_type": "code",
   "execution_count": 17,
   "metadata": {
    "collapsed": true,
    "deletable": true,
    "editable": true
   },
   "outputs": [],
   "source": [
    "def mult_open(direct, pattern):\n",
    "    pickle_list = []\n",
    "    file_list = []\n",
    "    for f in os.listdir(direct):\n",
    "        if re.search(pattern, f):\n",
    "            f = f.split('_')\n",
    "            f[-1] = f[-1][:-4]\n",
    "            file_list.append(f)\n",
    "    file_list.sort(key = lambda x: int(x[2]))\n",
    "    for file in file_list:\n",
    "        file = '_'.join(file)\n",
    "        file = file + '.pkl'\n",
    "        pkl = pickle.load(open(os.path.join(direct, file), 'rb'))\n",
    "        pickle_list.append(pkl)\n",
    "    return pickle_list"
   ]
  },
  {
   "cell_type": "code",
   "execution_count": 29,
   "metadata": {
    "collapsed": false,
    "deletable": true,
    "editable": true
   },
   "outputs": [],
   "source": [
    "folder = '../../Results/GSCV_Results/'\n",
    "STRICT = mult_open(folder, 'GSCV_SR')\n",
    "GEN = mult_open(folder, 'GSCV_GEN')\n",
    "BE = mult_open(folder, 'GSCV_BE')\n",
    "random_seeds = [144, 235, 905, 2895, 3462, 4225, 5056, 5192, 7751, 7813]"
   ]
  },
  {
   "cell_type": "code",
   "execution_count": 34,
   "metadata": {
    "collapsed": false,
    "deletable": true,
    "editable": true
   },
   "outputs": [],
   "source": [
    "STRICT_subsample = []\n",
    "STRICT_colsample_bytree = []\n",
    "STRICT_gamma = []\n",
    "STRICT_min_child_weight = []\n",
    "STRICT_max_depth = []\n",
    "STRICT_reg_alpha = []\n",
    "for i in range(10):\n",
    "#     print(random_seeds[i], STRICT[i][1], STRICT[i][2])\n",
    "    STRICT_subsample.append(STRICT[i][1]['subsample'])\n",
    "    STRICT_colsample_bytree.append(STRICT[i][1]['colsample_bytree'])\n",
    "    STRICT_gamma.append(STRICT[i][1]['gamma'])\n",
    "    STRICT_min_child_weight.append(STRICT[i][1]['min_child_weight'])\n",
    "    STRICT_max_depth.append(STRICT[i][1]['max_depth'])\n",
    "    STRICT_reg_alpha.append(STRICT[i][1]['reg_alpha'])"
   ]
  },
  {
   "cell_type": "code",
   "execution_count": 35,
   "metadata": {
    "collapsed": false,
    "deletable": true,
    "editable": true
   },
   "outputs": [],
   "source": [
    "GEN_subsample = []\n",
    "GEN_colsample_bytree = []\n",
    "GEN_gamma = []\n",
    "GEN_min_child_weight = []\n",
    "GEN_max_depth = []\n",
    "GEN_reg_alpha = []\n",
    "for i in range(10):\n",
    "#     print(random_seeds[i], STRICT[i][1], STRICT[i][2])\n",
    "    GEN_subsample.append(GEN[i][1]['subsample'])\n",
    "    GEN_colsample_bytree.append(GEN[i][1]['colsample_bytree'])\n",
    "    GEN_gamma.append(GEN[i][1]['gamma'])\n",
    "    GEN_min_child_weight.append(GEN[i][1]['min_child_weight'])\n",
    "    GEN_max_depth.append(GEN[i][1]['max_depth'])\n",
    "    GEN_reg_alpha.append(GEN[i][1]['reg_alpha'])"
   ]
  },
  {
   "cell_type": "code",
   "execution_count": 36,
   "metadata": {
    "collapsed": false,
    "deletable": true,
    "editable": true
   },
   "outputs": [],
   "source": [
    "BE_subsample = []\n",
    "BE_colsample_bytree = []\n",
    "BE_gamma = []\n",
    "BE_min_child_weight = []\n",
    "BE_max_depth = []\n",
    "BE_reg_alpha = []\n",
    "for i in range(10):\n",
    "#     print(random_seeds[i], STRICT[i][1], STRICT[i][2])\n",
    "    BE_subsample.append(BE[i][1]['subsample'])\n",
    "    BE_colsample_bytree.append(BE[i][1]['colsample_bytree'])\n",
    "    BE_gamma.append(BE[i][1]['gamma'])\n",
    "    BE_min_child_weight.append(BE[i][1]['min_child_weight'])\n",
    "    BE_max_depth.append(BE[i][1]['max_depth'])\n",
    "    BE_reg_alpha.append(BE[i][1]['reg_alpha'])"
   ]
  },
  {
   "cell_type": "code",
   "execution_count": 37,
   "metadata": {
    "collapsed": true,
    "deletable": true,
    "editable": true
   },
   "outputs": [],
   "source": [
    "def most_common(lst):\n",
    "    return max(set(lst), key=lst.count)"
   ]
  },
  {
   "cell_type": "code",
   "execution_count": 38,
   "metadata": {
    "collapsed": true,
    "deletable": true,
    "editable": true
   },
   "outputs": [],
   "source": [
    "best_STRICT = {'subsample': most_common(STRICT_subsample),\n",
    "               'colsample_bytree': most_common(STRICT_colsample_bytree),\n",
    "               'gamma': most_common(STRICT_gamma),\n",
    "               'min_child_weight': most_common(STRICT_min_child_weight),\n",
    "               'max_depth': most_common(STRICT_max_depth),\n",
    "               'reg_alpha': most_common(STRICT_reg_alpha)}"
   ]
  },
  {
   "cell_type": "code",
   "execution_count": 39,
   "metadata": {
    "collapsed": true,
    "deletable": true,
    "editable": true
   },
   "outputs": [],
   "source": [
    "best_GEN = {'subsample': most_common(GEN_subsample),\n",
    "               'colsample_bytree': most_common(GEN_colsample_bytree),\n",
    "               'gamma': most_common(GEN_gamma),\n",
    "               'min_child_weight': most_common(GEN_min_child_weight),\n",
    "               'max_depth': most_common(GEN_max_depth),\n",
    "               'reg_alpha': most_common(GEN_reg_alpha)}"
   ]
  },
  {
   "cell_type": "code",
   "execution_count": 40,
   "metadata": {
    "collapsed": true,
    "deletable": true,
    "editable": true
   },
   "outputs": [],
   "source": [
    "best_BE = {'subsample': most_common(BE_subsample),\n",
    "               'colsample_bytree': most_common(BE_colsample_bytree),\n",
    "               'gamma': most_common(BE_gamma),\n",
    "               'min_child_weight': most_common(BE_min_child_weight),\n",
    "               'max_depth': most_common(BE_max_depth),\n",
    "               'reg_alpha': most_common(BE_reg_alpha)}"
   ]
  },
  {
   "cell_type": "code",
   "execution_count": 41,
   "metadata": {
    "collapsed": false,
    "deletable": true,
    "editable": true
   },
   "outputs": [
    {
     "name": "stdout",
     "output_type": "stream",
     "text": [
      "{'subsample': 0.6, 'colsample_bytree': 0.7, 'gamma': 0.2, 'min_child_weight': 1, 'max_depth': 6, 'reg_alpha': 0.005}\n",
      "{'subsample': 0.8, 'colsample_bytree': 0.9, 'gamma': 0.3, 'min_child_weight': 1, 'max_depth': 3, 'reg_alpha': 0.01}\n",
      "{'subsample': 0.6, 'colsample_bytree': 0.8, 'gamma': 0.0, 'min_child_weight': 1, 'max_depth': 6, 'reg_alpha': 0.1}\n"
     ]
    }
   ],
   "source": [
    "print(best_STRICT)\n",
    "print(best_GEN)\n",
    "print(best_BE)"
   ]
  },
  {
   "cell_type": "code",
   "execution_count": 42,
   "metadata": {
    "collapsed": true,
    "deletable": true,
    "editable": true
   },
   "outputs": [],
   "source": [
    "best_params = {'subsample': 0.6,\n",
    "               'colsample_bytree': 0.8,\n",
    "               'gamma': 0.2,\n",
    "               'min_child_weight': 1,\n",
    "               'max_depth': 6,\n",
    "               'reg_alpha': 0.01}"
   ]
  },
  {
   "cell_type": "code",
   "execution_count": 8,
   "metadata": {
    "collapsed": false,
    "deletable": true,
    "editable": true
   },
   "outputs": [
    {
     "name": "stdout",
     "output_type": "stream",
     "text": [
      "['a', 'b', 'c', 'd', 't_a']\n",
      "['a', 'b', 'c', 'd', 't_a', 't_b']\n",
      "['a', 'b', 'c', 'd', 't_a', 't_b', 't_c']\n",
      "['a', 'b', 'c', 'd', 't_a', 't_b', 't_c', 't_d']\n",
      "['a', 'b', 'c', 'd', 't_a', 't_b', 't_c']\n"
     ]
    }
   ],
   "source": [
    "p = 't'\n",
    "a = ['a', 'b', 'c', 'd']\n",
    "b = a\n",
    "for i in a:\n",
    "    z = p+'_'+i\n",
    "    b = b + [z]\n",
    "a = a[len()]"
   ]
  },
  {
   "cell_type": "code",
   "execution_count": 9,
   "metadata": {
    "collapsed": true
   },
   "outputs": [],
   "source": [
    "import itertools"
   ]
  },
  {
   "cell_type": "code",
   "execution_count": 86,
   "metadata": {
    "collapsed": false
   },
   "outputs": [],
   "source": [
    "a = ['drosophila', 'yeast', 'rat', 'mouse', 'human']\n",
    "def iterator(lst):\n",
    "    for i in lst:\n",
    "        yield i\n"
   ]
  },
  {
   "cell_type": "code",
   "execution_count": 90,
   "metadata": {
    "collapsed": false
   },
   "outputs": [
    {
     "name": "stdout",
     "output_type": "stream",
     "text": [
      "drosophila yeast\n",
      "drosophila rat\n",
      "drosophila mouse\n",
      "drosophila human\n",
      "drosophila_rat yeast\n",
      "drosophila_mouse yeast\n",
      "drosophila_human yeast\n",
      "drosophila_mouse rat\n",
      "drosophila_human rat\n",
      "drosophila_human mouse\n",
      "drosophila_rat_mouse yeast\n",
      "drosophila_rat_human yeast\n",
      "drosophila_mouse_human yeast\n",
      "drosophila_mouse_human rat\n",
      "drosophila_rat_mouse_human yeast\n"
     ]
    }
   ],
   "source": [
    "# for i in a[1:]:\n",
    "#     print(a[0]+i)\n",
    "\n",
    "all_names = []\n",
    "for j in range(1, 5):\n",
    "    z = itertools.combinations(iterator(a[1:]), j)\n",
    "    for i in z:\n",
    "        d = '_'.join(list(i))\n",
    "        all_names.append(d)\n",
    "for single_name in all_names:\n",
    "    splt = single_name.split('_', 1)\n",
    "    name_target = splt[0]\n",
    "    if len(splt) == 1:\n",
    "        name_start = a[0]\n",
    "    else:\n",
    "        name_start = a[0]+'_'+splt[1]\n",
    "    print(name_start, name_target)"
   ]
  },
  {
   "cell_type": "code",
   "execution_count": null,
   "metadata": {
    "collapsed": true
   },
   "outputs": [],
   "source": []
  }
 ],
 "metadata": {
  "kernelspec": {
   "display_name": "Python 3",
   "language": "python",
   "name": "python3"
  },
  "language_info": {
   "codemirror_mode": {
    "name": "ipython",
    "version": 3
   },
   "file_extension": ".py",
   "mimetype": "text/x-python",
   "name": "python",
   "nbconvert_exporter": "python",
   "pygments_lexer": "ipython3",
   "version": "3.5.2"
  }
 },
 "nbformat": 4,
 "nbformat_minor": 2
}
